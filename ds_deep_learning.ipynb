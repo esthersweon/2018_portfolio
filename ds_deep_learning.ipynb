{
 "cells": [
  {
   "cell_type": "markdown",
   "metadata": {
    "_uuid": "bba1251c788b599b28545e891482886aaae67913"
   },
   "source": [
    "# Using Deep Learning to Identify Images of Fruits\n",
    "\n",
    "I will be using deep learning techniques via the Keras API to train a Convolutional Neural Network (CNN) model on a dataset of fruit images, and evaluate this model's accuracy on a separate test dataset of fruit images.\n",
    "\n",
    "I will be focusing on optimizing my CNN model to give me the highest possible accuracy on both my training & test data.\n",
    "\n",
    "## Importing Training & Test Images"
   ]
  },
  {
   "cell_type": "code",
   "execution_count": 7,
   "metadata": {
    "_cell_guid": "b1076dfc-b9ad-4769-8c92-a6c4dae69d19",
    "_uuid": "8f2839f25d086af736a60e9eeb907d3b93b6e0e5"
   },
   "outputs": [
    {
     "name": "stderr",
     "output_type": "stream",
     "text": [
      "  0%|          | 0/490 [00:00<?, ?it/s]/anaconda3/lib/python3.6/site-packages/skimage/transform/_warps.py:84: UserWarning: The default mode, 'constant', will be changed to 'reflect' in skimage 0.15.\n",
      "  warn(\"The default mode, 'constant', will be changed to 'reflect' in \"\n",
      "100%|██████████| 490/490 [00:01<00:00, 398.41it/s]\n",
      "100%|██████████| 490/490 [00:01<00:00, 411.10it/s]\n",
      "100%|██████████| 738/738 [00:01<00:00, 404.98it/s]\n",
      "100%|██████████| 492/492 [00:01<00:00, 398.53it/s]\n",
      "100%|██████████| 492/492 [00:01<00:00, 391.50it/s]\n",
      "100%|██████████| 492/492 [00:01<00:00, 395.73it/s]\n",
      "100%|██████████| 427/427 [00:01<00:00, 394.85it/s]\n",
      "100%|██████████| 492/492 [00:01<00:00, 407.52it/s]\n",
      "100%|██████████| 490/490 [00:01<00:00, 411.67it/s]\n",
      "100%|██████████| 490/490 [00:01<00:00, 404.10it/s]\n",
      "100%|██████████| 490/490 [00:01<00:00, 351.44it/s]\n",
      "100%|██████████| 490/490 [00:01<00:00, 357.43it/s]\n",
      "100%|██████████| 466/466 [00:01<00:00, 360.25it/s]\n",
      "100%|██████████| 492/492 [00:01<00:00, 356.84it/s]\n",
      "100%|██████████| 492/492 [00:01<00:00, 354.51it/s]\n",
      "100%|██████████| 490/490 [00:01<00:00, 345.54it/s]\n",
      "100%|██████████| 492/492 [00:01<00:00, 347.27it/s]\n",
      "100%|██████████| 492/492 [00:01<00:00, 349.27it/s]\n",
      "100%|██████████| 490/490 [00:01<00:00, 349.54it/s]\n",
      "100%|██████████| 490/490 [00:01<00:00, 353.82it/s]\n",
      "100%|██████████| 738/738 [00:02<00:00, 342.88it/s]\n",
      "100%|██████████| 490/490 [00:01<00:00, 337.15it/s]\n",
      "100%|██████████| 490/490 [00:01<00:00, 345.55it/s]\n",
      "100%|██████████| 490/490 [00:01<00:00, 347.68it/s]\n",
      "100%|██████████| 481/481 [00:01<00:00, 352.42it/s]\n",
      "100%|██████████| 492/492 [00:01<00:00, 357.18it/s]\n",
      "100%|██████████| 490/490 [00:01<00:00, 343.18it/s]\n",
      "100%|██████████| 492/492 [00:01<00:00, 282.26it/s]\n",
      "100%|██████████| 738/738 [00:02<00:00, 342.87it/s]\n",
      "100%|██████████| 490/490 [00:01<00:00, 354.55it/s]\n",
      "100%|██████████| 447/447 [00:01<00:00, 296.21it/s]\n",
      "100%|██████████| 492/492 [00:01<00:00, 339.68it/s]\n",
      "100%|██████████| 492/492 [00:01<00:00, 351.50it/s]\n",
      "100%|██████████| 492/492 [00:01<00:00, 345.24it/s]\n",
      "100%|██████████| 490/490 [00:01<00:00, 336.13it/s]\n",
      "100%|██████████| 166/166 [00:00<00:00, 366.88it/s]\n",
      "100%|██████████| 166/166 [00:00<00:00, 364.02it/s]\n",
      "100%|██████████| 246/246 [00:00<00:00, 365.28it/s]\n",
      "100%|██████████| 164/164 [00:00<00:00, 349.82it/s]\n",
      "100%|██████████| 164/164 [00:00<00:00, 358.13it/s]\n",
      "100%|██████████| 165/165 [00:00<00:00, 360.12it/s]\n",
      "100%|██████████| 143/143 [00:00<00:00, 349.36it/s]\n",
      "100%|██████████| 164/164 [00:00<00:00, 363.15it/s]\n",
      "100%|██████████| 166/166 [00:00<00:00, 349.02it/s]\n",
      "100%|██████████| 166/166 [00:00<00:00, 359.60it/s]\n",
      "100%|██████████| 166/166 [00:00<00:00, 368.79it/s]\n",
      "100%|██████████| 166/166 [00:00<00:00, 356.06it/s]\n",
      "100%|██████████| 156/156 [00:00<00:00, 353.13it/s]\n",
      "100%|██████████| 164/164 [00:00<00:00, 374.89it/s]\n",
      "100%|██████████| 164/164 [00:00<00:00, 365.75it/s]\n",
      "100%|██████████| 166/166 [00:00<00:00, 360.75it/s]\n",
      "100%|██████████| 165/165 [00:00<00:00, 357.09it/s]\n",
      "100%|██████████| 164/164 [00:00<00:00, 349.38it/s]\n",
      "100%|██████████| 166/166 [00:00<00:00, 350.07it/s]\n",
      "100%|██████████| 167/167 [00:00<00:00, 361.17it/s]\n",
      "100%|██████████| 247/247 [00:00<00:00, 361.83it/s]\n",
      "100%|██████████| 166/166 [00:00<00:00, 359.76it/s]\n",
      "100%|██████████| 166/166 [00:00<00:00, 355.36it/s]\n",
      "100%|██████████| 166/166 [00:00<00:00, 375.61it/s]\n",
      "100%|██████████| 161/161 [00:00<00:00, 364.20it/s]\n",
      "100%|██████████| 164/164 [00:00<00:00, 367.02it/s]\n",
      "100%|██████████| 166/166 [00:00<00:00, 362.68it/s]\n",
      "100%|██████████| 164/164 [00:00<00:00, 356.40it/s]\n",
      "100%|██████████| 246/246 [00:00<00:00, 360.02it/s]\n",
      "100%|██████████| 166/166 [00:00<00:00, 361.74it/s]\n",
      "100%|██████████| 151/151 [00:00<00:00, 355.58it/s]\n",
      "100%|██████████| 164/164 [00:00<00:00, 352.54it/s]\n",
      "100%|██████████| 164/164 [00:00<00:00, 358.56it/s]\n",
      "100%|██████████| 164/164 [00:00<00:00, 355.51it/s]\n",
      "100%|██████████| 166/166 [00:00<00:00, 357.15it/s]\n"
     ]
    }
   ],
   "source": [
    "import os\n",
    "from tqdm import tqdm\n",
    "\n",
    "import numpy as np\n",
    "import pandas as pd\n",
    "import skimage\n",
    "from skimage import io, transform\n",
    "from IPython.display import Image, display\n",
    "\n",
    "import keras\n",
    "from keras.models import Sequential\n",
    "from keras.layers import Dense, Dropout, Flatten, Conv2D, MaxPooling2D, BatchNormalization\n",
    "from keras.layers import LSTM, Input\n",
    "from keras.models import Model\n",
    "from keras.optimizers import Adam\n",
    "\n",
    "img_size = 100\n",
    "train_dir = './data/fruits/train/'\n",
    "test_dir = './data/fruits/test/'\n",
    "\n",
    "def get_data(folder_path):\n",
    "    imgs = []\n",
    "    indices = []\n",
    "    labels = []\n",
    "    for idx, folder_name in enumerate(os.listdir(folder_path)[:35]):\n",
    "        if not folder_name.startswith('.'):\n",
    "            labels.append(folder_name)\n",
    "            for file_name in tqdm(os.listdir(folder_path + folder_name)):\n",
    "                if not file_name.startswith('.'):\n",
    "                    img_file = io.imread(folder_path + folder_name + '/' + file_name)\n",
    "                    if img_file is not None:\n",
    "                        img_file = transform.resize(img_file, (img_size, img_size))\n",
    "                        imgs.append(np.asarray(img_file))\n",
    "                        indices.append(idx)\n",
    "    imgs = np.asarray(imgs)\n",
    "    indices = np.asarray(indices)\n",
    "    labels = np.asarray(labels)\n",
    "    return imgs, indices, labels\n",
    "\n",
    "X_train, y_train, train_labels = get_data(train_dir)\n",
    "X_test, y_test, test_labels = get_data(test_dir)"
   ]
  },
  {
   "cell_type": "markdown",
   "metadata": {
    "_cell_guid": "79c7e3d0-c299-4dcb-8224-4455121ee9b0",
    "_uuid": "d629ff2d2480ee46fbb7e2d37f6b5fab8052498a"
   },
   "source": [
    "## Data Wrangling"
   ]
  },
  {
   "cell_type": "code",
   "execution_count": 8,
   "metadata": {
    "_uuid": "d2b6e53ff4d63ee0800f862a35c37d446260faa4",
    "collapsed": true
   },
   "outputs": [
    {
     "name": "stdout",
     "output_type": "stream",
     "text": [
      "X_train shape: (17781, 100, 100, 3)\n",
      "X_test shape: (5971, 100, 100, 3)\n",
      "y_train: [ 0  0  0 ... 34 34 34]\n",
      "y_test: [ 0  0  0 ... 34 34 34]\n"
     ]
    }
   ],
   "source": [
    "print('X_train shape:', X_train.shape)\n",
    "print('X_test shape:', X_test.shape)\n",
    "print('y_train:', y_train)\n",
    "print('y_test:', y_test)\n",
    "# print('First image - X_train:', X_train[0])\n",
    "\n",
    "num_categories = len(np.unique(y_train))\n",
    "\n",
    "new_X_train = X_train.reshape(X_train.shape[0], X_train.shape[1], X_train.shape[2], X_train.shape[3]).astype('float32')\n",
    "new_X_test = X_test.reshape(X_test.shape[0], X_test.shape[1], X_test.shape[2], X_test.shape[3]).astype('float32')\n",
    "new_y_train = keras.utils.to_categorical(y_train, num_categories)\n",
    "new_y_test = keras.utils.to_categorical(y_test, num_categories)"
   ]
  },
  {
   "cell_type": "markdown",
   "metadata": {
    "_uuid": "a6a733842f97046a9d84d5bfc4f4706112be7089"
   },
   "source": [
    "## Exploratory Data Analysis"
   ]
  },
  {
   "cell_type": "code",
   "execution_count": 9,
   "metadata": {
    "_uuid": "daec20a5cf3d33f9152158f8966550226fe6cd70",
    "collapsed": true
   },
   "outputs": [],
   "source": [
    "def display_imgs(folder_path):\n",
    "    for idx, folder_name in enumerate(os.listdir(folder_path)):\n",
    "        if idx % 25 == 0:\n",
    "            if not folder_name.startswith('.'):\n",
    "                for idx2, file_name in enumerate(tqdm(os.listdir(folder_path + folder_name))):\n",
    "                    if idx2 % 75 == 0:\n",
    "                        if not file_name.startswith('.'):\n",
    "                            img_filename = folder_path + folder_name + '/' + file_name\n",
    "                            display(Image(filename=img_filename))"
   ]
  },
  {
   "cell_type": "markdown",
   "metadata": {
    "_uuid": "7ee4e6062b24df817decc7db886b1191db01c216"
   },
   "source": [
    "### Examples of Training Images"
   ]
  },
  {
   "cell_type": "code",
   "execution_count": 10,
   "metadata": {
    "_uuid": "0b1e099a114f62d93e16e1e8f67e5fe30e0a8af4",
    "collapsed": true
   },
   "outputs": [
    {
     "name": "stderr",
     "output_type": "stream",
     "text": [
      "  0%|          | 0/490 [00:00<?, ?it/s]"
     ]
    },
    {
     "data": {
      "image/jpeg": "[encoded data removed]",
      "text/plain": [
       "<IPython.core.display.Image object>"
      ]
     },
     "metadata": {},
     "output_type": "display_data"
    },
    {
     "data": {
      "image/jpeg": "[encoded data removed]",
      "text/plain": [
       "<IPython.core.display.Image object>"
      ]
     },
     "metadata": {},
     "output_type": "display_data"
    },
    {
     "data": {
      "image/jpeg": "[encoded data removed]",
      "text/plain": [
       "<IPython.core.display.Image object>"
      ]
     },
     "metadata": {},
     "output_type": "display_data"
    },
    {
     "data": {
      "image/jpeg": "[encoded data removed]",
      "text/plain": [
       "<IPython.core.display.Image object>"
      ]
     },
     "metadata": {},
     "output_type": "display_data"
    },
    {
     "data": {
      "image/jpeg": "[encoded data removed]",
      "text/plain": [
       "<IPython.core.display.Image object>"
      ]
     },
     "metadata": {},
     "output_type": "display_data"
    },
    {
     "data": {
      "image/jpeg": "[encoded data removed]",
      "text/plain": [
       "<IPython.core.display.Image object>"
      ]
     },
     "metadata": {},
     "output_type": "display_data"
    },
    {
     "data": {
      "image/jpeg": "[encoded data removed]",
      "text/plain": [
       "<IPython.core.display.Image object>"
      ]
     },
     "metadata": {},
     "output_type": "display_data"
    },
    {
     "name": "stderr",
     "output_type": "stream",
     "text": [
      "100%|██████████| 490/490 [00:00<00:00, 32023.57it/s]\n",
      "  0%|          | 0/492 [00:00<?, ?it/s]"
     ]
    },
    {
     "data": {
      "image/jpeg": "[encoded data removed]",
      "text/plain": [
       "<IPython.core.display.Image object>"
      ]
     },
     "metadata": {},
     "output_type": "display_data"
    },
    {
     "data": {
      "image/jpeg": "[encoded data removed]",
      "text/plain": [
       "<IPython.core.display.Image object>"
      ]
     },
     "metadata": {},
     "output_type": "display_data"
    },
    {
     "data": {
      "image/jpeg": "[encoded data removed]",
      "text/plain": [
       "<IPython.core.display.Image object>"
      ]
     },
     "metadata": {},
     "output_type": "display_data"
    },
    {
     "data": {
      "image/jpeg": "[encoded data removed]",
      "text/plain": [
       "<IPython.core.display.Image object>"
      ]
     },
     "metadata": {},
     "output_type": "display_data"
    },
    {
     "data": {
      "image/jpeg": "[encoded data removed]",
      "text/plain": [
       "<IPython.core.display.Image object>"
      ]
     },
     "metadata": {},
     "output_type": "display_data"
    },
    {
     "data": {
      "image/jpeg": "[encoded data removed]",
      "text/plain": [
       "<IPython.core.display.Image object>"
      ]
     },
     "metadata": {},
     "output_type": "display_data"
    },
    {
     "data": {
      "image/jpeg": "[encoded data removed]",
      "text/plain": [
       "<IPython.core.display.Image object>"
      ]
     },
     "metadata": {},
     "output_type": "display_data"
    },
    {
     "name": "stderr",
     "output_type": "stream",
     "text": [
      "100%|██████████| 492/492 [00:00<00:00, 52591.81it/s]\n",
      "  0%|          | 0/490 [00:00<?, ?it/s]"
     ]
    },
    {
     "data": {
      "image/jpeg": "[encoded data removed]",
      "text/plain": [
       "<IPython.core.display.Image object>"
      ]
     },
     "metadata": {},
     "output_type": "display_data"
    },
    {
     "data": {
      "image/jpeg": "[encoded data removed]",
      "text/plain": [
       "<IPython.core.display.Image object>"
      ]
     },
     "metadata": {},
     "output_type": "display_data"
    },
    {
     "data": {
      "image/jpeg": "[encoded data removed]",
      "text/plain": [
       "<IPython.core.display.Image object>"
      ]
     },
     "metadata": {},
     "output_type": "display_data"
    },
    {
     "data": {
      "image/jpeg": "[encoded data removed]",
      "text/plain": [
       "<IPython.core.display.Image object>"
      ]
     },
     "metadata": {},
     "output_type": "display_data"
    },
    {
     "data": {
      "image/jpeg": "[encoded data removed]",
      "text/plain": [
       "<IPython.core.display.Image object>"
      ]
     },
     "metadata": {},
     "output_type": "display_data"
    },
    {
     "data": {
      "image/jpeg": "[encoded data removed]",
      "text/plain": [
       "<IPython.core.display.Image object>"
      ]
     },
     "metadata": {},
     "output_type": "display_data"
    },
    {
     "data": {
      "image/jpeg": "[encoded data removed]",
      "text/plain": [
       "<IPython.core.display.Image object>"
      ]
     },
     "metadata": {},
     "output_type": "display_data"
    },
    {
     "name": "stderr",
     "output_type": "stream",
     "text": [
      "100%|██████████| 490/490 [00:00<00:00, 48333.98it/s]\n"
     ]
    }
   ],
   "source": [
    "display_imgs(train_dir)"
   ]
  },
  {
   "cell_type": "markdown",
   "metadata": {
    "_uuid": "f7a8eedd0e7a2a9659aae329fe1f053c4831b882"
   },
   "source": [
    "### Examples of Test Images"
   ]
  },
  {
   "cell_type": "code",
   "execution_count": 11,
   "metadata": {
    "_uuid": "187d471260911d090453ebb7f393e4930e6b5a28",
    "collapsed": true
   },
   "outputs": [
    {
     "name": "stderr",
     "output_type": "stream",
     "text": [
      "  0%|          | 0/166 [00:00<?, ?it/s]"
     ]
    },
    {
     "data": {
      "image/jpeg": "[encoded data removed]",
      "text/plain": [
       "<IPython.core.display.Image object>"
      ]
     },
     "metadata": {},
     "output_type": "display_data"
    },
    {
     "data": {
      "image/jpeg": "[encoded data removed]",
      "text/plain": [
       "<IPython.core.display.Image object>"
      ]
     },
     "metadata": {},
     "output_type": "display_data"
    },
    {
     "data": {
      "image/jpeg": "[encoded data removed]",
      "text/plain": [
       "<IPython.core.display.Image object>"
      ]
     },
     "metadata": {},
     "output_type": "display_data"
    },
    {
     "name": "stderr",
     "output_type": "stream",
     "text": [
      "100%|██████████| 166/166 [00:00<00:00, 29776.10it/s]\n",
      "  0%|          | 0/164 [00:00<?, ?it/s]"
     ]
    },
    {
     "data": {
      "image/jpeg": "[encoded data removed]",
      "text/plain": [
       "<IPython.core.display.Image object>"
      ]
     },
     "metadata": {},
     "output_type": "display_data"
    },
    {
     "data": {
      "image/jpeg": "[encoded data removed]",
      "text/plain": [
       "<IPython.core.display.Image object>"
      ]
     },
     "metadata": {},
     "output_type": "display_data"
    },
    {
     "data": {
      "image/jpeg": "[encoded data removed]",
      "text/plain": [
       "<IPython.core.display.Image object>"
      ]
     },
     "metadata": {},
     "output_type": "display_data"
    },
    {
     "name": "stderr",
     "output_type": "stream",
     "text": [
      "100%|██████████| 164/164 [00:00<00:00, 32063.85it/s]\n",
      "  0%|          | 0/166 [00:00<?, ?it/s]"
     ]
    },
    {
     "data": {
      "image/jpeg": "[encoded data removed]",
      "text/plain": [
       "<IPython.core.display.Image object>"
      ]
     },
     "metadata": {},
     "output_type": "display_data"
    },
    {
     "data": {
      "image/jpeg": "[encoded data removed]",
      "text/plain": [
       "<IPython.core.display.Image object>"
      ]
     },
     "metadata": {},
     "output_type": "display_data"
    },
    {
     "data": {
      "image/jpeg": "[encoded data removed]",
      "text/plain": [
       "<IPython.core.display.Image object>"
      ]
     },
     "metadata": {},
     "output_type": "display_data"
    },
    {
     "name": "stderr",
     "output_type": "stream",
     "text": [
      "100%|██████████| 166/166 [00:00<00:00, 34591.34it/s]\n"
     ]
    }
   ],
   "source": [
    "display_imgs(test_dir)"
   ]
  },
  {
   "cell_type": "markdown",
   "metadata": {
    "_uuid": "f5ac3fd9818637f6ce628d6abcc3c7c4f8e14bc2"
   },
   "source": [
    "## Initial Model Selection\n",
    "### Convolutional Neural Network (CNN)"
   ]
  },
  {
   "cell_type": "code",
   "execution_count": null,
   "metadata": {
    "_uuid": "882e982758253064cc542eb250e78f9f0c0be851",
    "collapsed": true
   },
   "outputs": [],
   "source": [
    "def evaluate_model(model, batch_size, epochs):\n",
    "    history = model.fit(new_X_train, new_y_train, batch_size=batch_size, epochs=epochs, verbose=1, validation_data=(new_X_test, new_y_test))\n",
    "    score = model.evaluate(new_X_test, new_y_test, verbose=0)\n",
    "    print('***Metrics Names***', model.metrics_names)\n",
    "    print('***Metrics Values***', score)"
   ]
  },
  {
   "cell_type": "code",
   "execution_count": null,
   "metadata": {
    "_uuid": "fa628de94ca588d5321883962c3493577b8ded0d",
    "collapsed": true
   },
   "outputs": [],
   "source": [
    "convolutional = Sequential()\n",
    "\n",
    "convolutional.add(Conv2D(32, kernel_size=(3,3), activation='relu', input_shape=(X_train.shape[1], X_train.shape[2], X_train.shape[3],)))\n",
    "convolutional.add(Conv2D(64, (3, 3), activation='relu'))\n",
    "convolutional.add(MaxPooling2D(pool_size=(2, 2)))\n",
    "convolutional.add(Dropout(0.25))\n",
    "\n",
    "convolutional.add(Flatten())\n",
    "convolutional.add(Dense(128, activation='relu'))\n",
    "convolutional.add(Dropout(0.5))\n",
    "convolutional.add(Dense(num_categories, activation='softmax'))\n",
    "\n",
    "convolutional.summary()\n",
    "convolutional.compile(loss=\"categorical_crossentropy\", optimizer=Adam(), metrics=['accuracy'])\n",
    "\n",
    "evaluate_model(convolutional, 128, 5)"
   ]
  },
  {
   "cell_type": "markdown",
   "metadata": {
    "_uuid": "4dbb88e68f313fff1eb8dbb54c10fb6dca34e312"
   },
   "source": [
    "From the above epochs, I can already see that my model is slightly over-fitting on my training data. Overall, my model is already performing at ~94% accuracy at its best, but is drastically overfitting. I will now be trying to optimize this model. \n",
    "\n",
    "## Optimizing the CNN Model\n",
    "### Strategy 1 – Increase Dropout Rates to Counter Overfitting"
   ]
  },
  {
   "cell_type": "code",
   "execution_count": null,
   "metadata": {
    "_uuid": "6cf840a87323d52d2ed65f62968b1467db9c8907",
    "collapsed": true
   },
   "outputs": [],
   "source": [
    "convolutional = Sequential()\n",
    "\n",
    "convolutional.add(Conv2D(32, kernel_size=(3,3), activation='relu', input_shape=(X_train.shape[1], X_train.shape[2], X_train.shape[3],)))\n",
    "convolutional.add(Conv2D(64, (3, 3), activation='relu'))\n",
    "convolutional.add(MaxPooling2D(pool_size=(2, 2)))\n",
    "convolutional.add(Dropout(0.6))\n",
    "\n",
    "convolutional.add(Flatten())\n",
    "convolutional.add(Dense(128, activation='relu'))\n",
    "convolutional.add(Dropout(0.6))\n",
    "convolutional.add(Dense(num_categories, activation='softmax'))\n",
    "\n",
    "convolutional.summary()\n",
    "convolutional.compile(loss=\"categorical_crossentropy\", optimizer=Adam(), metrics=['accuracy'])\n",
    "\n",
    "evaluate_model(convolutional, 128, 7)"
   ]
  },
  {
   "cell_type": "markdown",
   "metadata": {
    "_uuid": "f6e1a3110107eb4c6314cc3b41e70c4e03791ff9"
   },
   "source": [
    "Increasing the dropout does help with overfitting – it doesn't overfit until later in the epochs, and even then by a smaller percentage. Overall, this model has a better performance than my initial model, hovering at ~95% validation accuracy.\n",
    "\n",
    "### Strategy 2 – Use Different Loss Functions [Not Successful]"
   ]
  },
  {
   "cell_type": "code",
   "execution_count": null,
   "metadata": {
    "_uuid": "5bfce997dd56a47338f7f46ccc252a5674bb2ae1",
    "collapsed": true
   },
   "outputs": [],
   "source": [
    "def run_with_loss(loss):\n",
    "    convolutional = Sequential()\n",
    "\n",
    "    convolutional.add(Conv2D(32, kernel_size=(3,3), activation='relu', input_shape=(X_train.shape[1], X_train.shape[2], X_train.shape[3],)))\n",
    "    convolutional.add(Conv2D(64, (3, 3), activation='relu'))\n",
    "    convolutional.add(MaxPooling2D(pool_size=(2, 2)))\n",
    "    convolutional.add(Dropout(0.6))\n",
    "\n",
    "    convolutional.add(Flatten())\n",
    "    convolutional.add(Dense(128, activation='relu'))\n",
    "    convolutional.add(Dropout(0.6))\n",
    "    convolutional.add(Dense(num_categories, activation='softmax'))\n",
    "\n",
    "    convolutional.summary()\n",
    "    convolutional.compile(loss=loss, optimizer=Adam(), metrics=['accuracy'])\n",
    "\n",
    "    evaluate_model(convolutional, 128, 5)\n",
    "\n",
    "losses = ['mean_squared_error', 'mean_absolute_error', 'mean_squared_logarithmic_error']\n",
    "\n",
    "for loss in losses:\n",
    "    run_with_loss(loss)"
   ]
  },
  {
   "cell_type": "markdown",
   "metadata": {
    "_uuid": "742f372d722112e0831969fab9225600e9be67a0"
   },
   "source": [
    "None of these other loss functions show a significant improvement over the original loss function of 'categorical_crossentropy'. Of the 3 attempted, 'mean_squared_error' performed the best.\n",
    "\n",
    "### Strategy 3 – Add More Convolutional Layers [Successful]"
   ]
  },
  {
   "cell_type": "code",
   "execution_count": null,
   "metadata": {
    "_uuid": "a73a517d2a924dd975f81d944e4f099d1af55f2b",
    "collapsed": true,
    "scrolled": true
   },
   "outputs": [],
   "source": [
    "convolutional = Sequential()\n",
    "\n",
    "convolutional.add(Conv2D(32, kernel_size=(3,3), activation='relu', input_shape=(X_train.shape[1], X_train.shape[2], X_train.shape[3],)))\n",
    "convolutional.add(Conv2D(64, (3, 3), activation='relu'))\n",
    "convolutional.add(MaxPooling2D(pool_size=(2, 2)))\n",
    "convolutional.add(Dropout(0.35))\n",
    "\n",
    "# CHANGE\n",
    "convolutional.add(Conv2D(128, kernel_size=(3,3), activation='relu'))\n",
    "convolutional.add(Conv2D(256, (3, 3), activation='relu'))\n",
    "convolutional.add(MaxPooling2D(pool_size=(2, 2)))\n",
    "convolutional.add(Dropout(0.35))\n",
    "\n",
    "convolutional.add(Flatten())\n",
    "convolutional.add(Dense(512, activation='relu'))\n",
    "convolutional.add(Dropout(0.6))\n",
    "convolutional.add(Dense(num_categories, activation='softmax'))\n",
    "\n",
    "convolutional.summary()\n",
    "convolutional.compile(loss=\"categorical_crossentropy\", optimizer=Adam(), metrics=['accuracy'])\n",
    "\n",
    "evaluate_model(convolutional, 128, 5)"
   ]
  },
  {
   "cell_type": "markdown",
   "metadata": {
    "_uuid": "c56fe2dc77e51bd8e7f9fb8f628bf1a09f27c4d8"
   },
   "source": [
    "This model is still overfitting from the 3rd epoch onwards, but I am getting a slightly better performance with best validation accuracy of ~97%.\n",
    "\n",
    "### Strategy 4 – Decrease Batch Size [Successful]"
   ]
  },
  {
   "cell_type": "code",
   "execution_count": null,
   "metadata": {
    "_uuid": "7a104abe9b1a68096f0b9c398c9fbda1cc8ea02b",
    "collapsed": true
   },
   "outputs": [],
   "source": [
    "convolutional = Sequential()\n",
    "\n",
    "convolutional.add(Conv2D(32, kernel_size=(3,3), activation='relu', input_shape=(X_train.shape[1], X_train.shape[2], X_train.shape[3],)))\n",
    "convolutional.add(Conv2D(64, (3, 3), activation='relu'))\n",
    "convolutional.add(MaxPooling2D(pool_size=(2, 2)))\n",
    "convolutional.add(Dropout(0.35))\n",
    "\n",
    "# CHANGE\n",
    "convolutional.add(Conv2D(128, kernel_size=(3,3), activation='relu'))\n",
    "convolutional.add(Conv2D(256, (3, 3), activation='relu'))\n",
    "convolutional.add(MaxPooling2D(pool_size=(2, 2)))\n",
    "convolutional.add(Dropout(0.35))\n",
    "\n",
    "convolutional.add(Flatten())\n",
    "convolutional.add(Dense(512, activation='relu'))\n",
    "convolutional.add(Dropout(0.6))\n",
    "convolutional.add(Dense(num_categories, activation='softmax'))\n",
    "\n",
    "convolutional.summary()\n",
    "convolutional.compile(loss=\"categorical_crossentropy\", optimizer=Adam(), metrics=['accuracy'])\n",
    "\n",
    "evaluate_model(convolutional, 32, 5)"
   ]
  },
  {
   "cell_type": "markdown",
   "metadata": {
    "_uuid": "4e2deb29a2cdf8253eb84d368c93d3656b793415"
   },
   "source": [
    "This is yielding roughly similar performance – validation accuracy is hovering at ~97%. \n",
    "\n",
    "### Strategy 5 – Decrease Kernel Size [Not Successful]"
   ]
  },
  {
   "cell_type": "code",
   "execution_count": null,
   "metadata": {
    "_uuid": "511810f470015b371fe2ca37fa7dc0708b28ac2d",
    "collapsed": true
   },
   "outputs": [],
   "source": [
    "convolutional = Sequential()\n",
    "\n",
    "convolutional.add(Conv2D(32, kernel_size=(2,2), activation='relu', input_shape=(X_train.shape[1], X_train.shape[2], X_train.shape[3],)))\n",
    "convolutional.add(Conv2D(64, (2, 2), activation='relu'))\n",
    "convolutional.add(MaxPooling2D(pool_size=(2, 2)))\n",
    "convolutional.add(Dropout(0.35))\n",
    "\n",
    "# CHANGE\n",
    "convolutional.add(Conv2D(128, kernel_size=(2,2), activation='relu'))\n",
    "convolutional.add(Conv2D(256, (2, 2), activation='relu'))\n",
    "convolutional.add(MaxPooling2D(pool_size=(2, 2)))\n",
    "convolutional.add(Dropout(0.35))\n",
    "\n",
    "convolutional.add(Flatten())\n",
    "convolutional.add(Dense(512, activation='relu'))\n",
    "convolutional.add(Dropout(0.6))\n",
    "convolutional.add(Dense(num_categories, activation='softmax'))\n",
    "\n",
    "convolutional.summary()\n",
    "convolutional.compile(loss=\"categorical_crossentropy\", optimizer=Adam(), metrics=['accuracy'])\n",
    "\n",
    "evaluate_model(convolutional, 32, 5)"
   ]
  },
  {
   "cell_type": "markdown",
   "metadata": {
    "_uuid": "a11848de250cea34a0cca05ec5c06cd35a4a4275"
   },
   "source": [
    "Decreasing kernel size doesn't yield any significant improvements – if anything, it causes the model to overfit earlier and to reach a slightly lower maximum validation accuracy (~85%). \n",
    "\n",
    "### Strategy 6 – Decrease Learning Rate [Successful]"
   ]
  },
  {
   "cell_type": "code",
   "execution_count": null,
   "metadata": {
    "_uuid": "630eb418619de0e66df745b945a1eeabb54551d0",
    "collapsed": true
   },
   "outputs": [],
   "source": [
    "convolutional = Sequential()\n",
    "\n",
    "convolutional.add(Conv2D(32, kernel_size=(3,3), activation='relu', input_shape=(X_train.shape[1], X_train.shape[2], X_train.shape[3],)))\n",
    "convolutional.add(Conv2D(64, (3, 3), activation='relu'))\n",
    "convolutional.add(MaxPooling2D(pool_size=(2, 2)))\n",
    "convolutional.add(Dropout(0.35))\n",
    "\n",
    "# CHANGE\n",
    "convolutional.add(Conv2D(128, kernel_size=(3,3), activation='relu'))\n",
    "convolutional.add(Conv2D(256, (3, 3), activation='relu'))\n",
    "convolutional.add(MaxPooling2D(pool_size=(2, 2)))\n",
    "convolutional.add(Dropout(0.35))\n",
    "\n",
    "convolutional.add(Flatten())\n",
    "convolutional.add(Dense(512, activation='relu'))\n",
    "convolutional.add(Dropout(0.6))\n",
    "convolutional.add(Dense(num_categories, activation='softmax'))\n",
    "\n",
    "convolutional.summary()\n",
    "convolutional.compile(loss=\"categorical_crossentropy\", optimizer=Adam(lr=.0005), metrics=['accuracy'])\n",
    "\n",
    "evaluate_model(convolutional, 32, 5)"
   ]
  },
  {
   "cell_type": "markdown",
   "metadata": {
    "_uuid": "7a960b5510a4b6b692331ff37430bc5a89ff4754"
   },
   "source": [
    "Decreasing the learning rate resulted in slightly higher accuracy rates, though it did slightly increase the runtime of the model. I will be keeping this lower learning rate, as I don't believe the speed decrease was significant enough to be a detriment to the model.\n",
    "\n",
    "## Finalizing Model\n",
    "\n",
    "Combine all successful optimizing strategies (additional convolutional layers, increased dropout rates, decreased batch size, etc.), alongside Batch Normalization, for a final optimized model."
   ]
  },
  {
   "cell_type": "code",
   "execution_count": null,
   "metadata": {
    "_uuid": "4a38969c880f3a180ab834e90de9f0adb0d3f973",
    "collapsed": true
   },
   "outputs": [],
   "source": [
    "convolutional = Sequential()\n",
    "\n",
    "convolutional.add(Conv2D(32, kernel_size=(3,3), activation='relu', input_shape=(X_train.shape[1], X_train.shape[2], X_train.shape[3],)))\n",
    "convolutional.add(Conv2D(64, (3, 3), activation='relu'))\n",
    "convolutional.add(MaxPooling2D(pool_size=(2, 2)))\n",
    "convolutional.add(Dropout(0.35))\n",
    "\n",
    "# CHANGE\n",
    "convolutional.add(Conv2D(128, kernel_size=(3,3), activation='relu'))\n",
    "convolutional.add(Conv2D(256, (3, 3), activation='relu'))\n",
    "convolutional.add(MaxPooling2D(pool_size=(2, 2)))\n",
    "convolutional.add(Dropout(0.35))\n",
    "\n",
    "convolutional.add(Flatten())\n",
    "convolutional.add(Dense(512, activation='relu'))\n",
    "convolutional.add(Dropout(0.6))\n",
    "convolutional.add(BatchNormalization())\n",
    "convolutional.add(Dense(num_categories, activation='softmax'))\n",
    "\n",
    "convolutional.summary()\n",
    "convolutional.compile(loss=\"categorical_crossentropy\", optimizer=Adam(lr=.0005), metrics=['accuracy'])\n",
    "\n",
    "evaluate_model(convolutional, 32, 5)"
   ]
  },
  {
   "cell_type": "markdown",
   "metadata": {
    "_uuid": "e17362a46e9505cd81570167707ec1520c609eb8"
   },
   "source": [
    "### Evaluating Finalized Model"
   ]
  },
  {
   "cell_type": "code",
   "execution_count": null,
   "metadata": {
    "_uuid": "38586ae80982c0317e226abb59ab143928b3d007",
    "collapsed": true
   },
   "outputs": [],
   "source": [
    "y_pred = convolutional.predict(new_X_test, batch_size=None, verbose=0, steps=None).argmax(axis=-1)\n",
    "res_crosstab = pd.crosstab(y_pred, y_test)\n",
    "\n",
    "dict_idx_fruit = {idx: label for idx, label in enumerate(test_labels)}\n",
    "print(dict_idx_fruit)\n",
    "\n",
    "res_crosstab"
   ]
  },
  {
   "cell_type": "code",
   "execution_count": null,
   "metadata": {
    "_uuid": "6d473cc9ed50f7fdc0d78d3f058329cf08324c1a",
    "collapsed": true
   },
   "outputs": [],
   "source": [
    "for idx in range(num_categories):\n",
    "    accuracy = res_crosstab.loc[idx, idx] / res_crosstab.loc[:, idx].sum()\n",
    "    flag = '***LOW***' if accuracy < 0.8 else ''\n",
    "    print(dict_idx_fruit[idx])\n",
    "    print('   ', flag, 'accuracy –', round(accuracy * 100, 2), '%')"
   ]
  },
  {
   "cell_type": "markdown",
   "metadata": {
    "_uuid": "f1ef22749a7a901e72e3858c36797d4c20b18cac"
   },
   "source": [
    "## Running Final Model On More Data"
   ]
  },
  {
   "cell_type": "code",
   "execution_count": 1,
   "metadata": {
    "_uuid": "59c3cb68ca1a033e56d5eae0a106a7461630bb6b"
   },
   "outputs": [
    {
     "name": "stderr",
     "output_type": "stream",
     "text": [
      "/opt/conda/lib/python3.6/site-packages/h5py/__init__.py:36: FutureWarning: Conversion of the second argument of issubdtype from `float` to `np.floating` is deprecated. In future, it will be treated as `np.float64 == np.dtype(float).type`.\n",
      "  from ._conv import register_converters as _register_converters\n",
      "Using TensorFlow backend.\n",
      "  0%|          | 0/492 [00:00<?, ?it/s]/opt/conda/lib/python3.6/site-packages/skimage/transform/_warps.py:84: UserWarning: The default mode, 'constant', will be changed to 'reflect' in skimage 0.15.\n",
      "  warn(\"The default mode, 'constant', will be changed to 'reflect' in \"\n",
      "100%|██████████| 492/492 [00:01<00:00, 294.40it/s]\n",
      "100%|██████████| 490/490 [00:01<00:00, 318.31it/s]\n",
      "100%|██████████| 427/427 [00:01<00:00, 326.98it/s]\n",
      "100%|██████████| 481/481 [00:01<00:00, 329.29it/s]\n",
      "100%|██████████| 492/492 [00:01<00:00, 330.44it/s]\n",
      "100%|██████████| 490/490 [00:01<00:00, 325.36it/s]\n",
      "100%|██████████| 492/492 [00:01<00:00, 327.25it/s]\n",
      "100%|██████████| 738/738 [00:02<00:00, 329.93it/s]\n",
      "100%|██████████| 738/738 [00:02<00:00, 328.74it/s]\n",
      "100%|██████████| 492/492 [00:01<00:00, 326.88it/s]\n",
      "100%|██████████| 490/490 [00:01<00:00, 331.97it/s]\n",
      "100%|██████████| 490/490 [00:01<00:00, 324.74it/s]\n",
      "100%|██████████| 492/492 [00:01<00:00, 330.66it/s]\n",
      "100%|██████████| 738/738 [00:02<00:00, 324.24it/s]\n",
      "100%|██████████| 490/490 [00:01<00:00, 321.85it/s]\n",
      "100%|██████████| 492/492 [00:01<00:00, 322.80it/s]\n",
      "100%|██████████| 490/490 [00:01<00:00, 326.06it/s]\n",
      "100%|██████████| 492/492 [00:01<00:00, 323.21it/s]\n",
      "100%|██████████| 490/490 [00:01<00:00, 324.41it/s]\n",
      "100%|██████████| 490/490 [00:01<00:00, 327.60it/s]\n",
      "100%|██████████| 490/490 [00:01<00:00, 320.62it/s]\n",
      "100%|██████████| 490/490 [00:01<00:00, 323.08it/s]\n",
      "100%|██████████| 490/490 [00:01<00:00, 328.59it/s]\n",
      "100%|██████████| 447/447 [00:01<00:00, 324.54it/s]\n",
      "100%|██████████| 490/490 [00:01<00:00, 331.71it/s]\n",
      "100%|██████████| 492/492 [00:01<00:00, 331.73it/s]\n",
      "100%|██████████| 367/367 [00:01<00:00, 322.98it/s]\n",
      "100%|██████████| 490/490 [00:01<00:00, 324.45it/s]\n",
      "100%|██████████| 490/490 [00:01<00:00, 328.81it/s]\n",
      "100%|██████████| 492/492 [00:01<00:00, 327.61it/s]\n",
      "100%|██████████| 490/490 [00:01<00:00, 332.52it/s]\n",
      "100%|██████████| 479/479 [00:01<00:00, 330.17it/s]\n",
      "100%|██████████| 490/490 [00:01<00:00, 324.61it/s]\n",
      "100%|██████████| 492/492 [00:01<00:00, 325.33it/s]\n",
      "100%|██████████| 492/492 [00:01<00:00, 325.62it/s]\n",
      "100%|██████████| 164/164 [00:00<00:00, 340.57it/s]\n",
      "100%|██████████| 166/166 [00:00<00:00, 343.43it/s]\n",
      "100%|██████████| 143/143 [00:00<00:00, 335.28it/s]\n",
      "100%|██████████| 161/161 [00:00<00:00, 332.97it/s]\n",
      "100%|██████████| 164/164 [00:00<00:00, 336.80it/s]\n",
      "100%|██████████| 166/166 [00:00<00:00, 343.67it/s]\n",
      "100%|██████████| 164/164 [00:00<00:00, 339.47it/s]\n",
      "100%|██████████| 246/246 [00:00<00:00, 338.37it/s]\n",
      "100%|██████████| 246/246 [00:00<00:00, 332.01it/s]\n",
      "100%|██████████| 164/164 [00:00<00:00, 335.98it/s]\n",
      "100%|██████████| 166/166 [00:00<00:00, 344.55it/s]\n",
      "100%|██████████| 166/166 [00:00<00:00, 327.25it/s]\n",
      "100%|██████████| 164/164 [00:00<00:00, 333.13it/s]\n",
      "100%|██████████| 246/246 [00:00<00:00, 328.73it/s]\n",
      "100%|██████████| 166/166 [00:00<00:00, 317.34it/s]\n",
      "100%|██████████| 164/164 [00:00<00:00, 334.51it/s]\n",
      "100%|██████████| 166/166 [00:00<00:00, 340.91it/s]\n",
      "100%|██████████| 164/164 [00:00<00:00, 332.93it/s]\n",
      "100%|██████████| 166/166 [00:00<00:00, 332.40it/s]\n",
      "100%|██████████| 166/166 [00:00<00:00, 322.20it/s]\n",
      "100%|██████████| 166/166 [00:00<00:00, 329.36it/s]\n",
      "100%|██████████| 166/166 [00:00<00:00, 332.30it/s]\n",
      "100%|██████████| 166/166 [00:00<00:00, 328.69it/s]\n",
      "100%|██████████| 151/151 [00:00<00:00, 339.18it/s]\n",
      "100%|██████████| 166/166 [00:00<00:00, 338.50it/s]\n",
      "100%|██████████| 164/164 [00:00<00:00, 336.87it/s]\n",
      "100%|██████████| 127/127 [00:00<00:00, 336.35it/s]\n",
      "100%|██████████| 166/166 [00:00<00:00, 335.38it/s]\n",
      "100%|██████████| 166/166 [00:00<00:00, 331.54it/s]\n",
      "100%|██████████| 164/164 [00:00<00:00, 340.44it/s]\n",
      "100%|██████████| 166/166 [00:00<00:00, 342.12it/s]\n",
      "100%|██████████| 160/160 [00:00<00:00, 331.32it/s]\n",
      "100%|██████████| 166/166 [00:00<00:00, 332.33it/s]\n",
      "100%|██████████| 164/164 [00:00<00:00, 342.10it/s]\n",
      "100%|██████████| 164/164 [00:00<00:00, 336.49it/s]\n"
     ]
    }
   ],
   "source": [
    "# Run on Kaggle with GPU \n",
    "\n",
    "import os\n",
    "from tqdm import tqdm\n",
    "\n",
    "import numpy as np\n",
    "import pandas as pd\n",
    "import skimage\n",
    "from skimage import io, transform\n",
    "from IPython.display import Image, display\n",
    "\n",
    "import keras\n",
    "from keras.models import Sequential, model_from_json\n",
    "from keras.layers import Dense, Dropout, Flatten, Conv2D, MaxPooling2D, BatchNormalization\n",
    "from keras.layers import LSTM, Input\n",
    "from keras.models import Model\n",
    "from keras.optimizers import Adam\n",
    "\n",
    "img_size = 100\n",
    "train_dir = '../input/fruits-360_dataset/fruits-360/Training/'\n",
    "test_dir = '../input/fruits-360_dataset/fruits-360/Test/'\n",
    "\n",
    "def get_data(folder_path):\n",
    "    imgs = []\n",
    "    indices = []\n",
    "    labels = []\n",
    "    for idx, folder_name in enumerate(os.listdir(folder_path)[:35]):\n",
    "        if not folder_name.startswith('.'):\n",
    "            labels.append(folder_name)\n",
    "            for file_name in tqdm(os.listdir(folder_path + folder_name)):\n",
    "                if not file_name.startswith('.'):\n",
    "                    img_file = io.imread(folder_path + folder_name + '/' + file_name)\n",
    "                    if img_file is not None:\n",
    "                        img_file = transform.resize(img_file, (img_size, img_size))\n",
    "                        imgs.append(np.asarray(img_file))\n",
    "                        indices.append(idx)\n",
    "    imgs = np.asarray(imgs)\n",
    "    indices = np.asarray(indices)\n",
    "    labels = np.asarray(labels)\n",
    "    return imgs, indices, labels\n",
    "\n",
    "X_train, y_train, train_labels = get_data(train_dir)\n",
    "X_test, y_test, test_labels = get_data(test_dir)"
   ]
  },
  {
   "cell_type": "code",
   "execution_count": 2,
   "metadata": {
    "_uuid": "99c270c42ab5bed4ce4aad156dfe81ff4bd9ad0d",
    "collapsed": true
   },
   "outputs": [],
   "source": [
    "num_categories = len(np.unique(y_train))\n",
    "\n",
    "new_X_train = X_train.reshape(X_train.shape[0], X_train.shape[1], X_train.shape[2], X_train.shape[3]).astype('float32')\n",
    "new_X_test = X_test.reshape(X_test.shape[0], X_test.shape[1], X_test.shape[2], X_test.shape[3]).astype('float32')\n",
    "new_y_train = keras.utils.to_categorical(y_train, num_categories)\n",
    "new_y_test = keras.utils.to_categorical(y_test, num_categories)"
   ]
  },
  {
   "cell_type": "code",
   "execution_count": 3,
   "metadata": {
    "_uuid": "ee67d84525e409b1517e675c98dbef824a4dc68c",
    "collapsed": true
   },
   "outputs": [],
   "source": [
    "def evaluate_model(model, batch_size, epochs):\n",
    "    history = model.fit(new_X_train, new_y_train, batch_size=batch_size, epochs=epochs, verbose=1, validation_data=(new_X_test, new_y_test))\n",
    "    score = model.evaluate(new_X_test, new_y_test, verbose=0)\n",
    "    print('***Metrics Names***', model.metrics_names)\n",
    "    print('***Metrics Values***', score)"
   ]
  },
  {
   "cell_type": "code",
   "execution_count": 4,
   "metadata": {
    "_uuid": "69c92d88ef8e69ee5a4ff7962d5fd61601d50036"
   },
   "outputs": [
    {
     "name": "stdout",
     "output_type": "stream",
     "text": [
      "_________________________________________________________________\n",
      "Layer (type)                 Output Shape              Param #   \n",
      "=================================================================\n",
      "conv2d_1 (Conv2D)            (None, 98, 98, 32)        896       \n",
      "_________________________________________________________________\n",
      "conv2d_2 (Conv2D)            (None, 96, 96, 64)        18496     \n",
      "_________________________________________________________________\n",
      "max_pooling2d_1 (MaxPooling2 (None, 48, 48, 64)        0         \n",
      "_________________________________________________________________\n",
      "dropout_1 (Dropout)          (None, 48, 48, 64)        0         \n",
      "_________________________________________________________________\n",
      "conv2d_3 (Conv2D)            (None, 46, 46, 128)       73856     \n",
      "_________________________________________________________________\n",
      "conv2d_4 (Conv2D)            (None, 44, 44, 256)       295168    \n",
      "_________________________________________________________________\n",
      "max_pooling2d_2 (MaxPooling2 (None, 22, 22, 256)       0         \n",
      "_________________________________________________________________\n",
      "dropout_2 (Dropout)          (None, 22, 22, 256)       0         \n",
      "_________________________________________________________________\n",
      "flatten_1 (Flatten)          (None, 123904)            0         \n",
      "_________________________________________________________________\n",
      "dense_1 (Dense)              (None, 512)               63439360  \n",
      "_________________________________________________________________\n",
      "dropout_3 (Dropout)          (None, 512)               0         \n",
      "_________________________________________________________________\n",
      "batch_normalization_1 (Batch (None, 512)               2048      \n",
      "_________________________________________________________________\n",
      "dense_2 (Dense)              (None, 35)                17955     \n",
      "=================================================================\n",
      "Total params: 63,847,779\n",
      "Trainable params: 63,846,755\n",
      "Non-trainable params: 1,024\n",
      "_________________________________________________________________\n",
      "Train on 17667 samples, validate on 5940 samples\n",
      "Epoch 1/5\n",
      "17667/17667 [==============================] - 111s 6ms/step - loss: 0.6136 - acc: 0.8717 - val_loss: 0.0913 - val_acc: 0.9806\n",
      "Epoch 2/5\n",
      "17667/17667 [==============================] - 106s 6ms/step - loss: 0.0352 - acc: 0.9980 - val_loss: 0.0891 - val_acc: 0.9781\n",
      "Epoch 3/5\n",
      "17667/17667 [==============================] - 106s 6ms/step - loss: 0.0237 - acc: 0.9980 - val_loss: 0.0222 - val_acc: 0.9946\n",
      "Epoch 4/5\n",
      "17667/17667 [==============================] - 106s 6ms/step - loss: 0.0179 - acc: 0.9980 - val_loss: 0.0139 - val_acc: 0.9961\n",
      "Epoch 5/5\n",
      "17667/17667 [==============================] - 106s 6ms/step - loss: 0.0056 - acc: 0.9996 - val_loss: 0.0149 - val_acc: 0.9944\n",
      "***Metrics Names*** ['loss', 'acc']\n",
      "***Metrics Values*** [0.014877644570341322, 0.9944444444444445]\n"
     ]
    }
   ],
   "source": [
    "convolutional = Sequential()\n",
    "\n",
    "convolutional.add(Conv2D(32, kernel_size=(3,3), activation='relu', input_shape=(X_train.shape[1], X_train.shape[2], X_train.shape[3],)))\n",
    "convolutional.add(Conv2D(64, (3, 3), activation='relu'))\n",
    "convolutional.add(MaxPooling2D(pool_size=(2, 2)))\n",
    "convolutional.add(Dropout(0.35))\n",
    "\n",
    "convolutional.add(Conv2D(128, kernel_size=(3,3), activation='relu'))\n",
    "convolutional.add(Conv2D(256, (3, 3), activation='relu'))\n",
    "convolutional.add(MaxPooling2D(pool_size=(2, 2)))\n",
    "convolutional.add(Dropout(0.35))\n",
    "\n",
    "convolutional.add(Flatten())\n",
    "convolutional.add(Dense(512, activation='relu'))\n",
    "convolutional.add(Dropout(0.6))\n",
    "convolutional.add(BatchNormalization())\n",
    "convolutional.add(Dense(num_categories, activation='softmax'))\n",
    "\n",
    "convolutional.summary()\n",
    "convolutional.compile(loss=\"categorical_crossentropy\", optimizer=Adam(lr=.0005), metrics=['accuracy'])\n",
    "\n",
    "evaluate_model(convolutional, 32, 5)"
   ]
  },
  {
   "cell_type": "code",
   "execution_count": 5,
   "metadata": {
    "_uuid": "072ace74c43dec31b74cc241c063654cb0444996"
   },
   "outputs": [
    {
     "name": "stdout",
     "output_type": "stream",
     "text": [
      "CNN model saved to disk\n"
     ]
    }
   ],
   "source": [
    "# Save model to disk\n",
    "model_json = convolutional.to_json()\n",
    "with open(\"cnn_model.json\", \"w\") as json_file:\n",
    "    json_file.write(model_json)\n",
    "convolutional.save_weights(\"cnn_model.h5\")\n",
    "print(\"CNN model saved to disk\")"
   ]
  },
  {
   "cell_type": "code",
   "execution_count": 6,
   "metadata": {
    "_uuid": "cda9f58e551f9fa9556e6691d84bb90780e72c73"
   },
   "outputs": [
    {
     "name": "stdout",
     "output_type": "stream",
     "text": [
      "CNN model loaded from disk\n"
     ]
    }
   ],
   "source": [
    "# Load model from disk\n",
    "json_file = open('cnn_model.json', 'r')\n",
    "loaded_model_json = json_file.read()\n",
    "json_file.close()\n",
    "loaded_model = model_from_json(loaded_model_json)\n",
    "loaded_model.load_weights(\"cnn_model.h5\")\n",
    "print(\"CNN model loaded from disk\")"
   ]
  },
  {
   "cell_type": "code",
   "execution_count": 7,
   "metadata": {
    "_uuid": "3a134783bde7f59dd80c785e84cb51f18bedf2c1"
   },
   "outputs": [
    {
     "name": "stdout",
     "output_type": "stream",
     "text": [
      "{0: 'Nectarine', 1: 'Kaki', 2: 'Avocado', 3: 'Apple Golden 3', 4: 'Lemon', 5: 'Pear Monster', 6: 'Apple Red Yellow', 7: 'Tomato 1', 8: 'Cherry 2', 9: 'Apple Red 1', 10: 'Pear Abate', 11: 'Mandarine', 12: 'Strawberry', 13: 'Cherry Rainier', 14: 'Cocos', 15: 'Cantaloupe 2', 16: 'Granadilla', 17: 'Pomegranate', 18: 'Lychee', 19: 'Quince', 20: 'Raspberry', 21: 'Tangelo', 22: 'Mango', 23: 'Plum', 24: 'Tamarillo', 25: 'Apple Granny Smith', 26: 'Tomato Maroon', 27: 'Passion Fruit', 28: 'Lemon Meyer', 29: 'Grapefruit White', 30: 'Banana Red', 31: 'Tomato 4', 32: 'Huckleberry', 33: 'Cherry Wax Yellow', 34: 'Physalis with Husk'}\n"
     ]
    },
    {
     "data": {
      "text/html": [
       "<div>\n",
       "<style scoped>\n",
       "    .dataframe tbody tr th:only-of-type {\n",
       "        vertical-align: middle;\n",
       "    }\n",
       "\n",
       "    .dataframe tbody tr th {\n",
       "        vertical-align: top;\n",
       "    }\n",
       "\n",
       "    .dataframe thead th {\n",
       "        text-align: right;\n",
       "    }\n",
       "</style>\n",
       "<table border=\"1\" class=\"dataframe\">\n",
       "  <thead>\n",
       "    <tr style=\"text-align: right;\">\n",
       "      <th>col_0</th>\n",
       "      <th>0</th>\n",
       "      <th>1</th>\n",
       "      <th>2</th>\n",
       "      <th>3</th>\n",
       "      <th>4</th>\n",
       "      <th>5</th>\n",
       "      <th>6</th>\n",
       "      <th>7</th>\n",
       "      <th>8</th>\n",
       "      <th>9</th>\n",
       "      <th>...</th>\n",
       "      <th>25</th>\n",
       "      <th>26</th>\n",
       "      <th>27</th>\n",
       "      <th>28</th>\n",
       "      <th>29</th>\n",
       "      <th>30</th>\n",
       "      <th>31</th>\n",
       "      <th>32</th>\n",
       "      <th>33</th>\n",
       "      <th>34</th>\n",
       "    </tr>\n",
       "    <tr>\n",
       "      <th>row_0</th>\n",
       "      <th></th>\n",
       "      <th></th>\n",
       "      <th></th>\n",
       "      <th></th>\n",
       "      <th></th>\n",
       "      <th></th>\n",
       "      <th></th>\n",
       "      <th></th>\n",
       "      <th></th>\n",
       "      <th></th>\n",
       "      <th></th>\n",
       "      <th></th>\n",
       "      <th></th>\n",
       "      <th></th>\n",
       "      <th></th>\n",
       "      <th></th>\n",
       "      <th></th>\n",
       "      <th></th>\n",
       "      <th></th>\n",
       "      <th></th>\n",
       "      <th></th>\n",
       "    </tr>\n",
       "  </thead>\n",
       "  <tbody>\n",
       "    <tr>\n",
       "      <th>0</th>\n",
       "      <td>140</td>\n",
       "      <td>0</td>\n",
       "      <td>0</td>\n",
       "      <td>0</td>\n",
       "      <td>0</td>\n",
       "      <td>0</td>\n",
       "      <td>0</td>\n",
       "      <td>0</td>\n",
       "      <td>0</td>\n",
       "      <td>0</td>\n",
       "      <td>...</td>\n",
       "      <td>0</td>\n",
       "      <td>0</td>\n",
       "      <td>0</td>\n",
       "      <td>0</td>\n",
       "      <td>0</td>\n",
       "      <td>0</td>\n",
       "      <td>0</td>\n",
       "      <td>0</td>\n",
       "      <td>0</td>\n",
       "      <td>0</td>\n",
       "    </tr>\n",
       "    <tr>\n",
       "      <th>1</th>\n",
       "      <td>0</td>\n",
       "      <td>166</td>\n",
       "      <td>0</td>\n",
       "      <td>0</td>\n",
       "      <td>0</td>\n",
       "      <td>0</td>\n",
       "      <td>0</td>\n",
       "      <td>0</td>\n",
       "      <td>0</td>\n",
       "      <td>0</td>\n",
       "      <td>...</td>\n",
       "      <td>0</td>\n",
       "      <td>0</td>\n",
       "      <td>0</td>\n",
       "      <td>0</td>\n",
       "      <td>0</td>\n",
       "      <td>0</td>\n",
       "      <td>0</td>\n",
       "      <td>0</td>\n",
       "      <td>0</td>\n",
       "      <td>0</td>\n",
       "    </tr>\n",
       "    <tr>\n",
       "      <th>2</th>\n",
       "      <td>0</td>\n",
       "      <td>0</td>\n",
       "      <td>143</td>\n",
       "      <td>0</td>\n",
       "      <td>0</td>\n",
       "      <td>0</td>\n",
       "      <td>0</td>\n",
       "      <td>0</td>\n",
       "      <td>0</td>\n",
       "      <td>0</td>\n",
       "      <td>...</td>\n",
       "      <td>0</td>\n",
       "      <td>0</td>\n",
       "      <td>0</td>\n",
       "      <td>0</td>\n",
       "      <td>0</td>\n",
       "      <td>0</td>\n",
       "      <td>0</td>\n",
       "      <td>0</td>\n",
       "      <td>0</td>\n",
       "      <td>0</td>\n",
       "    </tr>\n",
       "    <tr>\n",
       "      <th>3</th>\n",
       "      <td>0</td>\n",
       "      <td>0</td>\n",
       "      <td>0</td>\n",
       "      <td>161</td>\n",
       "      <td>0</td>\n",
       "      <td>0</td>\n",
       "      <td>0</td>\n",
       "      <td>0</td>\n",
       "      <td>0</td>\n",
       "      <td>0</td>\n",
       "      <td>...</td>\n",
       "      <td>0</td>\n",
       "      <td>0</td>\n",
       "      <td>0</td>\n",
       "      <td>0</td>\n",
       "      <td>0</td>\n",
       "      <td>0</td>\n",
       "      <td>0</td>\n",
       "      <td>0</td>\n",
       "      <td>0</td>\n",
       "      <td>0</td>\n",
       "    </tr>\n",
       "    <tr>\n",
       "      <th>4</th>\n",
       "      <td>0</td>\n",
       "      <td>0</td>\n",
       "      <td>0</td>\n",
       "      <td>0</td>\n",
       "      <td>164</td>\n",
       "      <td>0</td>\n",
       "      <td>0</td>\n",
       "      <td>0</td>\n",
       "      <td>0</td>\n",
       "      <td>0</td>\n",
       "      <td>...</td>\n",
       "      <td>0</td>\n",
       "      <td>0</td>\n",
       "      <td>0</td>\n",
       "      <td>0</td>\n",
       "      <td>0</td>\n",
       "      <td>0</td>\n",
       "      <td>0</td>\n",
       "      <td>0</td>\n",
       "      <td>0</td>\n",
       "      <td>0</td>\n",
       "    </tr>\n",
       "    <tr>\n",
       "      <th>5</th>\n",
       "      <td>0</td>\n",
       "      <td>0</td>\n",
       "      <td>0</td>\n",
       "      <td>0</td>\n",
       "      <td>0</td>\n",
       "      <td>166</td>\n",
       "      <td>0</td>\n",
       "      <td>0</td>\n",
       "      <td>0</td>\n",
       "      <td>0</td>\n",
       "      <td>...</td>\n",
       "      <td>0</td>\n",
       "      <td>0</td>\n",
       "      <td>0</td>\n",
       "      <td>0</td>\n",
       "      <td>0</td>\n",
       "      <td>0</td>\n",
       "      <td>0</td>\n",
       "      <td>0</td>\n",
       "      <td>0</td>\n",
       "      <td>0</td>\n",
       "    </tr>\n",
       "    <tr>\n",
       "      <th>6</th>\n",
       "      <td>24</td>\n",
       "      <td>0</td>\n",
       "      <td>0</td>\n",
       "      <td>0</td>\n",
       "      <td>0</td>\n",
       "      <td>0</td>\n",
       "      <td>164</td>\n",
       "      <td>0</td>\n",
       "      <td>0</td>\n",
       "      <td>0</td>\n",
       "      <td>...</td>\n",
       "      <td>0</td>\n",
       "      <td>0</td>\n",
       "      <td>0</td>\n",
       "      <td>0</td>\n",
       "      <td>0</td>\n",
       "      <td>0</td>\n",
       "      <td>0</td>\n",
       "      <td>0</td>\n",
       "      <td>0</td>\n",
       "      <td>0</td>\n",
       "    </tr>\n",
       "    <tr>\n",
       "      <th>7</th>\n",
       "      <td>0</td>\n",
       "      <td>0</td>\n",
       "      <td>0</td>\n",
       "      <td>0</td>\n",
       "      <td>0</td>\n",
       "      <td>0</td>\n",
       "      <td>0</td>\n",
       "      <td>246</td>\n",
       "      <td>0</td>\n",
       "      <td>0</td>\n",
       "      <td>...</td>\n",
       "      <td>0</td>\n",
       "      <td>0</td>\n",
       "      <td>0</td>\n",
       "      <td>0</td>\n",
       "      <td>0</td>\n",
       "      <td>0</td>\n",
       "      <td>0</td>\n",
       "      <td>0</td>\n",
       "      <td>0</td>\n",
       "      <td>0</td>\n",
       "    </tr>\n",
       "    <tr>\n",
       "      <th>8</th>\n",
       "      <td>0</td>\n",
       "      <td>0</td>\n",
       "      <td>0</td>\n",
       "      <td>0</td>\n",
       "      <td>0</td>\n",
       "      <td>0</td>\n",
       "      <td>0</td>\n",
       "      <td>0</td>\n",
       "      <td>246</td>\n",
       "      <td>0</td>\n",
       "      <td>...</td>\n",
       "      <td>0</td>\n",
       "      <td>0</td>\n",
       "      <td>0</td>\n",
       "      <td>0</td>\n",
       "      <td>0</td>\n",
       "      <td>0</td>\n",
       "      <td>0</td>\n",
       "      <td>0</td>\n",
       "      <td>0</td>\n",
       "      <td>0</td>\n",
       "    </tr>\n",
       "    <tr>\n",
       "      <th>9</th>\n",
       "      <td>0</td>\n",
       "      <td>0</td>\n",
       "      <td>0</td>\n",
       "      <td>0</td>\n",
       "      <td>0</td>\n",
       "      <td>0</td>\n",
       "      <td>0</td>\n",
       "      <td>0</td>\n",
       "      <td>0</td>\n",
       "      <td>164</td>\n",
       "      <td>...</td>\n",
       "      <td>0</td>\n",
       "      <td>0</td>\n",
       "      <td>0</td>\n",
       "      <td>0</td>\n",
       "      <td>0</td>\n",
       "      <td>0</td>\n",
       "      <td>0</td>\n",
       "      <td>0</td>\n",
       "      <td>0</td>\n",
       "      <td>0</td>\n",
       "    </tr>\n",
       "    <tr>\n",
       "      <th>10</th>\n",
       "      <td>0</td>\n",
       "      <td>0</td>\n",
       "      <td>0</td>\n",
       "      <td>0</td>\n",
       "      <td>0</td>\n",
       "      <td>0</td>\n",
       "      <td>0</td>\n",
       "      <td>0</td>\n",
       "      <td>0</td>\n",
       "      <td>0</td>\n",
       "      <td>...</td>\n",
       "      <td>0</td>\n",
       "      <td>0</td>\n",
       "      <td>0</td>\n",
       "      <td>0</td>\n",
       "      <td>0</td>\n",
       "      <td>0</td>\n",
       "      <td>0</td>\n",
       "      <td>0</td>\n",
       "      <td>0</td>\n",
       "      <td>0</td>\n",
       "    </tr>\n",
       "    <tr>\n",
       "      <th>11</th>\n",
       "      <td>0</td>\n",
       "      <td>0</td>\n",
       "      <td>0</td>\n",
       "      <td>0</td>\n",
       "      <td>0</td>\n",
       "      <td>0</td>\n",
       "      <td>0</td>\n",
       "      <td>0</td>\n",
       "      <td>0</td>\n",
       "      <td>0</td>\n",
       "      <td>...</td>\n",
       "      <td>0</td>\n",
       "      <td>0</td>\n",
       "      <td>0</td>\n",
       "      <td>0</td>\n",
       "      <td>0</td>\n",
       "      <td>0</td>\n",
       "      <td>0</td>\n",
       "      <td>0</td>\n",
       "      <td>0</td>\n",
       "      <td>0</td>\n",
       "    </tr>\n",
       "    <tr>\n",
       "      <th>12</th>\n",
       "      <td>0</td>\n",
       "      <td>0</td>\n",
       "      <td>0</td>\n",
       "      <td>0</td>\n",
       "      <td>0</td>\n",
       "      <td>0</td>\n",
       "      <td>0</td>\n",
       "      <td>0</td>\n",
       "      <td>0</td>\n",
       "      <td>0</td>\n",
       "      <td>...</td>\n",
       "      <td>0</td>\n",
       "      <td>0</td>\n",
       "      <td>0</td>\n",
       "      <td>0</td>\n",
       "      <td>0</td>\n",
       "      <td>0</td>\n",
       "      <td>0</td>\n",
       "      <td>0</td>\n",
       "      <td>0</td>\n",
       "      <td>0</td>\n",
       "    </tr>\n",
       "    <tr>\n",
       "      <th>13</th>\n",
       "      <td>0</td>\n",
       "      <td>0</td>\n",
       "      <td>0</td>\n",
       "      <td>0</td>\n",
       "      <td>0</td>\n",
       "      <td>0</td>\n",
       "      <td>0</td>\n",
       "      <td>0</td>\n",
       "      <td>0</td>\n",
       "      <td>0</td>\n",
       "      <td>...</td>\n",
       "      <td>0</td>\n",
       "      <td>0</td>\n",
       "      <td>0</td>\n",
       "      <td>0</td>\n",
       "      <td>0</td>\n",
       "      <td>0</td>\n",
       "      <td>0</td>\n",
       "      <td>0</td>\n",
       "      <td>0</td>\n",
       "      <td>0</td>\n",
       "    </tr>\n",
       "    <tr>\n",
       "      <th>14</th>\n",
       "      <td>0</td>\n",
       "      <td>0</td>\n",
       "      <td>0</td>\n",
       "      <td>0</td>\n",
       "      <td>0</td>\n",
       "      <td>0</td>\n",
       "      <td>0</td>\n",
       "      <td>0</td>\n",
       "      <td>0</td>\n",
       "      <td>0</td>\n",
       "      <td>...</td>\n",
       "      <td>0</td>\n",
       "      <td>0</td>\n",
       "      <td>0</td>\n",
       "      <td>0</td>\n",
       "      <td>0</td>\n",
       "      <td>0</td>\n",
       "      <td>0</td>\n",
       "      <td>0</td>\n",
       "      <td>0</td>\n",
       "      <td>0</td>\n",
       "    </tr>\n",
       "    <tr>\n",
       "      <th>15</th>\n",
       "      <td>0</td>\n",
       "      <td>0</td>\n",
       "      <td>0</td>\n",
       "      <td>0</td>\n",
       "      <td>0</td>\n",
       "      <td>0</td>\n",
       "      <td>0</td>\n",
       "      <td>0</td>\n",
       "      <td>0</td>\n",
       "      <td>0</td>\n",
       "      <td>...</td>\n",
       "      <td>0</td>\n",
       "      <td>0</td>\n",
       "      <td>0</td>\n",
       "      <td>0</td>\n",
       "      <td>0</td>\n",
       "      <td>0</td>\n",
       "      <td>0</td>\n",
       "      <td>0</td>\n",
       "      <td>0</td>\n",
       "      <td>0</td>\n",
       "    </tr>\n",
       "    <tr>\n",
       "      <th>16</th>\n",
       "      <td>0</td>\n",
       "      <td>0</td>\n",
       "      <td>0</td>\n",
       "      <td>0</td>\n",
       "      <td>0</td>\n",
       "      <td>0</td>\n",
       "      <td>0</td>\n",
       "      <td>0</td>\n",
       "      <td>0</td>\n",
       "      <td>0</td>\n",
       "      <td>...</td>\n",
       "      <td>0</td>\n",
       "      <td>0</td>\n",
       "      <td>0</td>\n",
       "      <td>0</td>\n",
       "      <td>0</td>\n",
       "      <td>0</td>\n",
       "      <td>0</td>\n",
       "      <td>0</td>\n",
       "      <td>0</td>\n",
       "      <td>0</td>\n",
       "    </tr>\n",
       "    <tr>\n",
       "      <th>17</th>\n",
       "      <td>0</td>\n",
       "      <td>0</td>\n",
       "      <td>0</td>\n",
       "      <td>0</td>\n",
       "      <td>0</td>\n",
       "      <td>0</td>\n",
       "      <td>0</td>\n",
       "      <td>0</td>\n",
       "      <td>0</td>\n",
       "      <td>0</td>\n",
       "      <td>...</td>\n",
       "      <td>0</td>\n",
       "      <td>0</td>\n",
       "      <td>0</td>\n",
       "      <td>0</td>\n",
       "      <td>0</td>\n",
       "      <td>0</td>\n",
       "      <td>0</td>\n",
       "      <td>0</td>\n",
       "      <td>0</td>\n",
       "      <td>0</td>\n",
       "    </tr>\n",
       "    <tr>\n",
       "      <th>18</th>\n",
       "      <td>0</td>\n",
       "      <td>0</td>\n",
       "      <td>0</td>\n",
       "      <td>0</td>\n",
       "      <td>0</td>\n",
       "      <td>0</td>\n",
       "      <td>0</td>\n",
       "      <td>0</td>\n",
       "      <td>0</td>\n",
       "      <td>0</td>\n",
       "      <td>...</td>\n",
       "      <td>0</td>\n",
       "      <td>0</td>\n",
       "      <td>0</td>\n",
       "      <td>0</td>\n",
       "      <td>0</td>\n",
       "      <td>0</td>\n",
       "      <td>0</td>\n",
       "      <td>0</td>\n",
       "      <td>0</td>\n",
       "      <td>0</td>\n",
       "    </tr>\n",
       "    <tr>\n",
       "      <th>19</th>\n",
       "      <td>0</td>\n",
       "      <td>0</td>\n",
       "      <td>0</td>\n",
       "      <td>0</td>\n",
       "      <td>0</td>\n",
       "      <td>0</td>\n",
       "      <td>0</td>\n",
       "      <td>0</td>\n",
       "      <td>0</td>\n",
       "      <td>0</td>\n",
       "      <td>...</td>\n",
       "      <td>0</td>\n",
       "      <td>0</td>\n",
       "      <td>0</td>\n",
       "      <td>0</td>\n",
       "      <td>0</td>\n",
       "      <td>0</td>\n",
       "      <td>0</td>\n",
       "      <td>0</td>\n",
       "      <td>0</td>\n",
       "      <td>0</td>\n",
       "    </tr>\n",
       "    <tr>\n",
       "      <th>20</th>\n",
       "      <td>0</td>\n",
       "      <td>0</td>\n",
       "      <td>0</td>\n",
       "      <td>0</td>\n",
       "      <td>0</td>\n",
       "      <td>0</td>\n",
       "      <td>0</td>\n",
       "      <td>0</td>\n",
       "      <td>0</td>\n",
       "      <td>0</td>\n",
       "      <td>...</td>\n",
       "      <td>0</td>\n",
       "      <td>0</td>\n",
       "      <td>0</td>\n",
       "      <td>0</td>\n",
       "      <td>0</td>\n",
       "      <td>0</td>\n",
       "      <td>0</td>\n",
       "      <td>0</td>\n",
       "      <td>0</td>\n",
       "      <td>0</td>\n",
       "    </tr>\n",
       "    <tr>\n",
       "      <th>21</th>\n",
       "      <td>0</td>\n",
       "      <td>0</td>\n",
       "      <td>0</td>\n",
       "      <td>0</td>\n",
       "      <td>0</td>\n",
       "      <td>0</td>\n",
       "      <td>0</td>\n",
       "      <td>0</td>\n",
       "      <td>0</td>\n",
       "      <td>0</td>\n",
       "      <td>...</td>\n",
       "      <td>0</td>\n",
       "      <td>0</td>\n",
       "      <td>0</td>\n",
       "      <td>0</td>\n",
       "      <td>0</td>\n",
       "      <td>0</td>\n",
       "      <td>0</td>\n",
       "      <td>0</td>\n",
       "      <td>0</td>\n",
       "      <td>0</td>\n",
       "    </tr>\n",
       "    <tr>\n",
       "      <th>22</th>\n",
       "      <td>0</td>\n",
       "      <td>0</td>\n",
       "      <td>0</td>\n",
       "      <td>0</td>\n",
       "      <td>0</td>\n",
       "      <td>0</td>\n",
       "      <td>0</td>\n",
       "      <td>0</td>\n",
       "      <td>0</td>\n",
       "      <td>0</td>\n",
       "      <td>...</td>\n",
       "      <td>0</td>\n",
       "      <td>0</td>\n",
       "      <td>0</td>\n",
       "      <td>0</td>\n",
       "      <td>0</td>\n",
       "      <td>0</td>\n",
       "      <td>0</td>\n",
       "      <td>0</td>\n",
       "      <td>0</td>\n",
       "      <td>0</td>\n",
       "    </tr>\n",
       "    <tr>\n",
       "      <th>23</th>\n",
       "      <td>0</td>\n",
       "      <td>0</td>\n",
       "      <td>0</td>\n",
       "      <td>0</td>\n",
       "      <td>0</td>\n",
       "      <td>0</td>\n",
       "      <td>0</td>\n",
       "      <td>0</td>\n",
       "      <td>0</td>\n",
       "      <td>0</td>\n",
       "      <td>...</td>\n",
       "      <td>0</td>\n",
       "      <td>0</td>\n",
       "      <td>0</td>\n",
       "      <td>0</td>\n",
       "      <td>0</td>\n",
       "      <td>0</td>\n",
       "      <td>0</td>\n",
       "      <td>0</td>\n",
       "      <td>0</td>\n",
       "      <td>0</td>\n",
       "    </tr>\n",
       "    <tr>\n",
       "      <th>24</th>\n",
       "      <td>0</td>\n",
       "      <td>0</td>\n",
       "      <td>0</td>\n",
       "      <td>0</td>\n",
       "      <td>0</td>\n",
       "      <td>0</td>\n",
       "      <td>0</td>\n",
       "      <td>0</td>\n",
       "      <td>0</td>\n",
       "      <td>0</td>\n",
       "      <td>...</td>\n",
       "      <td>0</td>\n",
       "      <td>0</td>\n",
       "      <td>0</td>\n",
       "      <td>0</td>\n",
       "      <td>0</td>\n",
       "      <td>0</td>\n",
       "      <td>0</td>\n",
       "      <td>0</td>\n",
       "      <td>0</td>\n",
       "      <td>0</td>\n",
       "    </tr>\n",
       "    <tr>\n",
       "      <th>25</th>\n",
       "      <td>0</td>\n",
       "      <td>0</td>\n",
       "      <td>0</td>\n",
       "      <td>0</td>\n",
       "      <td>0</td>\n",
       "      <td>0</td>\n",
       "      <td>0</td>\n",
       "      <td>0</td>\n",
       "      <td>0</td>\n",
       "      <td>0</td>\n",
       "      <td>...</td>\n",
       "      <td>164</td>\n",
       "      <td>0</td>\n",
       "      <td>0</td>\n",
       "      <td>0</td>\n",
       "      <td>0</td>\n",
       "      <td>0</td>\n",
       "      <td>0</td>\n",
       "      <td>0</td>\n",
       "      <td>0</td>\n",
       "      <td>0</td>\n",
       "    </tr>\n",
       "    <tr>\n",
       "      <th>26</th>\n",
       "      <td>0</td>\n",
       "      <td>0</td>\n",
       "      <td>0</td>\n",
       "      <td>0</td>\n",
       "      <td>0</td>\n",
       "      <td>0</td>\n",
       "      <td>0</td>\n",
       "      <td>0</td>\n",
       "      <td>0</td>\n",
       "      <td>0</td>\n",
       "      <td>...</td>\n",
       "      <td>0</td>\n",
       "      <td>127</td>\n",
       "      <td>0</td>\n",
       "      <td>0</td>\n",
       "      <td>0</td>\n",
       "      <td>0</td>\n",
       "      <td>0</td>\n",
       "      <td>0</td>\n",
       "      <td>0</td>\n",
       "      <td>0</td>\n",
       "    </tr>\n",
       "    <tr>\n",
       "      <th>27</th>\n",
       "      <td>0</td>\n",
       "      <td>0</td>\n",
       "      <td>0</td>\n",
       "      <td>0</td>\n",
       "      <td>0</td>\n",
       "      <td>0</td>\n",
       "      <td>0</td>\n",
       "      <td>0</td>\n",
       "      <td>0</td>\n",
       "      <td>0</td>\n",
       "      <td>...</td>\n",
       "      <td>0</td>\n",
       "      <td>0</td>\n",
       "      <td>166</td>\n",
       "      <td>0</td>\n",
       "      <td>0</td>\n",
       "      <td>0</td>\n",
       "      <td>0</td>\n",
       "      <td>0</td>\n",
       "      <td>0</td>\n",
       "      <td>0</td>\n",
       "    </tr>\n",
       "    <tr>\n",
       "      <th>28</th>\n",
       "      <td>0</td>\n",
       "      <td>0</td>\n",
       "      <td>0</td>\n",
       "      <td>0</td>\n",
       "      <td>0</td>\n",
       "      <td>0</td>\n",
       "      <td>0</td>\n",
       "      <td>0</td>\n",
       "      <td>0</td>\n",
       "      <td>0</td>\n",
       "      <td>...</td>\n",
       "      <td>0</td>\n",
       "      <td>0</td>\n",
       "      <td>0</td>\n",
       "      <td>166</td>\n",
       "      <td>0</td>\n",
       "      <td>0</td>\n",
       "      <td>0</td>\n",
       "      <td>0</td>\n",
       "      <td>0</td>\n",
       "      <td>0</td>\n",
       "    </tr>\n",
       "    <tr>\n",
       "      <th>29</th>\n",
       "      <td>0</td>\n",
       "      <td>0</td>\n",
       "      <td>0</td>\n",
       "      <td>0</td>\n",
       "      <td>0</td>\n",
       "      <td>0</td>\n",
       "      <td>0</td>\n",
       "      <td>0</td>\n",
       "      <td>0</td>\n",
       "      <td>0</td>\n",
       "      <td>...</td>\n",
       "      <td>0</td>\n",
       "      <td>0</td>\n",
       "      <td>0</td>\n",
       "      <td>0</td>\n",
       "      <td>164</td>\n",
       "      <td>0</td>\n",
       "      <td>0</td>\n",
       "      <td>0</td>\n",
       "      <td>0</td>\n",
       "      <td>0</td>\n",
       "    </tr>\n",
       "    <tr>\n",
       "      <th>30</th>\n",
       "      <td>0</td>\n",
       "      <td>0</td>\n",
       "      <td>0</td>\n",
       "      <td>0</td>\n",
       "      <td>0</td>\n",
       "      <td>0</td>\n",
       "      <td>0</td>\n",
       "      <td>0</td>\n",
       "      <td>0</td>\n",
       "      <td>0</td>\n",
       "      <td>...</td>\n",
       "      <td>0</td>\n",
       "      <td>0</td>\n",
       "      <td>0</td>\n",
       "      <td>0</td>\n",
       "      <td>0</td>\n",
       "      <td>166</td>\n",
       "      <td>0</td>\n",
       "      <td>0</td>\n",
       "      <td>0</td>\n",
       "      <td>0</td>\n",
       "    </tr>\n",
       "    <tr>\n",
       "      <th>31</th>\n",
       "      <td>0</td>\n",
       "      <td>0</td>\n",
       "      <td>0</td>\n",
       "      <td>0</td>\n",
       "      <td>0</td>\n",
       "      <td>0</td>\n",
       "      <td>0</td>\n",
       "      <td>0</td>\n",
       "      <td>0</td>\n",
       "      <td>0</td>\n",
       "      <td>...</td>\n",
       "      <td>0</td>\n",
       "      <td>0</td>\n",
       "      <td>0</td>\n",
       "      <td>0</td>\n",
       "      <td>0</td>\n",
       "      <td>0</td>\n",
       "      <td>160</td>\n",
       "      <td>0</td>\n",
       "      <td>0</td>\n",
       "      <td>0</td>\n",
       "    </tr>\n",
       "    <tr>\n",
       "      <th>32</th>\n",
       "      <td>0</td>\n",
       "      <td>0</td>\n",
       "      <td>0</td>\n",
       "      <td>0</td>\n",
       "      <td>0</td>\n",
       "      <td>0</td>\n",
       "      <td>0</td>\n",
       "      <td>0</td>\n",
       "      <td>0</td>\n",
       "      <td>0</td>\n",
       "      <td>...</td>\n",
       "      <td>0</td>\n",
       "      <td>0</td>\n",
       "      <td>0</td>\n",
       "      <td>0</td>\n",
       "      <td>0</td>\n",
       "      <td>0</td>\n",
       "      <td>0</td>\n",
       "      <td>166</td>\n",
       "      <td>0</td>\n",
       "      <td>0</td>\n",
       "    </tr>\n",
       "    <tr>\n",
       "      <th>33</th>\n",
       "      <td>0</td>\n",
       "      <td>0</td>\n",
       "      <td>0</td>\n",
       "      <td>0</td>\n",
       "      <td>0</td>\n",
       "      <td>0</td>\n",
       "      <td>0</td>\n",
       "      <td>0</td>\n",
       "      <td>0</td>\n",
       "      <td>0</td>\n",
       "      <td>...</td>\n",
       "      <td>0</td>\n",
       "      <td>0</td>\n",
       "      <td>0</td>\n",
       "      <td>0</td>\n",
       "      <td>0</td>\n",
       "      <td>0</td>\n",
       "      <td>0</td>\n",
       "      <td>0</td>\n",
       "      <td>164</td>\n",
       "      <td>0</td>\n",
       "    </tr>\n",
       "    <tr>\n",
       "      <th>34</th>\n",
       "      <td>0</td>\n",
       "      <td>0</td>\n",
       "      <td>0</td>\n",
       "      <td>0</td>\n",
       "      <td>0</td>\n",
       "      <td>0</td>\n",
       "      <td>0</td>\n",
       "      <td>0</td>\n",
       "      <td>0</td>\n",
       "      <td>0</td>\n",
       "      <td>...</td>\n",
       "      <td>0</td>\n",
       "      <td>0</td>\n",
       "      <td>0</td>\n",
       "      <td>0</td>\n",
       "      <td>0</td>\n",
       "      <td>0</td>\n",
       "      <td>0</td>\n",
       "      <td>0</td>\n",
       "      <td>0</td>\n",
       "      <td>164</td>\n",
       "    </tr>\n",
       "  </tbody>\n",
       "</table>\n",
       "<p>35 rows × 35 columns</p>\n",
       "</div>"
      ],
      "text/plain": [
       "col_0   0    1    2    3    4    5    6    7    8    9  ...    25   26   27  \\\n",
       "row_0                                                   ...                   \n",
       "0      140    0    0    0    0    0    0    0    0    0 ...     0    0    0   \n",
       "1        0  166    0    0    0    0    0    0    0    0 ...     0    0    0   \n",
       "2        0    0  143    0    0    0    0    0    0    0 ...     0    0    0   \n",
       "3        0    0    0  161    0    0    0    0    0    0 ...     0    0    0   \n",
       "4        0    0    0    0  164    0    0    0    0    0 ...     0    0    0   \n",
       "5        0    0    0    0    0  166    0    0    0    0 ...     0    0    0   \n",
       "6       24    0    0    0    0    0  164    0    0    0 ...     0    0    0   \n",
       "7        0    0    0    0    0    0    0  246    0    0 ...     0    0    0   \n",
       "8        0    0    0    0    0    0    0    0  246    0 ...     0    0    0   \n",
       "9        0    0    0    0    0    0    0    0    0  164 ...     0    0    0   \n",
       "10       0    0    0    0    0    0    0    0    0    0 ...     0    0    0   \n",
       "11       0    0    0    0    0    0    0    0    0    0 ...     0    0    0   \n",
       "12       0    0    0    0    0    0    0    0    0    0 ...     0    0    0   \n",
       "13       0    0    0    0    0    0    0    0    0    0 ...     0    0    0   \n",
       "14       0    0    0    0    0    0    0    0    0    0 ...     0    0    0   \n",
       "15       0    0    0    0    0    0    0    0    0    0 ...     0    0    0   \n",
       "16       0    0    0    0    0    0    0    0    0    0 ...     0    0    0   \n",
       "17       0    0    0    0    0    0    0    0    0    0 ...     0    0    0   \n",
       "18       0    0    0    0    0    0    0    0    0    0 ...     0    0    0   \n",
       "19       0    0    0    0    0    0    0    0    0    0 ...     0    0    0   \n",
       "20       0    0    0    0    0    0    0    0    0    0 ...     0    0    0   \n",
       "21       0    0    0    0    0    0    0    0    0    0 ...     0    0    0   \n",
       "22       0    0    0    0    0    0    0    0    0    0 ...     0    0    0   \n",
       "23       0    0    0    0    0    0    0    0    0    0 ...     0    0    0   \n",
       "24       0    0    0    0    0    0    0    0    0    0 ...     0    0    0   \n",
       "25       0    0    0    0    0    0    0    0    0    0 ...   164    0    0   \n",
       "26       0    0    0    0    0    0    0    0    0    0 ...     0  127    0   \n",
       "27       0    0    0    0    0    0    0    0    0    0 ...     0    0  166   \n",
       "28       0    0    0    0    0    0    0    0    0    0 ...     0    0    0   \n",
       "29       0    0    0    0    0    0    0    0    0    0 ...     0    0    0   \n",
       "30       0    0    0    0    0    0    0    0    0    0 ...     0    0    0   \n",
       "31       0    0    0    0    0    0    0    0    0    0 ...     0    0    0   \n",
       "32       0    0    0    0    0    0    0    0    0    0 ...     0    0    0   \n",
       "33       0    0    0    0    0    0    0    0    0    0 ...     0    0    0   \n",
       "34       0    0    0    0    0    0    0    0    0    0 ...     0    0    0   \n",
       "\n",
       "col_0   28   29   30   31   32   33   34  \n",
       "row_0                                     \n",
       "0        0    0    0    0    0    0    0  \n",
       "1        0    0    0    0    0    0    0  \n",
       "2        0    0    0    0    0    0    0  \n",
       "3        0    0    0    0    0    0    0  \n",
       "4        0    0    0    0    0    0    0  \n",
       "5        0    0    0    0    0    0    0  \n",
       "6        0    0    0    0    0    0    0  \n",
       "7        0    0    0    0    0    0    0  \n",
       "8        0    0    0    0    0    0    0  \n",
       "9        0    0    0    0    0    0    0  \n",
       "10       0    0    0    0    0    0    0  \n",
       "11       0    0    0    0    0    0    0  \n",
       "12       0    0    0    0    0    0    0  \n",
       "13       0    0    0    0    0    0    0  \n",
       "14       0    0    0    0    0    0    0  \n",
       "15       0    0    0    0    0    0    0  \n",
       "16       0    0    0    0    0    0    0  \n",
       "17       0    0    0    0    0    0    0  \n",
       "18       0    0    0    0    0    0    0  \n",
       "19       0    0    0    0    0    0    0  \n",
       "20       0    0    0    0    0    0    0  \n",
       "21       0    0    0    0    0    0    0  \n",
       "22       0    0    0    0    0    0    0  \n",
       "23       0    0    0    0    0    0    0  \n",
       "24       0    0    0    0    0    0    0  \n",
       "25       0    0    0    0    0    0    0  \n",
       "26       0    0    0    0    0    0    0  \n",
       "27       0    0    0    0    0    0    0  \n",
       "28     166    0    0    0    0    0    0  \n",
       "29       0  164    0    0    0    0    0  \n",
       "30       0    0  166    0    0    0    0  \n",
       "31       0    0    0  160    0    0    0  \n",
       "32       0    0    0    0  166    0    0  \n",
       "33       0    0    0    0    0  164    0  \n",
       "34       0    0    0    0    0    0  164  \n",
       "\n",
       "[35 rows x 35 columns]"
      ]
     },
     "execution_count": 7,
     "metadata": {},
     "output_type": "execute_result"
    }
   ],
   "source": [
    "y_pred = loaded_model.predict(new_X_test, batch_size=None, verbose=0, steps=None).argmax(axis=-1)\n",
    "res_crosstab = pd.crosstab(y_pred, y_test)\n",
    "\n",
    "dict_idx_fruit = {idx: label for idx, label in enumerate(test_labels)}\n",
    "print(dict_idx_fruit)\n",
    "\n",
    "res_crosstab"
   ]
  },
  {
   "cell_type": "markdown",
   "metadata": {
    "_uuid": "39bc134ed62a1cdb6fa66c16ab713ecf8166806b"
   },
   "source": [
    "## Problem Points in Model"
   ]
  },
  {
   "cell_type": "code",
   "execution_count": 8,
   "metadata": {
    "_uuid": "10148d9595411c26a2ba5b7de08a42890738c8e4"
   },
   "outputs": [
    {
     "name": "stdout",
     "output_type": "stream",
     "text": [
      "Nectarine\n",
      "     accuracy – 85.37 %\n",
      "Kaki\n",
      "     accuracy – 100.0 %\n",
      "Avocado\n",
      "     accuracy – 100.0 %\n",
      "Apple Golden 3\n",
      "     accuracy – 100.0 %\n",
      "Lemon\n",
      "     accuracy – 100.0 %\n",
      "Pear Monster\n",
      "     accuracy – 100.0 %\n",
      "Apple Red Yellow\n",
      "     accuracy – 100.0 %\n",
      "Tomato 1\n",
      "     accuracy – 100.0 %\n",
      "Cherry 2\n",
      "     accuracy – 100.0 %\n",
      "Apple Red 1\n",
      "     accuracy – 100.0 %\n",
      "Pear Abate\n",
      "     accuracy – 94.58 %\n",
      "Mandarine\n",
      "     accuracy – 100.0 %\n",
      "Strawberry\n",
      "     accuracy – 100.0 %\n",
      "Cherry Rainier\n",
      "     accuracy – 100.0 %\n",
      "Cocos\n",
      "     accuracy – 100.0 %\n",
      "Cantaloupe 2\n",
      "     accuracy – 100.0 %\n",
      "Granadilla\n",
      "     accuracy – 100.0 %\n",
      "Pomegranate\n",
      "     accuracy – 100.0 %\n",
      "Lychee\n",
      "     accuracy – 100.0 %\n",
      "Quince\n",
      "     accuracy – 100.0 %\n",
      "Raspberry\n",
      "     accuracy – 100.0 %\n",
      "Tangelo\n",
      "     accuracy – 100.0 %\n",
      "Mango\n",
      "     accuracy – 100.0 %\n",
      "Plum\n",
      "     accuracy – 100.0 %\n",
      "Tamarillo\n",
      "     accuracy – 100.0 %\n",
      "Apple Granny Smith\n",
      "     accuracy – 100.0 %\n",
      "Tomato Maroon\n",
      "     accuracy – 100.0 %\n",
      "Passion Fruit\n",
      "     accuracy – 100.0 %\n",
      "Lemon Meyer\n",
      "     accuracy – 100.0 %\n",
      "Grapefruit White\n",
      "     accuracy – 100.0 %\n",
      "Banana Red\n",
      "     accuracy – 100.0 %\n",
      "Tomato 4\n",
      "     accuracy – 100.0 %\n",
      "Huckleberry\n",
      "     accuracy – 100.0 %\n",
      "Cherry Wax Yellow\n",
      "     accuracy – 100.0 %\n",
      "Physalis with Husk\n",
      "     accuracy – 100.0 %\n"
     ]
    }
   ],
   "source": [
    "for idx in range(num_categories):\n",
    "    accuracy = res_crosstab.loc[idx, idx] / res_crosstab.loc[:, idx].sum()\n",
    "    flag = '***LOW***' if accuracy < 0.75 else ''\n",
    "    print(dict_idx_fruit[idx])\n",
    "    print('   ', flag, 'accuracy –', round(accuracy * 100, 2), '%')"
   ]
  },
  {
   "cell_type": "code",
   "execution_count": 9,
   "metadata": {
    "_uuid": "f994dcd5b6a9ceec7a9eba6e5282ddec37f08e0f"
   },
   "outputs": [
    {
     "name": "stdout",
     "output_type": "stream",
     "text": [
      "- 24 Nectarines mistaken for Apple Red Yellows\n",
      "- 7 Pear Abates mistaken for Cocoss\n",
      "- 2 Pear Abates mistaken for Banana Reds\n"
     ]
    }
   ],
   "source": [
    "for idx in range(35):\n",
    "    for idx2 in range(35):\n",
    "        accuracy = res_crosstab.loc[idx, idx] / res_crosstab.loc[:, idx].sum()\n",
    "        if idx != idx2 and res_crosstab.loc[idx, idx2] != 0:\n",
    "            pred_fruit = dict_idx_fruit[idx]\n",
    "            actual_fruit = dict_idx_fruit[idx2]\n",
    "            num_mistakes = res_crosstab.loc[idx, idx2]\n",
    "            sing_or_plural = 's' if num_mistakes > 1 else ''\n",
    "            print('- {} {}{} mistaken for {}{}'.format(num_mistakes, actual_fruit, sing_or_plural, pred_fruit, sing_or_plural))"
   ]
  },
  {
   "cell_type": "markdown",
   "metadata": {
    "_uuid": "deb90123bb4f4fdcd62ad3faf6139dd2e9a1c156"
   },
   "source": [
    "## Prediction Demo with Loaded Model"
   ]
  },
  {
   "cell_type": "code",
   "execution_count": 10,
   "metadata": {
    "_uuid": "32a49a5759f86243f3c212c6e010228e7e7f6606",
    "scrolled": false
   },
   "outputs": [
    {
     "name": "stderr",
     "output_type": "stream",
     "text": [
      "  0%|          | 0/164 [00:00<?, ?it/s]"
     ]
    },
    {
     "data": {
      "image/jpeg": "[encoded data removed]",
      "text/plain": [
       "<IPython.core.display.Image object>"
      ]
     },
     "metadata": {},
     "output_type": "display_data"
    },
    {
     "name": "stderr",
     "output_type": "stream",
     "text": [
      "/opt/conda/lib/python3.6/site-packages/skimage/transform/_warps.py:84: UserWarning: The default mode, 'constant', will be changed to 'reflect' in skimage 0.15.\n",
      "  warn(\"The default mode, 'constant', will be changed to 'reflect' in \"\n",
      "100%|██████████| 164/164 [00:00<00:00, 2514.23it/s]\n",
      "  0%|          | 0/166 [00:00<?, ?it/s]"
     ]
    },
    {
     "name": "stdout",
     "output_type": "stream",
     "text": [
      "Nectarine – predicted as Apple Red Yellow INCORRECT\n"
     ]
    },
    {
     "data": {
      "image/jpeg": "[encoded data removed]",
      "text/plain": [
       "<IPython.core.display.Image object>"
      ]
     },
     "metadata": {},
     "output_type": "display_data"
    },
    {
     "name": "stderr",
     "output_type": "stream",
     "text": [
      "100%|██████████| 166/166 [00:00<00:00, 12654.57it/s]\n",
      "  0%|          | 0/143 [00:00<?, ?it/s]"
     ]
    },
    {
     "name": "stdout",
     "output_type": "stream",
     "text": [
      "Kaki – predicted as Kaki \n"
     ]
    },
    {
     "data": {
      "image/jpeg": "[encoded data removed]",
      "text/plain": [
       "<IPython.core.display.Image object>"
      ]
     },
     "metadata": {},
     "output_type": "display_data"
    },
    {
     "name": "stderr",
     "output_type": "stream",
     "text": [
      "100%|██████████| 143/143 [00:00<00:00, 10773.17it/s]\n",
      "  0%|          | 0/161 [00:00<?, ?it/s]"
     ]
    },
    {
     "name": "stdout",
     "output_type": "stream",
     "text": [
      "Avocado – predicted as Avocado \n"
     ]
    },
    {
     "data": {
      "image/jpeg": "[encoded data removed]",
      "text/plain": [
       "<IPython.core.display.Image object>"
      ]
     },
     "metadata": {},
     "output_type": "display_data"
    },
    {
     "name": "stderr",
     "output_type": "stream",
     "text": [
      "100%|██████████| 161/161 [00:00<00:00, 12138.17it/s]\n",
      "  0%|          | 0/164 [00:00<?, ?it/s]"
     ]
    },
    {
     "name": "stdout",
     "output_type": "stream",
     "text": [
      "Apple Golden 3 – predicted as Apple Golden 3 \n"
     ]
    },
    {
     "data": {
      "image/jpeg": "[encoded data removed]",
      "text/plain": [
       "<IPython.core.display.Image object>"
      ]
     },
     "metadata": {},
     "output_type": "display_data"
    },
    {
     "name": "stderr",
     "output_type": "stream",
     "text": [
      "100%|██████████| 164/164 [00:00<00:00, 12460.21it/s]\n",
      "  0%|          | 0/166 [00:00<?, ?it/s]"
     ]
    },
    {
     "name": "stdout",
     "output_type": "stream",
     "text": [
      "Lemon – predicted as Lemon \n"
     ]
    },
    {
     "data": {
      "image/jpeg": "[encoded data removed]",
      "text/plain": [
       "<IPython.core.display.Image object>"
      ]
     },
     "metadata": {},
     "output_type": "display_data"
    },
    {
     "name": "stderr",
     "output_type": "stream",
     "text": [
      "100%|██████████| 166/166 [00:00<00:00, 11962.93it/s]\n",
      "  0%|          | 0/164 [00:00<?, ?it/s]"
     ]
    },
    {
     "name": "stdout",
     "output_type": "stream",
     "text": [
      "Pear Monster – predicted as Pear Monster \n"
     ]
    },
    {
     "data": {
      "image/jpeg": "[encoded data removed]",
      "text/plain": [
       "<IPython.core.display.Image object>"
      ]
     },
     "metadata": {},
     "output_type": "display_data"
    },
    {
     "name": "stderr",
     "output_type": "stream",
     "text": [
      "100%|██████████| 164/164 [00:00<00:00, 12189.72it/s]\n",
      "  0%|          | 0/246 [00:00<?, ?it/s]"
     ]
    },
    {
     "name": "stdout",
     "output_type": "stream",
     "text": [
      "Apple Red Yellow – predicted as Apple Red Yellow \n"
     ]
    },
    {
     "data": {
      "image/jpeg": "[encoded data removed]",
      "text/plain": [
       "<IPython.core.display.Image object>"
      ]
     },
     "metadata": {},
     "output_type": "display_data"
    },
    {
     "name": "stderr",
     "output_type": "stream",
     "text": [
      "100%|██████████| 246/246 [00:00<00:00, 18501.30it/s]\n",
      "  0%|          | 0/246 [00:00<?, ?it/s]"
     ]
    },
    {
     "name": "stdout",
     "output_type": "stream",
     "text": [
      "Tomato 1 – predicted as Tomato 1 \n"
     ]
    },
    {
     "data": {
      "image/jpeg": "[encoded data removed]",
      "text/plain": [
       "<IPython.core.display.Image object>"
      ]
     },
     "metadata": {},
     "output_type": "display_data"
    },
    {
     "name": "stderr",
     "output_type": "stream",
     "text": [
      "100%|██████████| 246/246 [00:00<00:00, 17963.70it/s]\n",
      "  0%|          | 0/164 [00:00<?, ?it/s]"
     ]
    },
    {
     "name": "stdout",
     "output_type": "stream",
     "text": [
      "Cherry 2 – predicted as Cherry 2 \n"
     ]
    },
    {
     "data": {
      "image/jpeg": "[encoded data removed]",
      "text/plain": [
       "<IPython.core.display.Image object>"
      ]
     },
     "metadata": {},
     "output_type": "display_data"
    },
    {
     "name": "stderr",
     "output_type": "stream",
     "text": [
      "100%|██████████| 164/164 [00:00<00:00, 12184.75it/s]\n",
      "  0%|          | 0/166 [00:00<?, ?it/s]"
     ]
    },
    {
     "name": "stdout",
     "output_type": "stream",
     "text": [
      "Apple Red 1 – predicted as Apple Red 1 \n"
     ]
    },
    {
     "data": {
      "image/jpeg": "[encoded data removed]",
      "text/plain": [
       "<IPython.core.display.Image object>"
      ]
     },
     "metadata": {},
     "output_type": "display_data"
    },
    {
     "name": "stderr",
     "output_type": "stream",
     "text": [
      "100%|██████████| 166/166 [00:00<00:00, 13028.23it/s]\n",
      "  0%|          | 0/166 [00:00<?, ?it/s]"
     ]
    },
    {
     "name": "stdout",
     "output_type": "stream",
     "text": [
      "Pear Abate – predicted as Pear Abate \n"
     ]
    },
    {
     "data": {
      "image/jpeg": "[encoded data removed]",
      "text/plain": [
       "<IPython.core.display.Image object>"
      ]
     },
     "metadata": {},
     "output_type": "display_data"
    },
    {
     "name": "stderr",
     "output_type": "stream",
     "text": [
      "100%|██████████| 166/166 [00:00<00:00, 11914.41it/s]\n",
      "  0%|          | 0/164 [00:00<?, ?it/s]"
     ]
    },
    {
     "name": "stdout",
     "output_type": "stream",
     "text": [
      "Mandarine – predicted as Mandarine \n"
     ]
    },
    {
     "data": {
      "image/jpeg": "[encoded data removed]",
      "text/plain": [
       "<IPython.core.display.Image object>"
      ]
     },
     "metadata": {},
     "output_type": "display_data"
    },
    {
     "name": "stderr",
     "output_type": "stream",
     "text": [
      "100%|██████████| 164/164 [00:00<00:00, 12601.28it/s]\n",
      "  0%|          | 0/246 [00:00<?, ?it/s]"
     ]
    },
    {
     "name": "stdout",
     "output_type": "stream",
     "text": [
      "Strawberry – predicted as Strawberry \n"
     ]
    },
    {
     "data": {
      "image/jpeg": "[encoded data removed]",
      "text/plain": [
       "<IPython.core.display.Image object>"
      ]
     },
     "metadata": {},
     "output_type": "display_data"
    },
    {
     "name": "stderr",
     "output_type": "stream",
     "text": [
      "100%|██████████| 246/246 [00:00<00:00, 16409.27it/s]\n",
      "  0%|          | 0/166 [00:00<?, ?it/s]"
     ]
    },
    {
     "name": "stdout",
     "output_type": "stream",
     "text": [
      "Cherry Rainier – predicted as Cherry Rainier \n"
     ]
    },
    {
     "data": {
      "image/jpeg": "[encoded data removed]",
      "text/plain": [
       "<IPython.core.display.Image object>"
      ]
     },
     "metadata": {},
     "output_type": "display_data"
    },
    {
     "name": "stderr",
     "output_type": "stream",
     "text": [
      "100%|██████████| 166/166 [00:00<00:00, 11869.52it/s]\n",
      "  0%|          | 0/164 [00:00<?, ?it/s]"
     ]
    },
    {
     "name": "stdout",
     "output_type": "stream",
     "text": [
      "Cocos – predicted as Cocos \n"
     ]
    },
    {
     "data": {
      "image/jpeg": "[encoded data removed]",
      "text/plain": [
       "<IPython.core.display.Image object>"
      ]
     },
     "metadata": {},
     "output_type": "display_data"
    },
    {
     "name": "stderr",
     "output_type": "stream",
     "text": [
      "100%|██████████| 164/164 [00:00<00:00, 11688.26it/s]\n",
      "  0%|          | 0/166 [00:00<?, ?it/s]"
     ]
    },
    {
     "name": "stdout",
     "output_type": "stream",
     "text": [
      "Cantaloupe 2 – predicted as Cantaloupe 2 \n"
     ]
    },
    {
     "data": {
      "image/jpeg": "[encoded data removed]",
      "text/plain": [
       "<IPython.core.display.Image object>"
      ]
     },
     "metadata": {},
     "output_type": "display_data"
    },
    {
     "name": "stderr",
     "output_type": "stream",
     "text": [
      "100%|██████████| 166/166 [00:00<00:00, 11278.30it/s]\n",
      "  0%|          | 0/164 [00:00<?, ?it/s]"
     ]
    },
    {
     "name": "stdout",
     "output_type": "stream",
     "text": [
      "Granadilla – predicted as Granadilla \n"
     ]
    },
    {
     "data": {
      "image/jpeg": "[encoded data removed]",
      "text/plain": [
       "<IPython.core.display.Image object>"
      ]
     },
     "metadata": {},
     "output_type": "display_data"
    },
    {
     "name": "stderr",
     "output_type": "stream",
     "text": [
      "100%|██████████| 164/164 [00:00<00:00, 12104.77it/s]\n",
      "  0%|          | 0/166 [00:00<?, ?it/s]"
     ]
    },
    {
     "name": "stdout",
     "output_type": "stream",
     "text": [
      "Pomegranate – predicted as Pomegranate \n"
     ]
    },
    {
     "data": {
      "image/jpeg": "[encoded data removed]",
      "text/plain": [
       "<IPython.core.display.Image object>"
      ]
     },
     "metadata": {},
     "output_type": "display_data"
    },
    {
     "name": "stderr",
     "output_type": "stream",
     "text": [
      "100%|██████████| 166/166 [00:00<00:00, 10866.75it/s]\n",
      "  0%|          | 0/166 [00:00<?, ?it/s]"
     ]
    },
    {
     "name": "stdout",
     "output_type": "stream",
     "text": [
      "Lychee – predicted as Lychee \n"
     ]
    },
    {
     "data": {
      "image/jpeg": "[encoded data removed]",
      "text/plain": [
       "<IPython.core.display.Image object>"
      ]
     },
     "metadata": {},
     "output_type": "display_data"
    },
    {
     "name": "stderr",
     "output_type": "stream",
     "text": [
      "100%|██████████| 166/166 [00:00<00:00, 12101.83it/s]\n",
      "  0%|          | 0/166 [00:00<?, ?it/s]"
     ]
    },
    {
     "name": "stdout",
     "output_type": "stream",
     "text": [
      "Quince – predicted as Quince \n"
     ]
    },
    {
     "data": {
      "image/jpeg": "[encoded data removed]",
      "text/plain": [
       "<IPython.core.display.Image object>"
      ]
     },
     "metadata": {},
     "output_type": "display_data"
    },
    {
     "name": "stderr",
     "output_type": "stream",
     "text": [
      "100%|██████████| 166/166 [00:00<00:00, 12670.69it/s]\n",
      "  0%|          | 0/166 [00:00<?, ?it/s]"
     ]
    },
    {
     "name": "stdout",
     "output_type": "stream",
     "text": [
      "Raspberry – predicted as Raspberry \n"
     ]
    },
    {
     "data": {
      "image/jpeg": "[encoded data removed]",
      "text/plain": [
       "<IPython.core.display.Image object>"
      ]
     },
     "metadata": {},
     "output_type": "display_data"
    },
    {
     "name": "stderr",
     "output_type": "stream",
     "text": [
      "100%|██████████| 166/166 [00:00<00:00, 13539.48it/s]\n",
      "  0%|          | 0/166 [00:00<?, ?it/s]"
     ]
    },
    {
     "name": "stdout",
     "output_type": "stream",
     "text": [
      "Tangelo – predicted as Tangelo \n"
     ]
    },
    {
     "data": {
      "image/jpeg": "[encoded data removed]",
      "text/plain": [
       "<IPython.core.display.Image object>"
      ]
     },
     "metadata": {},
     "output_type": "display_data"
    },
    {
     "name": "stdout",
     "output_type": "stream",
     "text": [
      "Mango – predicted as Mango \n"
     ]
    },
    {
     "name": "stderr",
     "output_type": "stream",
     "text": [
      "100%|██████████| 166/166 [00:00<00:00, 8917.42it/s]\n",
      "  0%|          | 0/151 [00:00<?, ?it/s]"
     ]
    },
    {
     "data": {
      "image/jpeg": "[encoded data removed]",
      "text/plain": [
       "<IPython.core.display.Image object>"
      ]
     },
     "metadata": {},
     "output_type": "display_data"
    },
    {
     "name": "stderr",
     "output_type": "stream",
     "text": [
      "100%|██████████| 151/151 [00:00<00:00, 9344.74it/s]\n",
      "  0%|          | 0/166 [00:00<?, ?it/s]"
     ]
    },
    {
     "name": "stdout",
     "output_type": "stream",
     "text": [
      "Plum – predicted as Plum \n"
     ]
    },
    {
     "data": {
      "image/jpeg": "[encoded data removed]",
      "text/plain": [
       "<IPython.core.display.Image object>"
      ]
     },
     "metadata": {},
     "output_type": "display_data"
    },
    {
     "name": "stderr",
     "output_type": "stream",
     "text": [
      "100%|██████████| 166/166 [00:00<00:00, 8113.81it/s]\n",
      "  0%|          | 0/164 [00:00<?, ?it/s]"
     ]
    },
    {
     "name": "stdout",
     "output_type": "stream",
     "text": [
      "Tamarillo – predicted as Tamarillo \n"
     ]
    },
    {
     "data": {
      "image/jpeg": "[encoded data removed]",
      "text/plain": [
       "<IPython.core.display.Image object>"
      ]
     },
     "metadata": {},
     "output_type": "display_data"
    },
    {
     "name": "stderr",
     "output_type": "stream",
     "text": [
      "100%|██████████| 164/164 [00:00<00:00, 10474.10it/s]\n",
      "  0%|          | 0/127 [00:00<?, ?it/s]"
     ]
    },
    {
     "name": "stdout",
     "output_type": "stream",
     "text": [
      "Apple Granny Smith – predicted as Apple Granny Smith \n"
     ]
    },
    {
     "data": {
      "image/jpeg": "[encoded data removed]",
      "text/plain": [
       "<IPython.core.display.Image object>"
      ]
     },
     "metadata": {},
     "output_type": "display_data"
    },
    {
     "name": "stderr",
     "output_type": "stream",
     "text": [
      "100%|██████████| 127/127 [00:00<00:00, 10235.32it/s]"
     ]
    },
    {
     "name": "stdout",
     "output_type": "stream",
     "text": [
      "Tomato Maroon – predicted as Tomato Maroon \n"
     ]
    },
    {
     "name": "stderr",
     "output_type": "stream",
     "text": [
      "\n",
      "  0%|          | 0/166 [00:00<?, ?it/s]"
     ]
    },
    {
     "data": {
      "image/jpeg": "[encoded data removed]",
      "text/plain": [
       "<IPython.core.display.Image object>"
      ]
     },
     "metadata": {},
     "output_type": "display_data"
    },
    {
     "name": "stderr",
     "output_type": "stream",
     "text": [
      "100%|██████████| 166/166 [00:00<00:00, 13798.97it/s]\n",
      "  0%|          | 0/166 [00:00<?, ?it/s]"
     ]
    },
    {
     "name": "stdout",
     "output_type": "stream",
     "text": [
      "Passion Fruit – predicted as Passion Fruit \n"
     ]
    },
    {
     "data": {
      "image/jpeg": "[encoded data removed]",
      "text/plain": [
       "<IPython.core.display.Image object>"
      ]
     },
     "metadata": {},
     "output_type": "display_data"
    },
    {
     "name": "stderr",
     "output_type": "stream",
     "text": [
      "100%|██████████| 166/166 [00:00<00:00, 11624.58it/s]\n",
      "  0%|          | 0/164 [00:00<?, ?it/s]"
     ]
    },
    {
     "name": "stdout",
     "output_type": "stream",
     "text": [
      "Lemon Meyer – predicted as Lemon Meyer \n"
     ]
    },
    {
     "data": {
      "image/jpeg": "[encoded data removed]",
      "text/plain": [
       "<IPython.core.display.Image object>"
      ]
     },
     "metadata": {},
     "output_type": "display_data"
    },
    {
     "name": "stderr",
     "output_type": "stream",
     "text": [
      "100%|██████████| 164/164 [00:00<00:00, 12918.88it/s]\n",
      "  0%|          | 0/166 [00:00<?, ?it/s]"
     ]
    },
    {
     "name": "stdout",
     "output_type": "stream",
     "text": [
      "Grapefruit White – predicted as Grapefruit White \n"
     ]
    },
    {
     "data": {
      "image/jpeg": "[encoded data removed]",
      "text/plain": [
       "<IPython.core.display.Image object>"
      ]
     },
     "metadata": {},
     "output_type": "display_data"
    },
    {
     "name": "stderr",
     "output_type": "stream",
     "text": [
      "100%|██████████| 166/166 [00:00<00:00, 12089.64it/s]\n",
      "  0%|          | 0/160 [00:00<?, ?it/s]"
     ]
    },
    {
     "name": "stdout",
     "output_type": "stream",
     "text": [
      "Banana Red – predicted as Banana Red \n"
     ]
    },
    {
     "data": {
      "image/jpeg": "[encoded data removed]",
      "text/plain": [
       "<IPython.core.display.Image object>"
      ]
     },
     "metadata": {},
     "output_type": "display_data"
    },
    {
     "name": "stderr",
     "output_type": "stream",
     "text": [
      "100%|██████████| 160/160 [00:00<00:00, 11343.62it/s]"
     ]
    },
    {
     "name": "stdout",
     "output_type": "stream",
     "text": [
      "Tomato 4 – predicted as Tomato 4 \n"
     ]
    },
    {
     "name": "stderr",
     "output_type": "stream",
     "text": [
      "\n",
      "  0%|          | 0/166 [00:00<?, ?it/s]"
     ]
    },
    {
     "data": {
      "image/jpeg": "[encoded data removed]",
      "text/plain": [
       "<IPython.core.display.Image object>"
      ]
     },
     "metadata": {},
     "output_type": "display_data"
    },
    {
     "name": "stderr",
     "output_type": "stream",
     "text": [
      "100%|██████████| 166/166 [00:00<00:00, 14093.36it/s]\n",
      "  0%|          | 0/164 [00:00<?, ?it/s]"
     ]
    },
    {
     "name": "stdout",
     "output_type": "stream",
     "text": [
      "Huckleberry – predicted as Huckleberry \n"
     ]
    },
    {
     "data": {
      "image/jpeg": "[encoded data removed]",
      "text/plain": [
       "<IPython.core.display.Image object>"
      ]
     },
     "metadata": {},
     "output_type": "display_data"
    },
    {
     "name": "stderr",
     "output_type": "stream",
     "text": [
      "100%|██████████| 164/164 [00:00<00:00, 12519.63it/s]\n",
      "  0%|          | 0/164 [00:00<?, ?it/s]"
     ]
    },
    {
     "name": "stdout",
     "output_type": "stream",
     "text": [
      "Cherry Wax Yellow – predicted as Cherry Wax Yellow \n"
     ]
    },
    {
     "data": {
      "image/jpeg": "[encoded data removed]",
      "text/plain": [
       "<IPython.core.display.Image object>"
      ]
     },
     "metadata": {},
     "output_type": "display_data"
    },
    {
     "name": "stderr",
     "output_type": "stream",
     "text": [
      "100%|██████████| 164/164 [00:00<00:00, 12880.66it/s]"
     ]
    },
    {
     "name": "stdout",
     "output_type": "stream",
     "text": [
      "Physalis with Husk – predicted as Physalis with Husk \n",
      "Nectarine – predicted as Apple Red Yellow INCORRECT\n",
      "Kaki – predicted as Kaki \n",
      "Avocado – predicted as Avocado \n",
      "Apple Golden 3 – predicted as Apple Golden 3 \n",
      "Lemon – predicted as Lemon \n",
      "Pear Monster – predicted as Pear Monster \n",
      "Apple Red Yellow – predicted as Apple Red Yellow \n",
      "Tomato 1 – predicted as Tomato 1 \n",
      "Cherry 2 – predicted as Cherry 2 \n",
      "Apple Red 1 – predicted as Apple Red 1 \n",
      "Pear Abate – predicted as Pear Abate \n",
      "Mandarine – predicted as Mandarine \n",
      "Strawberry – predicted as Strawberry \n",
      "Cherry Rainier – predicted as Cherry Rainier \n",
      "Cocos – predicted as Cocos \n",
      "Cantaloupe 2 – predicted as Cantaloupe 2 \n",
      "Granadilla – predicted as Granadilla \n",
      "Pomegranate – predicted as Pomegranate \n",
      "Lychee – predicted as Lychee \n",
      "Quince – predicted as Quince \n",
      "Raspberry – predicted as Raspberry \n",
      "Tangelo – predicted as Tangelo \n",
      "Mango – predicted as Mango \n",
      "Plum – predicted as Plum \n",
      "Tamarillo – predicted as Tamarillo \n",
      "Apple Granny Smith – predicted as Apple Granny Smith \n",
      "Tomato Maroon – predicted as Tomato Maroon \n",
      "Passion Fruit – predicted as Passion Fruit \n",
      "Lemon Meyer – predicted as Lemon Meyer \n",
      "Grapefruit White – predicted as Grapefruit White \n",
      "Banana Red – predicted as Banana Red \n",
      "Tomato 4 – predicted as Tomato 4 \n",
      "Huckleberry – predicted as Huckleberry \n",
      "Cherry Wax Yellow – predicted as Cherry Wax Yellow \n",
      "Physalis with Husk – predicted as Physalis with Husk \n"
     ]
    },
    {
     "name": "stderr",
     "output_type": "stream",
     "text": [
      "\n"
     ]
    }
   ],
   "source": [
    "def get_one_img_per_fruit(folder_path):\n",
    "    printouts = []\n",
    "    for idx, folder_name in enumerate(os.listdir(folder_path)[:35]):\n",
    "        if not folder_name.startswith('.'):\n",
    "            for idx2, file_name in enumerate(tqdm(os.listdir(folder_path + folder_name))):\n",
    "                if idx2 == 0:\n",
    "                    if not file_name.startswith('.'):\n",
    "                        img_filename = folder_path + folder_name + '/' + file_name\n",
    "                        display(Image(filename=img_filename))\n",
    "                        \n",
    "                        current_img = io.imread(img_filename)\n",
    "                        current_img = transform.resize(current_img, (img_size, img_size))\n",
    "                        current_img = np.asarray(current_img)\n",
    "                        current_img = np.asarray([current_img])\n",
    "                        \n",
    "                        current_pred = loaded_model.predict(current_img, batch_size=None, verbose=0, steps=None).argmax(axis=-1)\n",
    "                        current_pred = dict_idx_fruit[current_pred[0]]\n",
    "                        \n",
    "                        is_incorrect = 'INCORRECT' if folder_name != current_pred else ''\n",
    "                        \n",
    "                        msg = '{} – predicted as {} {}'.format(folder_name, current_pred, is_incorrect)\n",
    "                        print(msg)\n",
    "                        printouts.append(msg)\n",
    "    return printouts\n",
    "                    \n",
    "printouts = get_one_img_per_fruit(test_dir)\n",
    "\n",
    "for msg in printouts:\n",
    "    print(msg)"
   ]
  },
  {
   "cell_type": "markdown",
   "metadata": {
    "_uuid": "6d2e4882e77f31b0b2165206d6ca924f5d69b526"
   },
   "source": [
    "## Conclusion\n",
    "\n",
    "The final CNN model is performing 5% better than the initial model, with a validation accuracy of 99.4% and training accuracy of 99.9%. There is very little overfitting (0.5%) – less than in the original model.\n",
    "\n",
    "Looking at the crosstab by category, it is obvious that most fruits are being predicted accurately, with a handful (e.g. Nectarines, Pear Abates) that are more difficult to distinguish and thus bringing the accuracy of the overall model down. In the future, we could add more images to train on pairs of fruits that are being mistaken for each other (i.e. Nectarines vs. Apple Red Yellows, Pear Abates vs. Cocos, etc.). \n",
    "\n",
    "I could also add TensorBoard visualizations to visualize model performance in the future, but the environment I was working with (Kaggle GPU) was the limiting factor in this realm. Unfortunately, this was already barely enough resources to run my models as is."
   ]
  },
  {
   "cell_type": "code",
   "execution_count": null,
   "metadata": {
    "_uuid": "570bbd6e78b3c6f6871aae7f9959be12e205cec0",
    "collapsed": true
   },
   "outputs": [],
   "source": []
  }
 ],
 "metadata": {
  "kernelspec": {
   "display_name": "Python 3",
   "language": "python",
   "name": "python3"
  },
  "language_info": {
   "codemirror_mode": {
    "name": "ipython",
    "version": 3
   },
   "file_extension": ".py",
   "mimetype": "text/x-python",
   "name": "python",
   "nbconvert_exporter": "python",
   "pygments_lexer": "ipython3",
   "version": "3.6.5"
  }
 },
 "nbformat": 4,
 "nbformat_minor": 2
}
