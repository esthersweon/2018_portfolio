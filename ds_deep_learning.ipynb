{
 "cells": [
  {
   "cell_type": "markdown",
   "metadata": {
    "_uuid": "bba1251c788b599b28545e891482886aaae67913"
   },
   "source": [
    "# Using Deep Learning to Identify Images of Fruits\n",
    "\n",
    "I will be using deep learning techniques via the Keras API to train a Convolutional Neural Network (CNN) model on a dataset of fruit images, and evaluate this model's accuracy on a separate test dataset of fruit images.\n",
    "\n",
    "I will be focusing on optimizing my CNN model to give me the highest possible accuracy on both my training & test data.\n",
    "\n",
    "## Importing Training & Test Images"
   ]
  },
  {
   "cell_type": "code",
   "execution_count": 2,
   "metadata": {
    "_cell_guid": "b1076dfc-b9ad-4769-8c92-a6c4dae69d19",
    "_uuid": "8f2839f25d086af736a60e9eeb907d3b93b6e0e5",
    "collapsed": true
   },
   "outputs": [
    {
     "name": "stderr",
     "output_type": "stream",
     "text": [
      "  0%|          | 0/166 [00:00<?, ?it/s]/anaconda3/lib/python3.6/site-packages/skimage/transform/_warps.py:84: UserWarning: The default mode, 'constant', will be changed to 'reflect' in skimage 0.15.\n",
      "  warn(\"The default mode, 'constant', will be changed to 'reflect' in \"\n",
      "100%|██████████| 166/166 [00:00<00:00, 342.63it/s]\n",
      "100%|██████████| 166/166 [00:00<00:00, 347.12it/s]\n",
      "100%|██████████| 246/246 [00:00<00:00, 357.68it/s]\n",
      "100%|██████████| 164/164 [00:00<00:00, 347.11it/s]\n",
      "100%|██████████| 164/164 [00:00<00:00, 353.31it/s]\n",
      "100%|██████████| 165/165 [00:00<00:00, 353.16it/s]\n",
      "100%|██████████| 143/143 [00:00<00:00, 354.33it/s]\n",
      "100%|██████████| 164/164 [00:00<00:00, 352.39it/s]\n",
      "100%|██████████| 166/166 [00:00<00:00, 347.57it/s]\n",
      "100%|██████████| 166/166 [00:00<00:00, 359.77it/s]\n",
      "100%|██████████| 490/490 [00:01<00:00, 352.31it/s]\n",
      "100%|██████████| 490/490 [00:01<00:00, 357.15it/s]\n",
      "100%|██████████| 738/738 [00:02<00:00, 355.35it/s]\n",
      "100%|██████████| 492/492 [00:01<00:00, 359.55it/s]\n",
      "100%|██████████| 492/492 [00:01<00:00, 361.91it/s]\n",
      "100%|██████████| 492/492 [00:01<00:00, 361.10it/s]\n",
      "100%|██████████| 427/427 [00:01<00:00, 359.27it/s]\n",
      "100%|██████████| 492/492 [00:01<00:00, 363.47it/s]\n",
      "100%|██████████| 490/490 [00:01<00:00, 359.00it/s]\n",
      "100%|██████████| 490/490 [00:01<00:00, 346.45it/s]\n"
     ]
    }
   ],
   "source": [
    "import os\n",
    "from tqdm import tqdm\n",
    "\n",
    "import numpy as np\n",
    "import pandas as pd\n",
    "import skimage\n",
    "from skimage import io, transform\n",
    "from IPython.display import Image, display\n",
    "\n",
    "import keras\n",
    "from keras.models import Sequential\n",
    "from keras.layers import Dense, Dropout, Flatten, Conv2D, MaxPooling2D, BatchNormalization\n",
    "from keras.layers import LSTM, Input\n",
    "from keras.models import Model\n",
    "from keras.optimizers import Adam\n",
    "\n",
    "img_size = 100\n",
    "train_dir = './data/fruits/test/'\n",
    "test_dir =  './data/fruits/train/'\n",
    "\n",
    "def get_data(folder_path):\n",
    "    imgs = []\n",
    "    indices = []\n",
    "    labels = []\n",
    "    for idx, folder_name in enumerate(os.listdir(folder_path)[:10]):\n",
    "        if not folder_name.startswith('.'):\n",
    "            labels.append(folder_name)\n",
    "            for file_name in tqdm(os.listdir(folder_path + folder_name)):\n",
    "                if not file_name.startswith('.'):\n",
    "                    img_file = io.imread(folder_path + folder_name + '/' + file_name)\n",
    "                    if img_file is not None:\n",
    "                        img_file = transform.resize(img_file, (img_size, img_size))\n",
    "                        imgs.append(np.asarray(img_file))\n",
    "                        indices.append(idx)\n",
    "    imgs = np.asarray(imgs)\n",
    "    indices = np.asarray(indices)\n",
    "    labels = np.asarray(labels)\n",
    "    return imgs, indices, labels\n",
    "\n",
    "X_train, y_train, train_labels = get_data(train_dir)\n",
    "X_test, y_test, test_labels = get_data(test_dir)"
   ]
  },
  {
   "cell_type": "markdown",
   "metadata": {
    "_cell_guid": "79c7e3d0-c299-4dcb-8224-4455121ee9b0",
    "_uuid": "d629ff2d2480ee46fbb7e2d37f6b5fab8052498a"
   },
   "source": [
    "## Data Wrangling"
   ]
  },
  {
   "cell_type": "code",
   "execution_count": 3,
   "metadata": {
    "_uuid": "d2b6e53ff4d63ee0800f862a35c37d446260faa4",
    "collapsed": true
   },
   "outputs": [
    {
     "name": "stdout",
     "output_type": "stream",
     "text": [
      "X_train shape: (1709, 100, 100, 3)\n",
      "X_test shape: (5093, 100, 100, 3)\n",
      "y_train: [0 0 0 ... 9 9 9]\n",
      "y_test: [0 0 0 ... 9 9 9]\n"
     ]
    }
   ],
   "source": [
    "print('X_train shape:', X_train.shape)\n",
    "print('X_test shape:', X_test.shape)\n",
    "print('y_train:', y_train)\n",
    "print('y_test:', y_test)\n",
    "# print('First image - X_train:', X_train[0])\n",
    "\n",
    "num_categories = len(np.unique(y_train))\n",
    "\n",
    "new_X_train = X_train.reshape(X_train.shape[0], X_train.shape[1], X_train.shape[2], X_train.shape[3]).astype('float32')\n",
    "new_X_test = X_test.reshape(X_test.shape[0], X_test.shape[1], X_test.shape[2], X_test.shape[3]).astype('float32')\n",
    "new_y_train = keras.utils.to_categorical(y_train, num_categories)\n",
    "new_y_test = keras.utils.to_categorical(y_test, num_categories)"
   ]
  },
  {
   "cell_type": "markdown",
   "metadata": {
    "_uuid": "a6a733842f97046a9d84d5bfc4f4706112be7089"
   },
   "source": [
    "## Exploratory Data Analysis"
   ]
  },
  {
   "cell_type": "code",
   "execution_count": 4,
   "metadata": {
    "_uuid": "daec20a5cf3d33f9152158f8966550226fe6cd70",
    "collapsed": true
   },
   "outputs": [],
   "source": [
    "def display_imgs(folder_path):\n",
    "    for idx, folder_name in enumerate(os.listdir(folder_path)):\n",
    "        if idx % 25 == 0:\n",
    "            if not folder_name.startswith('.'):\n",
    "                for idx2, file_name in enumerate(tqdm(os.listdir(folder_path + folder_name))):\n",
    "                    if idx2 % 75 == 0:\n",
    "                        if not file_name.startswith('.'):\n",
    "                            img_filename = folder_path + folder_name + '/' + file_name\n",
    "                            display(Image(filename=img_filename))"
   ]
  },
  {
   "cell_type": "markdown",
   "metadata": {
    "_uuid": "7ee4e6062b24df817decc7db886b1191db01c216"
   },
   "source": [
    "### Examples of Training Images"
   ]
  },
  {
   "cell_type": "code",
   "execution_count": 5,
   "metadata": {
    "_uuid": "0b1e099a114f62d93e16e1e8f67e5fe30e0a8af4",
    "collapsed": true
   },
   "outputs": [
    {
     "name": "stderr",
     "output_type": "stream",
     "text": [
      "  0%|          | 0/166 [00:00<?, ?it/s]"
     ]
    },
    {
     "data": {
      "image/jpeg": "[encoded data removed]",
      "text/plain": [
       "<IPython.core.display.Image object>"
      ]
     },
     "metadata": {},
     "output_type": "display_data"
    },
    {
     "data": {
      "image/jpeg": "[encoded data removed]",
      "text/plain": [
       "<IPython.core.display.Image object>"
      ]
     },
     "metadata": {},
     "output_type": "display_data"
    },
    {
     "data": {
      "image/jpeg": "[encoded data removed]",
      "text/plain": [
       "<IPython.core.display.Image object>"
      ]
     },
     "metadata": {},
     "output_type": "display_data"
    },
    {
     "name": "stderr",
     "output_type": "stream",
     "text": [
      "100%|██████████| 166/166 [00:00<00:00, 22378.97it/s]\n",
      "  0%|          | 0/164 [00:00<?, ?it/s]"
     ]
    },
    {
     "data": {
      "image/jpeg": "[encoded data removed]",
      "text/plain": [
       "<IPython.core.display.Image object>"
      ]
     },
     "metadata": {},
     "output_type": "display_data"
    },
    {
     "data": {
      "image/jpeg": "[encoded data removed]",
      "text/plain": [
       "<IPython.core.display.Image object>"
      ]
     },
     "metadata": {},
     "output_type": "display_data"
    },
    {
     "data": {
      "image/jpeg": "[encoded data removed]",
      "text/plain": [
       "<IPython.core.display.Image object>"
      ]
     },
     "metadata": {},
     "output_type": "display_data"
    },
    {
     "name": "stderr",
     "output_type": "stream",
     "text": [
      "100%|██████████| 164/164 [00:00<00:00, 32560.16it/s]\n",
      "  0%|          | 0/166 [00:00<?, ?it/s]"
     ]
    },
    {
     "data": {
      "image/jpeg": "[encoded data removed]",
      "text/plain": [
       "<IPython.core.display.Image object>"
      ]
     },
     "metadata": {},
     "output_type": "display_data"
    },
    {
     "data": {
      "image/jpeg": "[encoded data removed]",
      "text/plain": [
       "<IPython.core.display.Image object>"
      ]
     },
     "metadata": {},
     "output_type": "display_data"
    },
    {
     "data": {
      "image/jpeg": "[encoded data removed]",
      "text/plain": [
       "<IPython.core.display.Image object>"
      ]
     },
     "metadata": {},
     "output_type": "display_data"
    },
    {
     "name": "stderr",
     "output_type": "stream",
     "text": [
      "100%|██████████| 166/166 [00:00<00:00, 28611.24it/s]\n"
     ]
    }
   ],
   "source": [
    "display_imgs(train_dir)"
   ]
  },
  {
   "cell_type": "markdown",
   "metadata": {
    "_uuid": "f7a8eedd0e7a2a9659aae329fe1f053c4831b882"
   },
   "source": [
    "### Examples of Test Images"
   ]
  },
  {
   "cell_type": "code",
   "execution_count": 6,
   "metadata": {
    "_uuid": "187d471260911d090453ebb7f393e4930e6b5a28",
    "collapsed": true
   },
   "outputs": [
    {
     "name": "stderr",
     "output_type": "stream",
     "text": [
      "  0%|          | 0/490 [00:00<?, ?it/s]"
     ]
    },
    {
     "data": {
      "image/jpeg": "[encoded data removed]",
      "text/plain": [
       "<IPython.core.display.Image object>"
      ]
     },
     "metadata": {},
     "output_type": "display_data"
    },
    {
     "data": {
      "image/jpeg": "[encoded data removed]",
      "text/plain": [
       "<IPython.core.display.Image object>"
      ]
     },
     "metadata": {},
     "output_type": "display_data"
    },
    {
     "data": {
      "image/jpeg": "[encoded data removed]",
      "text/plain": [
       "<IPython.core.display.Image object>"
      ]
     },
     "metadata": {},
     "output_type": "display_data"
    },
    {
     "data": {
      "image/jpeg": "[encoded data removed]",
      "text/plain": [
       "<IPython.core.display.Image object>"
      ]
     },
     "metadata": {},
     "output_type": "display_data"
    },
    {
     "data": {
      "image/jpeg": "[encoded data removed]",
      "text/plain": [
       "<IPython.core.display.Image object>"
      ]
     },
     "metadata": {},
     "output_type": "display_data"
    },
    {
     "data": {
      "image/jpeg": "[encoded data removed]",
      "text/plain": [
       "<IPython.core.display.Image object>"
      ]
     },
     "metadata": {},
     "output_type": "display_data"
    },
    {
     "data": {
      "image/jpeg": "[encoded data removed]",
      "text/plain": [
       "<IPython.core.display.Image object>"
      ]
     },
     "metadata": {},
     "output_type": "display_data"
    },
    {
     "name": "stderr",
     "output_type": "stream",
     "text": [
      "100%|██████████| 490/490 [00:00<00:00, 41476.64it/s]\n",
      "  0%|          | 0/492 [00:00<?, ?it/s]"
     ]
    },
    {
     "data": {
      "image/jpeg": "[encoded data removed]",
      "text/plain": [
       "<IPython.core.display.Image object>"
      ]
     },
     "metadata": {},
     "output_type": "display_data"
    },
    {
     "data": {
      "image/jpeg": "[encoded data removed]",
      "text/plain": [
       "<IPython.core.display.Image object>"
      ]
     },
     "metadata": {},
     "output_type": "display_data"
    },
    {
     "data": {
      "image/jpeg": "[encoded data removed]",
      "text/plain": [
       "<IPython.core.display.Image object>"
      ]
     },
     "metadata": {},
     "output_type": "display_data"
    },
    {
     "data": {
      "image/jpeg": "[encoded data removed]",
      "text/plain": [
       "<IPython.core.display.Image object>"
      ]
     },
     "metadata": {},
     "output_type": "display_data"
    },
    {
     "data": {
      "image/jpeg": "[encoded data removed]",
      "text/plain": [
       "<IPython.core.display.Image object>"
      ]
     },
     "metadata": {},
     "output_type": "display_data"
    },
    {
     "data": {
      "image/jpeg": "[encoded data removed]",
      "text/plain": [
       "<IPython.core.display.Image object>"
      ]
     },
     "metadata": {},
     "output_type": "display_data"
    },
    {
     "data": {
      "image/jpeg": "[encoded data removed]",
      "text/plain": [
       "<IPython.core.display.Image object>"
      ]
     },
     "metadata": {},
     "output_type": "display_data"
    },
    {
     "name": "stderr",
     "output_type": "stream",
     "text": [
      "100%|██████████| 492/492 [00:00<00:00, 41557.03it/s]\n",
      "  0%|          | 0/490 [00:00<?, ?it/s]"
     ]
    },
    {
     "data": {
      "image/jpeg": "[encoded data removed]",
      "text/plain": [
       "<IPython.core.display.Image object>"
      ]
     },
     "metadata": {},
     "output_type": "display_data"
    },
    {
     "data": {
      "image/jpeg": "[encoded data removed]",
      "text/plain": [
       "<IPython.core.display.Image object>"
      ]
     },
     "metadata": {},
     "output_type": "display_data"
    },
    {
     "data": {
      "image/jpeg": "[encoded data removed]",
      "text/plain": [
       "<IPython.core.display.Image object>"
      ]
     },
     "metadata": {},
     "output_type": "display_data"
    },
    {
     "data": {
      "image/jpeg": "[encoded data removed]",
      "text/plain": [
       "<IPython.core.display.Image object>"
      ]
     },
     "metadata": {},
     "output_type": "display_data"
    },
    {
     "data": {
      "image/jpeg": "[encoded data removed]",
      "text/plain": [
       "<IPython.core.display.Image object>"
      ]
     },
     "metadata": {},
     "output_type": "display_data"
    },
    {
     "data": {
      "image/jpeg": "[encoded data removed]",
      "text/plain": [
       "<IPython.core.display.Image object>"
      ]
     },
     "metadata": {},
     "output_type": "display_data"
    },
    {
     "data": {
      "image/jpeg": "[encoded data removed]",
      "text/plain": [
       "<IPython.core.display.Image object>"
      ]
     },
     "metadata": {},
     "output_type": "display_data"
    },
    {
     "name": "stderr",
     "output_type": "stream",
     "text": [
      "100%|██████████| 490/490 [00:00<00:00, 38272.05it/s]\n"
     ]
    }
   ],
   "source": [
    "display_imgs(test_dir)"
   ]
  },
  {
   "cell_type": "markdown",
   "metadata": {
    "_uuid": "f5ac3fd9818637f6ce628d6abcc3c7c4f8e14bc2"
   },
   "source": [
    "## Initial Model Selection\n",
    "### Convolutional Neural Network (CNN)"
   ]
  },
  {
   "cell_type": "code",
   "execution_count": 7,
   "metadata": {
    "_uuid": "882e982758253064cc542eb250e78f9f0c0be851",
    "collapsed": true
   },
   "outputs": [],
   "source": [
    "def evaluate_model(model, batch_size, epochs):\n",
    "    history = model.fit(new_X_train, new_y_train, batch_size=batch_size, epochs=epochs, verbose=1, validation_data=(new_X_test, new_y_test))\n",
    "    score = model.evaluate(new_X_test, new_y_test, verbose=0)\n",
    "    print('***Metrics Names***', model.metrics_names)\n",
    "    print('***Metrics Values***', score)"
   ]
  },
  {
   "cell_type": "code",
   "execution_count": null,
   "metadata": {
    "_uuid": "fa628de94ca588d5321883962c3493577b8ded0d",
    "collapsed": true
   },
   "outputs": [],
   "source": [
    "convolutional = Sequential()\n",
    "\n",
    "convolutional.add(Conv2D(32, kernel_size=(3,3), activation='relu', input_shape=(X_train.shape[1], X_train.shape[2], X_train.shape[3],)))\n",
    "convolutional.add(Conv2D(64, (3, 3), activation='relu'))\n",
    "convolutional.add(MaxPooling2D(pool_size=(2, 2)))\n",
    "convolutional.add(Dropout(0.25))\n",
    "\n",
    "convolutional.add(Flatten())\n",
    "convolutional.add(Dense(128, activation='relu'))\n",
    "convolutional.add(Dropout(0.5))\n",
    "convolutional.add(Dense(num_categories, activation='softmax'))\n",
    "\n",
    "convolutional.summary()\n",
    "convolutional.compile(loss=\"categorical_crossentropy\", optimizer=Adam(), metrics=['accuracy'])\n",
    "\n",
    "evaluate_model(convolutional, 128, 5)"
   ]
  },
  {
   "cell_type": "markdown",
   "metadata": {
    "_uuid": "4dbb88e68f313fff1eb8dbb54c10fb6dca34e312"
   },
   "source": [
    "From the above epochs, I can already see that my model is over-fitting on my training data from the 2nd epoch on – we can see that the model's testing accuracy is OVER 15% higher than its validation accuracy by the 3rd epoch. The highest validation accuracy comes at the 4th epoch (~81%), and drops in the subsequent epoch. \n",
    "\n",
    "Overall, my model is performing at ~81% accuracy at its best, but is drastically overfitting. I will now be attempting to optimize this model. \n",
    "\n",
    "## Optimizing the CNN Model\n",
    "### Strategy 1 – Increase Dropout Rates to Counter Overfitting"
   ]
  },
  {
   "cell_type": "code",
   "execution_count": null,
   "metadata": {
    "_uuid": "6cf840a87323d52d2ed65f62968b1467db9c8907",
    "collapsed": true
   },
   "outputs": [],
   "source": [
    "convolutional = Sequential()\n",
    "\n",
    "convolutional.add(Conv2D(32, kernel_size=(3,3), activation='relu', input_shape=(X_train.shape[1], X_train.shape[2], X_train.shape[3],)))\n",
    "convolutional.add(Conv2D(64, (3, 3), activation='relu'))\n",
    "convolutional.add(MaxPooling2D(pool_size=(2, 2)))\n",
    "convolutional.add(Dropout(0.6))\n",
    "\n",
    "convolutional.add(Flatten())\n",
    "convolutional.add(Dense(128, activation='relu'))\n",
    "convolutional.add(Dropout(0.6))\n",
    "convolutional.add(Dense(num_categories, activation='softmax'))\n",
    "\n",
    "convolutional.summary()\n",
    "convolutional.compile(loss=\"categorical_crossentropy\", optimizer=Adam(), metrics=['accuracy'])\n",
    "\n",
    "evaluate_model(convolutional, 128, 7)"
   ]
  },
  {
   "cell_type": "markdown",
   "metadata": {
    "_uuid": "f6e1a3110107eb4c6314cc3b41e70c4e03791ff9"
   },
   "source": [
    "Increasing the dropout does help with overfitting – it doesn't overfit until the 3rd epoch, and even then by a smaller percentage, but that overfit percentage does go back up by the 4th and 5th epoch. \n",
    "\n",
    "Overall, this model seems to have a better performance than my initial model, hovering at ~84% validation accuracy at its best, with less overfitting.\n",
    "\n",
    "### Strategy 2 – Use Different Loss Functions [Not Successful]"
   ]
  },
  {
   "cell_type": "code",
   "execution_count": null,
   "metadata": {
    "_uuid": "5bfce997dd56a47338f7f46ccc252a5674bb2ae1",
    "collapsed": true
   },
   "outputs": [],
   "source": [
    "def run_with_loss(loss):\n",
    "    convolutional = Sequential()\n",
    "\n",
    "    convolutional.add(Conv2D(32, kernel_size=(3,3), activation='relu', input_shape=(X_train.shape[1], X_train.shape[2], X_train.shape[3],)))\n",
    "    convolutional.add(Conv2D(64, (3, 3), activation='relu'))\n",
    "    convolutional.add(MaxPooling2D(pool_size=(2, 2)))\n",
    "    convolutional.add(Dropout(0.6))\n",
    "\n",
    "    convolutional.add(Flatten())\n",
    "    convolutional.add(Dense(128, activation='relu'))\n",
    "    convolutional.add(Dropout(0.6))\n",
    "    convolutional.add(Dense(num_categories, activation='softmax'))\n",
    "\n",
    "    convolutional.summary()\n",
    "    convolutional.compile(loss=loss, optimizer=Adam(), metrics=['accuracy'])\n",
    "\n",
    "    evaluate_model(convolutional, 128, 5)\n",
    "\n",
    "losses = ['mean_squared_error', 'mean_absolute_error', 'mean_squared_logarithmic_error']\n",
    "\n",
    "for loss in losses:\n",
    "    run_with_loss(loss)"
   ]
  },
  {
   "cell_type": "markdown",
   "metadata": {
    "_uuid": "742f372d722112e0831969fab9225600e9be67a0"
   },
   "source": [
    "None of these other loss functions show a significant improvement over the original loss function of 'categorical_crossentropy'. Of the 3 attempted, 'mean_squared_error' performed the best, coming in with a validation accuracy of ~73% before overfitting.\n",
    "\n",
    "### Strategy 3 – Add More Convolutional Layers [Successful]"
   ]
  },
  {
   "cell_type": "code",
   "execution_count": null,
   "metadata": {
    "_uuid": "a73a517d2a924dd975f81d944e4f099d1af55f2b",
    "collapsed": true,
    "scrolled": true
   },
   "outputs": [],
   "source": [
    "convolutional = Sequential()\n",
    "\n",
    "convolutional.add(Conv2D(32, kernel_size=(3,3), activation='relu', input_shape=(X_train.shape[1], X_train.shape[2], X_train.shape[3],)))\n",
    "convolutional.add(Conv2D(64, (3, 3), activation='relu'))\n",
    "convolutional.add(MaxPooling2D(pool_size=(2, 2)))\n",
    "convolutional.add(Dropout(0.35))\n",
    "\n",
    "# CHANGE\n",
    "convolutional.add(Conv2D(128, kernel_size=(3,3), activation='relu'))\n",
    "convolutional.add(Conv2D(256, (3, 3), activation='relu'))\n",
    "convolutional.add(MaxPooling2D(pool_size=(2, 2)))\n",
    "convolutional.add(Dropout(0.35))\n",
    "\n",
    "convolutional.add(Flatten())\n",
    "convolutional.add(Dense(512, activation='relu'))\n",
    "convolutional.add(Dropout(0.6))\n",
    "convolutional.add(Dense(num_categories, activation='softmax'))\n",
    "\n",
    "convolutional.summary()\n",
    "convolutional.compile(loss=\"categorical_crossentropy\", optimizer=Adam(), metrics=['accuracy'])\n",
    "\n",
    "evaluate_model(convolutional, 128, 5)"
   ]
  },
  {
   "cell_type": "markdown",
   "metadata": {
    "_uuid": "c56fe2dc77e51bd8e7f9fb8f628bf1a09f27c4d8"
   },
   "source": [
    "This model is still overfitting from the 3rd epoch onwards, but I am getting a slightly better performance with best validation accuracy of ~85%.\n",
    "\n",
    "### Strategy 4 – Decrease Batch Size [Successful]"
   ]
  },
  {
   "cell_type": "code",
   "execution_count": null,
   "metadata": {
    "_uuid": "7a104abe9b1a68096f0b9c398c9fbda1cc8ea02b",
    "collapsed": true
   },
   "outputs": [],
   "source": [
    "convolutional = Sequential()\n",
    "\n",
    "convolutional.add(Conv2D(32, kernel_size=(3,3), activation='relu', input_shape=(X_train.shape[1], X_train.shape[2], X_train.shape[3],)))\n",
    "convolutional.add(Conv2D(64, (3, 3), activation='relu'))\n",
    "convolutional.add(MaxPooling2D(pool_size=(2, 2)))\n",
    "convolutional.add(Dropout(0.35))\n",
    "\n",
    "# CHANGE\n",
    "convolutional.add(Conv2D(128, kernel_size=(3,3), activation='relu'))\n",
    "convolutional.add(Conv2D(256, (3, 3), activation='relu'))\n",
    "convolutional.add(MaxPooling2D(pool_size=(2, 2)))\n",
    "convolutional.add(Dropout(0.35))\n",
    "\n",
    "convolutional.add(Flatten())\n",
    "convolutional.add(Dense(512, activation='relu'))\n",
    "convolutional.add(Dropout(0.6))\n",
    "convolutional.add(Dense(num_categories, activation='softmax'))\n",
    "\n",
    "convolutional.summary()\n",
    "convolutional.compile(loss=\"categorical_crossentropy\", optimizer=Adam(), metrics=['accuracy'])\n",
    "\n",
    "evaluate_model(convolutional, 32, 5)"
   ]
  },
  {
   "cell_type": "markdown",
   "metadata": {
    "_uuid": "4e2deb29a2cdf8253eb84d368c93d3656b793415"
   },
   "source": [
    "This is yielding better performance – it is still slightly overfitting from the 3rd epoch on, but validation accuracy is hovering at ~85%, with a max of ~87%. \n",
    "\n",
    "### Strategy 5 – Decrease Kernel Size [Not Successful]"
   ]
  },
  {
   "cell_type": "code",
   "execution_count": null,
   "metadata": {
    "_uuid": "511810f470015b371fe2ca37fa7dc0708b28ac2d",
    "collapsed": true
   },
   "outputs": [],
   "source": [
    "convolutional = Sequential()\n",
    "\n",
    "convolutional.add(Conv2D(32, kernel_size=(2,2), activation='relu', input_shape=(X_train.shape[1], X_train.shape[2], X_train.shape[3],)))\n",
    "convolutional.add(Conv2D(64, (2, 2), activation='relu'))\n",
    "convolutional.add(MaxPooling2D(pool_size=(2, 2)))\n",
    "convolutional.add(Dropout(0.35))\n",
    "\n",
    "# CHANGE\n",
    "convolutional.add(Conv2D(128, kernel_size=(2,2), activation='relu'))\n",
    "convolutional.add(Conv2D(256, (2, 2), activation='relu'))\n",
    "convolutional.add(MaxPooling2D(pool_size=(2, 2)))\n",
    "convolutional.add(Dropout(0.35))\n",
    "\n",
    "convolutional.add(Flatten())\n",
    "convolutional.add(Dense(512, activation='relu'))\n",
    "convolutional.add(Dropout(0.6))\n",
    "convolutional.add(Dense(num_categories, activation='softmax'))\n",
    "\n",
    "convolutional.summary()\n",
    "convolutional.compile(loss=\"categorical_crossentropy\", optimizer=Adam(), metrics=['accuracy'])\n",
    "\n",
    "evaluate_model(convolutional, 32, 5)"
   ]
  },
  {
   "cell_type": "markdown",
   "metadata": {
    "_uuid": "a11848de250cea34a0cca05ec5c06cd35a4a4275"
   },
   "source": [
    "Decreasing kernel size doesn't yield any significant improvements – if anything, it causes the model to overfit earlier and to reach a slightly lower maximum validation accuracy (~85%). \n",
    "\n",
    "### Strategy 6 – Decrease Learning Rate [Successful]"
   ]
  },
  {
   "cell_type": "code",
   "execution_count": null,
   "metadata": {
    "_uuid": "630eb418619de0e66df745b945a1eeabb54551d0",
    "collapsed": true
   },
   "outputs": [],
   "source": [
    "convolutional = Sequential()\n",
    "\n",
    "convolutional.add(Conv2D(32, kernel_size=(3,3), activation='relu', input_shape=(X_train.shape[1], X_train.shape[2], X_train.shape[3],)))\n",
    "convolutional.add(Conv2D(64, (3, 3), activation='relu'))\n",
    "convolutional.add(MaxPooling2D(pool_size=(2, 2)))\n",
    "convolutional.add(Dropout(0.35))\n",
    "\n",
    "# CHANGE\n",
    "convolutional.add(Conv2D(128, kernel_size=(3,3), activation='relu'))\n",
    "convolutional.add(Conv2D(256, (3, 3), activation='relu'))\n",
    "convolutional.add(MaxPooling2D(pool_size=(2, 2)))\n",
    "convolutional.add(Dropout(0.35))\n",
    "\n",
    "convolutional.add(Flatten())\n",
    "convolutional.add(Dense(512, activation='relu'))\n",
    "convolutional.add(Dropout(0.6))\n",
    "convolutional.add(Dense(num_categories, activation='softmax'))\n",
    "\n",
    "convolutional.summary()\n",
    "convolutional.compile(loss=\"categorical_crossentropy\", optimizer=Adam(lr=.0005), metrics=['accuracy'])\n",
    "\n",
    "evaluate_model(convolutional, 32, 5)"
   ]
  },
  {
   "cell_type": "markdown",
   "metadata": {
    "_uuid": "7a960b5510a4b6b692331ff37430bc5a89ff4754"
   },
   "source": [
    "Decreasing the learning rate resulted in slightly higher accuracy rates, though it did slightly increase the runtime of the model. I will be keeping this lower learning rate, as I don't believe the speed decrease was significant enough to be a detriment to the model.\n",
    "\n",
    "## Finalizing Model\n",
    "\n",
    "Combine all successful optimizing strategies (additional convolutional layers, increased dropout rates, decreased batch size, etc.), alongside Batch Normalization, for a final optimized model."
   ]
  },
  {
   "cell_type": "code",
   "execution_count": null,
   "metadata": {
    "_uuid": "4a38969c880f3a180ab834e90de9f0adb0d3f973",
    "collapsed": true
   },
   "outputs": [],
   "source": [
    "convolutional = Sequential()\n",
    "\n",
    "convolutional.add(Conv2D(32, kernel_size=(3,3), activation='relu', input_shape=(X_train.shape[1], X_train.shape[2], X_train.shape[3],)))\n",
    "convolutional.add(Conv2D(64, (3, 3), activation='relu'))\n",
    "convolutional.add(MaxPooling2D(pool_size=(2, 2)))\n",
    "convolutional.add(Dropout(0.35))\n",
    "\n",
    "# CHANGE\n",
    "convolutional.add(Conv2D(128, kernel_size=(3,3), activation='relu'))\n",
    "convolutional.add(Conv2D(256, (3, 3), activation='relu'))\n",
    "convolutional.add(MaxPooling2D(pool_size=(2, 2)))\n",
    "convolutional.add(Dropout(0.35))\n",
    "\n",
    "convolutional.add(Flatten())\n",
    "convolutional.add(Dense(512, activation='relu'))\n",
    "convolutional.add(Dropout(0.6))\n",
    "convolutional.add(BatchNormalization())\n",
    "convolutional.add(Dense(num_categories, activation='softmax'))\n",
    "\n",
    "convolutional.summary()\n",
    "convolutional.compile(loss=\"categorical_crossentropy\", optimizer=Adam(lr=.0005), metrics=['accuracy'])\n",
    "\n",
    "evaluate_model(convolutional, 32, 5)"
   ]
  },
  {
   "cell_type": "markdown",
   "metadata": {
    "_uuid": "e17362a46e9505cd81570167707ec1520c609eb8"
   },
   "source": [
    "### Evaluating Finalized Model"
   ]
  },
  {
   "cell_type": "code",
   "execution_count": null,
   "metadata": {
    "_uuid": "38586ae80982c0317e226abb59ab143928b3d007",
    "collapsed": true
   },
   "outputs": [],
   "source": [
    "y_pred = convolutional.predict(new_X_test, batch_size=None, verbose=0, steps=None).argmax(axis=-1)\n",
    "res_crosstab = pd.crosstab(y_pred, y_test)\n",
    "\n",
    "dict_idx_fruit = {idx: label for idx, label in enumerate(test_labels)}\n",
    "print(dict_idx_fruit)\n",
    "\n",
    "res_crosstab"
   ]
  },
  {
   "cell_type": "code",
   "execution_count": null,
   "metadata": {
    "_uuid": "6d473cc9ed50f7fdc0d78d3f058329cf08324c1a",
    "collapsed": true
   },
   "outputs": [],
   "source": [
    "for idx in range(num_categories):\n",
    "    accuracy = res_crosstab.loc[idx, idx] / res_crosstab.loc[:, idx].sum()\n",
    "    flag = '***LOW***' if accuracy < 0.8 else ''\n",
    "    print(dict_idx_fruit[idx])\n",
    "    print('   ', flag, 'accuracy –', round(accuracy * 100, 2), '%')"
   ]
  },
  {
   "cell_type": "markdown",
   "metadata": {
    "_uuid": "f1ef22749a7a901e72e3858c36797d4c20b18cac"
   },
   "source": [
    "## Running Final Model On More Data"
   ]
  },
  {
   "cell_type": "code",
   "execution_count": 1,
   "metadata": {
    "_uuid": "59c3cb68ca1a033e56d5eae0a106a7461630bb6b"
   },
   "outputs": [
    {
     "name": "stderr",
     "output_type": "stream",
     "text": [
      "/opt/conda/lib/python3.6/site-packages/h5py/__init__.py:36: FutureWarning: Conversion of the second argument of issubdtype from `float` to `np.floating` is deprecated. In future, it will be treated as `np.float64 == np.dtype(float).type`.\n",
      "  from ._conv import register_converters as _register_converters\n",
      "Using TensorFlow backend.\n",
      "  0%|          | 0/164 [00:00<?, ?it/s]/opt/conda/lib/python3.6/site-packages/skimage/transform/_warps.py:84: UserWarning: The default mode, 'constant', will be changed to 'reflect' in skimage 0.15.\n",
      "  warn(\"The default mode, 'constant', will be changed to 'reflect' in \"\n",
      "100%|██████████| 164/164 [00:00<00:00, 282.74it/s]\n",
      "100%|██████████| 166/166 [00:00<00:00, 305.17it/s]\n",
      "100%|██████████| 143/143 [00:00<00:00, 317.18it/s]\n",
      "100%|██████████| 161/161 [00:00<00:00, 300.70it/s]\n",
      "100%|██████████| 164/164 [00:00<00:00, 310.08it/s]\n",
      "100%|██████████| 166/166 [00:00<00:00, 306.01it/s]\n",
      "100%|██████████| 164/164 [00:00<00:00, 313.35it/s]\n",
      "100%|██████████| 246/246 [00:00<00:00, 316.97it/s]\n",
      "100%|██████████| 164/164 [00:00<00:00, 305.13it/s]\n",
      "100%|██████████| 166/166 [00:00<00:00, 321.83it/s]\n",
      "100%|██████████| 166/166 [00:00<00:00, 310.86it/s]\n",
      "100%|██████████| 164/164 [00:00<00:00, 322.41it/s]\n",
      "100%|██████████| 246/246 [00:00<00:00, 321.06it/s]\n",
      "100%|██████████| 166/166 [00:00<00:00, 299.67it/s]\n",
      "100%|██████████| 164/164 [00:00<00:00, 308.99it/s]\n",
      "100%|██████████| 166/166 [00:00<00:00, 316.41it/s]\n",
      "100%|██████████| 164/164 [00:00<00:00, 320.41it/s]\n",
      "100%|██████████| 166/166 [00:00<00:00, 317.19it/s]\n",
      "100%|██████████| 166/166 [00:00<00:00, 321.63it/s]\n",
      "100%|██████████| 166/166 [00:00<00:00, 310.46it/s]\n",
      "100%|██████████| 166/166 [00:00<00:00, 322.76it/s]\n",
      "100%|██████████| 166/166 [00:00<00:00, 328.25it/s]\n",
      "100%|██████████| 151/151 [00:00<00:00, 325.51it/s]\n",
      "100%|██████████| 166/166 [00:00<00:00, 324.81it/s]\n",
      "100%|██████████| 164/164 [00:00<00:00, 315.53it/s]\n",
      "100%|██████████| 127/127 [00:00<00:00, 299.41it/s]\n",
      "100%|██████████| 166/166 [00:00<00:00, 320.18it/s]\n",
      "100%|██████████| 166/166 [00:00<00:00, 322.88it/s]\n",
      "100%|██████████| 164/164 [00:00<00:00, 319.77it/s]\n",
      "100%|██████████| 166/166 [00:00<00:00, 320.02it/s]\n",
      "100%|██████████| 166/166 [00:00<00:00, 313.41it/s]\n",
      "100%|██████████| 164/164 [00:00<00:00, 319.76it/s]\n",
      "100%|██████████| 164/164 [00:00<00:00, 312.79it/s]\n",
      "100%|██████████| 166/166 [00:00<00:00, 327.55it/s]\n",
      "100%|██████████| 166/166 [00:00<00:00, 323.01it/s]\n",
      "100%|██████████| 492/492 [00:01<00:00, 325.96it/s]\n",
      "100%|██████████| 490/490 [00:01<00:00, 326.36it/s]\n",
      "100%|██████████| 427/427 [00:01<00:00, 328.43it/s]\n",
      "100%|██████████| 481/481 [00:01<00:00, 333.66it/s]\n",
      "100%|██████████| 492/492 [00:01<00:00, 331.83it/s]\n",
      "100%|██████████| 490/490 [00:01<00:00, 329.14it/s]\n",
      "100%|██████████| 492/492 [00:01<00:00, 328.74it/s]\n",
      "100%|██████████| 738/738 [00:02<00:00, 334.25it/s]\n",
      "100%|██████████| 492/492 [00:01<00:00, 331.13it/s]\n",
      "100%|██████████| 490/490 [00:01<00:00, 325.08it/s]\n",
      "100%|██████████| 490/490 [00:01<00:00, 317.21it/s]\n",
      "100%|██████████| 492/492 [00:01<00:00, 322.25it/s]\n",
      "100%|██████████| 738/738 [00:02<00:00, 321.29it/s]\n",
      "100%|██████████| 490/490 [00:01<00:00, 314.23it/s]\n",
      "100%|██████████| 492/492 [00:01<00:00, 316.11it/s]\n",
      "100%|██████████| 490/490 [00:01<00:00, 318.41it/s]\n",
      "100%|██████████| 492/492 [00:01<00:00, 316.90it/s]\n",
      "100%|██████████| 490/490 [00:01<00:00, 288.89it/s]\n",
      "100%|██████████| 490/490 [00:01<00:00, 316.07it/s]\n",
      "100%|██████████| 490/490 [00:01<00:00, 307.66it/s]\n",
      "100%|██████████| 490/490 [00:01<00:00, 315.99it/s]\n",
      "100%|██████████| 490/490 [00:01<00:00, 318.59it/s]\n",
      "100%|██████████| 447/447 [00:01<00:00, 316.95it/s]\n",
      "100%|██████████| 490/490 [00:01<00:00, 326.03it/s]\n",
      "100%|██████████| 492/492 [00:01<00:00, 298.12it/s]\n",
      "100%|██████████| 367/367 [00:01<00:00, 308.52it/s]\n",
      "100%|██████████| 490/490 [00:01<00:00, 302.67it/s]\n",
      "100%|██████████| 490/490 [00:01<00:00, 302.86it/s]\n",
      "100%|██████████| 492/492 [00:01<00:00, 300.43it/s]\n",
      "100%|██████████| 490/490 [00:01<00:00, 313.17it/s]\n",
      "100%|██████████| 490/490 [00:01<00:00, 301.93it/s]\n",
      "100%|██████████| 492/492 [00:01<00:00, 296.46it/s]\n",
      "100%|██████████| 492/492 [00:01<00:00, 298.98it/s]\n",
      "100%|██████████| 490/490 [00:01<00:00, 314.05it/s]\n",
      "100%|██████████| 490/490 [00:01<00:00, 304.44it/s]\n"
     ]
    }
   ],
   "source": [
    "# Run on Kaggle with GPU \n",
    "\n",
    "img_size = 100\n",
    "train_dir = '../input/fruits-360_dataset/fruits-360/Test/'\n",
    "test_dir =  '../input/fruits-360_dataset/fruits-360/Training/'\n",
    "\n",
    "def get_data(folder_path):\n",
    "    imgs = []\n",
    "    indices = []\n",
    "    labels = []\n",
    "    for idx, folder_name in enumerate(os.listdir(folder_path)[:35]):\n",
    "        if not folder_name.startswith('.'):\n",
    "            labels.append(folder_name)\n",
    "            for file_name in tqdm(os.listdir(folder_path + folder_name)):\n",
    "                if not file_name.startswith('.'):\n",
    "                    img_file = io.imread(folder_path + folder_name + '/' + file_name)\n",
    "                    if img_file is not None:\n",
    "                        img_file = transform.resize(img_file, (img_size, img_size))\n",
    "                        imgs.append(np.asarray(img_file))\n",
    "                        indices.append(idx)\n",
    "    imgs = np.asarray(imgs)\n",
    "    indices = np.asarray(indices)\n",
    "    labels = np.asarray(labels)\n",
    "    return imgs, indices, labels\n",
    "\n",
    "X_train, y_train, train_labels = get_data(train_dir)\n",
    "X_test, y_test, test_labels = get_data(test_dir)"
   ]
  },
  {
   "cell_type": "code",
   "execution_count": 2,
   "metadata": {
    "_uuid": "99c270c42ab5bed4ce4aad156dfe81ff4bd9ad0d",
    "collapsed": true
   },
   "outputs": [],
   "source": [
    "num_categories = len(np.unique(y_train))\n",
    "\n",
    "new_X_train = X_train.reshape(X_train.shape[0], X_train.shape[1], X_train.shape[2], X_train.shape[3]).astype('float32')\n",
    "new_X_test = X_test.reshape(X_test.shape[0], X_test.shape[1], X_test.shape[2], X_test.shape[3]).astype('float32')\n",
    "new_y_train = keras.utils.to_categorical(y_train, num_categories)\n",
    "new_y_test = keras.utils.to_categorical(y_test, num_categories)"
   ]
  },
  {
   "cell_type": "code",
   "execution_count": 5,
   "metadata": {
    "_uuid": "69c92d88ef8e69ee5a4ff7962d5fd61601d50036"
   },
   "outputs": [
    {
     "name": "stdout",
     "output_type": "stream",
     "text": [
      "_________________________________________________________________\n",
      "Layer (type)                 Output Shape              Param #   \n",
      "=================================================================\n",
      "conv2d_5 (Conv2D)            (None, 98, 98, 32)        896       \n",
      "_________________________________________________________________\n",
      "conv2d_6 (Conv2D)            (None, 96, 96, 64)        18496     \n",
      "_________________________________________________________________\n",
      "max_pooling2d_3 (MaxPooling2 (None, 48, 48, 64)        0         \n",
      "_________________________________________________________________\n",
      "dropout_4 (Dropout)          (None, 48, 48, 64)        0         \n",
      "_________________________________________________________________\n",
      "conv2d_7 (Conv2D)            (None, 46, 46, 128)       73856     \n",
      "_________________________________________________________________\n",
      "conv2d_8 (Conv2D)            (None, 44, 44, 256)       295168    \n",
      "_________________________________________________________________\n",
      "max_pooling2d_4 (MaxPooling2 (None, 22, 22, 256)       0         \n",
      "_________________________________________________________________\n",
      "dropout_5 (Dropout)          (None, 22, 22, 256)       0         \n",
      "_________________________________________________________________\n",
      "flatten_2 (Flatten)          (None, 123904)            0         \n",
      "_________________________________________________________________\n",
      "dense_3 (Dense)              (None, 512)               63439360  \n",
      "_________________________________________________________________\n",
      "dropout_6 (Dropout)          (None, 512)               0         \n",
      "_________________________________________________________________\n",
      "batch_normalization_2 (Batch (None, 512)               2048      \n",
      "_________________________________________________________________\n",
      "dense_4 (Dense)              (None, 35)                17955     \n",
      "=================================================================\n",
      "Total params: 63,847,779\n",
      "Trainable params: 63,846,755\n",
      "Non-trainable params: 1,024\n",
      "_________________________________________________________________\n",
      "Train on 5866 samples, validate on 17430 samples\n",
      "Epoch 1/5\n",
      "5866/5866 [==============================] - 60s 10ms/step - loss: 1.2895 - acc: 0.7148 - val_loss: 1.2369 - val_acc: 0.8489\n",
      "Epoch 2/5\n",
      "5866/5866 [==============================] - 54s 9ms/step - loss: 0.1061 - acc: 0.9968 - val_loss: 0.4901 - val_acc: 0.8878\n",
      "Epoch 3/5\n",
      "5866/5866 [==============================] - 54s 9ms/step - loss: 0.0463 - acc: 0.9985 - val_loss: 0.4596 - val_acc: 0.8824\n",
      "Epoch 4/5\n",
      "5866/5866 [==============================] - 54s 9ms/step - loss: 0.0248 - acc: 0.9998 - val_loss: 0.3498 - val_acc: 0.9100\n",
      "Epoch 5/5\n",
      "5866/5866 [==============================] - 54s 9ms/step - loss: 0.0138 - acc: 1.0000 - val_loss: 0.3295 - val_acc: 0.9121\n",
      "***Metrics Names*** ['loss', 'acc']\n",
      "***Metrics Values*** [0.32952645966917815, 0.9121055651176133]\n"
     ]
    }
   ],
   "source": [
    "convolutional = Sequential()\n",
    "\n",
    "convolutional.add(Conv2D(32, kernel_size=(3,3), activation='relu', input_shape=(X_train.shape[1], X_train.shape[2], X_train.shape[3],)))\n",
    "convolutional.add(Conv2D(64, (3, 3), activation='relu'))\n",
    "convolutional.add(MaxPooling2D(pool_size=(2, 2)))\n",
    "convolutional.add(Dropout(0.35))\n",
    "\n",
    "convolutional.add(Conv2D(128, kernel_size=(3,3), activation='relu'))\n",
    "convolutional.add(Conv2D(256, (3, 3), activation='relu'))\n",
    "convolutional.add(MaxPooling2D(pool_size=(2, 2)))\n",
    "convolutional.add(Dropout(0.35))\n",
    "\n",
    "convolutional.add(Flatten())\n",
    "convolutional.add(Dense(512, activation='relu'))\n",
    "convolutional.add(Dropout(0.6))\n",
    "convolutional.add(BatchNormalization())\n",
    "convolutional.add(Dense(num_categories, activation='softmax'))\n",
    "\n",
    "convolutional.summary()\n",
    "convolutional.compile(loss=\"categorical_crossentropy\", optimizer=Adam(lr=.0005), metrics=['accuracy'])\n",
    "\n",
    "evaluate_model(convolutional, 32, 5)"
   ]
  },
  {
   "cell_type": "code",
   "execution_count": 6,
   "metadata": {
    "_uuid": "3a134783bde7f59dd80c785e84cb51f18bedf2c1"
   },
   "outputs": [
    {
     "name": "stdout",
     "output_type": "stream",
     "text": [
      "{0: 'Nectarine', 1: 'Kaki', 2: 'Avocado', 3: 'Apple Golden 3', 4: 'Lemon', 5: 'Pear Monster', 6: 'Apple Red Yellow', 7: 'Cherry 2', 8: 'Apple Red 1', 9: 'Pear Abate', 10: 'Mandarine', 11: 'Strawberry', 12: 'Cherry Rainier', 13: 'Cocos', 14: 'Cantaloupe 2', 15: 'Granadilla', 16: 'Pomegranate', 17: 'Lychee', 18: 'Quince', 19: 'Raspberry', 20: 'Tangelo', 21: 'Mango', 22: 'Plum', 23: 'Tamarillo', 24: 'Apple Granny Smith', 25: 'Tomato Maroon', 26: 'Passion Fruit', 27: 'Lemon Meyer', 28: 'Grapefruit White', 29: 'Banana Red', 30: 'Huckleberry', 31: 'Cherry Wax Yellow', 32: 'Physalis with Husk', 33: 'Dates', 34: 'Clementine'}\n"
     ]
    },
    {
     "data": {
      "text/html": [
       "<div>\n",
       "<style scoped>\n",
       "    .dataframe tbody tr th:only-of-type {\n",
       "        vertical-align: middle;\n",
       "    }\n",
       "\n",
       "    .dataframe tbody tr th {\n",
       "        vertical-align: top;\n",
       "    }\n",
       "\n",
       "    .dataframe thead th {\n",
       "        text-align: right;\n",
       "    }\n",
       "</style>\n",
       "<table border=\"1\" class=\"dataframe\">\n",
       "  <thead>\n",
       "    <tr style=\"text-align: right;\">\n",
       "      <th>col_0</th>\n",
       "      <th>0</th>\n",
       "      <th>1</th>\n",
       "      <th>2</th>\n",
       "      <th>3</th>\n",
       "      <th>4</th>\n",
       "      <th>5</th>\n",
       "      <th>6</th>\n",
       "      <th>7</th>\n",
       "      <th>8</th>\n",
       "      <th>9</th>\n",
       "      <th>...</th>\n",
       "      <th>25</th>\n",
       "      <th>26</th>\n",
       "      <th>27</th>\n",
       "      <th>28</th>\n",
       "      <th>29</th>\n",
       "      <th>30</th>\n",
       "      <th>31</th>\n",
       "      <th>32</th>\n",
       "      <th>33</th>\n",
       "      <th>34</th>\n",
       "    </tr>\n",
       "    <tr>\n",
       "      <th>row_0</th>\n",
       "      <th></th>\n",
       "      <th></th>\n",
       "      <th></th>\n",
       "      <th></th>\n",
       "      <th></th>\n",
       "      <th></th>\n",
       "      <th></th>\n",
       "      <th></th>\n",
       "      <th></th>\n",
       "      <th></th>\n",
       "      <th></th>\n",
       "      <th></th>\n",
       "      <th></th>\n",
       "      <th></th>\n",
       "      <th></th>\n",
       "      <th></th>\n",
       "      <th></th>\n",
       "      <th></th>\n",
       "      <th></th>\n",
       "      <th></th>\n",
       "      <th></th>\n",
       "    </tr>\n",
       "  </thead>\n",
       "  <tbody>\n",
       "    <tr>\n",
       "      <th>0</th>\n",
       "      <td>227</td>\n",
       "      <td>0</td>\n",
       "      <td>0</td>\n",
       "      <td>0</td>\n",
       "      <td>0</td>\n",
       "      <td>0</td>\n",
       "      <td>0</td>\n",
       "      <td>0</td>\n",
       "      <td>0</td>\n",
       "      <td>0</td>\n",
       "      <td>...</td>\n",
       "      <td>0</td>\n",
       "      <td>0</td>\n",
       "      <td>0</td>\n",
       "      <td>0</td>\n",
       "      <td>0</td>\n",
       "      <td>0</td>\n",
       "      <td>0</td>\n",
       "      <td>0</td>\n",
       "      <td>0</td>\n",
       "      <td>0</td>\n",
       "    </tr>\n",
       "    <tr>\n",
       "      <th>1</th>\n",
       "      <td>0</td>\n",
       "      <td>421</td>\n",
       "      <td>0</td>\n",
       "      <td>0</td>\n",
       "      <td>0</td>\n",
       "      <td>0</td>\n",
       "      <td>0</td>\n",
       "      <td>0</td>\n",
       "      <td>0</td>\n",
       "      <td>0</td>\n",
       "      <td>...</td>\n",
       "      <td>0</td>\n",
       "      <td>0</td>\n",
       "      <td>0</td>\n",
       "      <td>0</td>\n",
       "      <td>0</td>\n",
       "      <td>0</td>\n",
       "      <td>0</td>\n",
       "      <td>0</td>\n",
       "      <td>0</td>\n",
       "      <td>0</td>\n",
       "    </tr>\n",
       "    <tr>\n",
       "      <th>2</th>\n",
       "      <td>0</td>\n",
       "      <td>0</td>\n",
       "      <td>427</td>\n",
       "      <td>0</td>\n",
       "      <td>0</td>\n",
       "      <td>0</td>\n",
       "      <td>0</td>\n",
       "      <td>0</td>\n",
       "      <td>0</td>\n",
       "      <td>0</td>\n",
       "      <td>...</td>\n",
       "      <td>0</td>\n",
       "      <td>0</td>\n",
       "      <td>0</td>\n",
       "      <td>0</td>\n",
       "      <td>0</td>\n",
       "      <td>0</td>\n",
       "      <td>0</td>\n",
       "      <td>0</td>\n",
       "      <td>0</td>\n",
       "      <td>0</td>\n",
       "    </tr>\n",
       "    <tr>\n",
       "      <th>3</th>\n",
       "      <td>0</td>\n",
       "      <td>0</td>\n",
       "      <td>0</td>\n",
       "      <td>371</td>\n",
       "      <td>0</td>\n",
       "      <td>75</td>\n",
       "      <td>99</td>\n",
       "      <td>0</td>\n",
       "      <td>0</td>\n",
       "      <td>0</td>\n",
       "      <td>...</td>\n",
       "      <td>0</td>\n",
       "      <td>0</td>\n",
       "      <td>0</td>\n",
       "      <td>0</td>\n",
       "      <td>0</td>\n",
       "      <td>0</td>\n",
       "      <td>0</td>\n",
       "      <td>0</td>\n",
       "      <td>0</td>\n",
       "      <td>0</td>\n",
       "    </tr>\n",
       "    <tr>\n",
       "      <th>4</th>\n",
       "      <td>0</td>\n",
       "      <td>0</td>\n",
       "      <td>0</td>\n",
       "      <td>0</td>\n",
       "      <td>490</td>\n",
       "      <td>6</td>\n",
       "      <td>0</td>\n",
       "      <td>0</td>\n",
       "      <td>0</td>\n",
       "      <td>0</td>\n",
       "      <td>...</td>\n",
       "      <td>0</td>\n",
       "      <td>0</td>\n",
       "      <td>0</td>\n",
       "      <td>0</td>\n",
       "      <td>0</td>\n",
       "      <td>0</td>\n",
       "      <td>0</td>\n",
       "      <td>0</td>\n",
       "      <td>0</td>\n",
       "      <td>0</td>\n",
       "    </tr>\n",
       "    <tr>\n",
       "      <th>5</th>\n",
       "      <td>0</td>\n",
       "      <td>0</td>\n",
       "      <td>0</td>\n",
       "      <td>0</td>\n",
       "      <td>0</td>\n",
       "      <td>401</td>\n",
       "      <td>0</td>\n",
       "      <td>0</td>\n",
       "      <td>0</td>\n",
       "      <td>0</td>\n",
       "      <td>...</td>\n",
       "      <td>0</td>\n",
       "      <td>0</td>\n",
       "      <td>0</td>\n",
       "      <td>0</td>\n",
       "      <td>0</td>\n",
       "      <td>0</td>\n",
       "      <td>0</td>\n",
       "      <td>23</td>\n",
       "      <td>0</td>\n",
       "      <td>0</td>\n",
       "    </tr>\n",
       "    <tr>\n",
       "      <th>6</th>\n",
       "      <td>97</td>\n",
       "      <td>0</td>\n",
       "      <td>0</td>\n",
       "      <td>0</td>\n",
       "      <td>0</td>\n",
       "      <td>0</td>\n",
       "      <td>363</td>\n",
       "      <td>0</td>\n",
       "      <td>2</td>\n",
       "      <td>0</td>\n",
       "      <td>...</td>\n",
       "      <td>0</td>\n",
       "      <td>0</td>\n",
       "      <td>0</td>\n",
       "      <td>0</td>\n",
       "      <td>0</td>\n",
       "      <td>0</td>\n",
       "      <td>0</td>\n",
       "      <td>0</td>\n",
       "      <td>0</td>\n",
       "      <td>0</td>\n",
       "    </tr>\n",
       "    <tr>\n",
       "      <th>7</th>\n",
       "      <td>13</td>\n",
       "      <td>0</td>\n",
       "      <td>0</td>\n",
       "      <td>0</td>\n",
       "      <td>0</td>\n",
       "      <td>0</td>\n",
       "      <td>0</td>\n",
       "      <td>708</td>\n",
       "      <td>3</td>\n",
       "      <td>0</td>\n",
       "      <td>...</td>\n",
       "      <td>0</td>\n",
       "      <td>0</td>\n",
       "      <td>0</td>\n",
       "      <td>0</td>\n",
       "      <td>23</td>\n",
       "      <td>0</td>\n",
       "      <td>0</td>\n",
       "      <td>0</td>\n",
       "      <td>0</td>\n",
       "      <td>0</td>\n",
       "    </tr>\n",
       "    <tr>\n",
       "      <th>8</th>\n",
       "      <td>131</td>\n",
       "      <td>56</td>\n",
       "      <td>0</td>\n",
       "      <td>0</td>\n",
       "      <td>0</td>\n",
       "      <td>0</td>\n",
       "      <td>30</td>\n",
       "      <td>0</td>\n",
       "      <td>469</td>\n",
       "      <td>0</td>\n",
       "      <td>...</td>\n",
       "      <td>0</td>\n",
       "      <td>0</td>\n",
       "      <td>0</td>\n",
       "      <td>0</td>\n",
       "      <td>0</td>\n",
       "      <td>0</td>\n",
       "      <td>0</td>\n",
       "      <td>0</td>\n",
       "      <td>0</td>\n",
       "      <td>0</td>\n",
       "    </tr>\n",
       "    <tr>\n",
       "      <th>9</th>\n",
       "      <td>0</td>\n",
       "      <td>0</td>\n",
       "      <td>0</td>\n",
       "      <td>0</td>\n",
       "      <td>0</td>\n",
       "      <td>0</td>\n",
       "      <td>0</td>\n",
       "      <td>0</td>\n",
       "      <td>0</td>\n",
       "      <td>454</td>\n",
       "      <td>...</td>\n",
       "      <td>0</td>\n",
       "      <td>0</td>\n",
       "      <td>0</td>\n",
       "      <td>0</td>\n",
       "      <td>4</td>\n",
       "      <td>0</td>\n",
       "      <td>0</td>\n",
       "      <td>0</td>\n",
       "      <td>0</td>\n",
       "      <td>0</td>\n",
       "    </tr>\n",
       "    <tr>\n",
       "      <th>10</th>\n",
       "      <td>0</td>\n",
       "      <td>0</td>\n",
       "      <td>0</td>\n",
       "      <td>0</td>\n",
       "      <td>1</td>\n",
       "      <td>0</td>\n",
       "      <td>0</td>\n",
       "      <td>0</td>\n",
       "      <td>0</td>\n",
       "      <td>0</td>\n",
       "      <td>...</td>\n",
       "      <td>0</td>\n",
       "      <td>0</td>\n",
       "      <td>0</td>\n",
       "      <td>0</td>\n",
       "      <td>0</td>\n",
       "      <td>0</td>\n",
       "      <td>0</td>\n",
       "      <td>0</td>\n",
       "      <td>0</td>\n",
       "      <td>0</td>\n",
       "    </tr>\n",
       "    <tr>\n",
       "      <th>11</th>\n",
       "      <td>0</td>\n",
       "      <td>0</td>\n",
       "      <td>0</td>\n",
       "      <td>0</td>\n",
       "      <td>0</td>\n",
       "      <td>0</td>\n",
       "      <td>0</td>\n",
       "      <td>0</td>\n",
       "      <td>0</td>\n",
       "      <td>0</td>\n",
       "      <td>...</td>\n",
       "      <td>0</td>\n",
       "      <td>0</td>\n",
       "      <td>0</td>\n",
       "      <td>0</td>\n",
       "      <td>0</td>\n",
       "      <td>0</td>\n",
       "      <td>0</td>\n",
       "      <td>0</td>\n",
       "      <td>0</td>\n",
       "      <td>0</td>\n",
       "    </tr>\n",
       "    <tr>\n",
       "      <th>12</th>\n",
       "      <td>0</td>\n",
       "      <td>0</td>\n",
       "      <td>0</td>\n",
       "      <td>0</td>\n",
       "      <td>0</td>\n",
       "      <td>0</td>\n",
       "      <td>0</td>\n",
       "      <td>22</td>\n",
       "      <td>0</td>\n",
       "      <td>5</td>\n",
       "      <td>...</td>\n",
       "      <td>0</td>\n",
       "      <td>0</td>\n",
       "      <td>0</td>\n",
       "      <td>0</td>\n",
       "      <td>0</td>\n",
       "      <td>0</td>\n",
       "      <td>0</td>\n",
       "      <td>0</td>\n",
       "      <td>0</td>\n",
       "      <td>0</td>\n",
       "    </tr>\n",
       "    <tr>\n",
       "      <th>13</th>\n",
       "      <td>0</td>\n",
       "      <td>0</td>\n",
       "      <td>0</td>\n",
       "      <td>0</td>\n",
       "      <td>0</td>\n",
       "      <td>0</td>\n",
       "      <td>0</td>\n",
       "      <td>0</td>\n",
       "      <td>0</td>\n",
       "      <td>0</td>\n",
       "      <td>...</td>\n",
       "      <td>0</td>\n",
       "      <td>0</td>\n",
       "      <td>0</td>\n",
       "      <td>0</td>\n",
       "      <td>0</td>\n",
       "      <td>0</td>\n",
       "      <td>0</td>\n",
       "      <td>0</td>\n",
       "      <td>0</td>\n",
       "      <td>0</td>\n",
       "    </tr>\n",
       "    <tr>\n",
       "      <th>14</th>\n",
       "      <td>0</td>\n",
       "      <td>0</td>\n",
       "      <td>0</td>\n",
       "      <td>0</td>\n",
       "      <td>0</td>\n",
       "      <td>0</td>\n",
       "      <td>0</td>\n",
       "      <td>0</td>\n",
       "      <td>0</td>\n",
       "      <td>0</td>\n",
       "      <td>...</td>\n",
       "      <td>0</td>\n",
       "      <td>0</td>\n",
       "      <td>0</td>\n",
       "      <td>0</td>\n",
       "      <td>0</td>\n",
       "      <td>0</td>\n",
       "      <td>0</td>\n",
       "      <td>10</td>\n",
       "      <td>0</td>\n",
       "      <td>0</td>\n",
       "    </tr>\n",
       "    <tr>\n",
       "      <th>15</th>\n",
       "      <td>0</td>\n",
       "      <td>1</td>\n",
       "      <td>0</td>\n",
       "      <td>0</td>\n",
       "      <td>0</td>\n",
       "      <td>0</td>\n",
       "      <td>0</td>\n",
       "      <td>0</td>\n",
       "      <td>0</td>\n",
       "      <td>0</td>\n",
       "      <td>...</td>\n",
       "      <td>0</td>\n",
       "      <td>0</td>\n",
       "      <td>0</td>\n",
       "      <td>0</td>\n",
       "      <td>0</td>\n",
       "      <td>0</td>\n",
       "      <td>0</td>\n",
       "      <td>0</td>\n",
       "      <td>0</td>\n",
       "      <td>0</td>\n",
       "    </tr>\n",
       "    <tr>\n",
       "      <th>16</th>\n",
       "      <td>24</td>\n",
       "      <td>0</td>\n",
       "      <td>0</td>\n",
       "      <td>0</td>\n",
       "      <td>0</td>\n",
       "      <td>0</td>\n",
       "      <td>0</td>\n",
       "      <td>0</td>\n",
       "      <td>18</td>\n",
       "      <td>0</td>\n",
       "      <td>...</td>\n",
       "      <td>0</td>\n",
       "      <td>0</td>\n",
       "      <td>0</td>\n",
       "      <td>0</td>\n",
       "      <td>7</td>\n",
       "      <td>0</td>\n",
       "      <td>0</td>\n",
       "      <td>0</td>\n",
       "      <td>0</td>\n",
       "      <td>0</td>\n",
       "    </tr>\n",
       "    <tr>\n",
       "      <th>17</th>\n",
       "      <td>0</td>\n",
       "      <td>0</td>\n",
       "      <td>0</td>\n",
       "      <td>0</td>\n",
       "      <td>0</td>\n",
       "      <td>0</td>\n",
       "      <td>0</td>\n",
       "      <td>0</td>\n",
       "      <td>0</td>\n",
       "      <td>0</td>\n",
       "      <td>...</td>\n",
       "      <td>0</td>\n",
       "      <td>0</td>\n",
       "      <td>0</td>\n",
       "      <td>0</td>\n",
       "      <td>0</td>\n",
       "      <td>0</td>\n",
       "      <td>0</td>\n",
       "      <td>0</td>\n",
       "      <td>0</td>\n",
       "      <td>0</td>\n",
       "    </tr>\n",
       "    <tr>\n",
       "      <th>18</th>\n",
       "      <td>0</td>\n",
       "      <td>0</td>\n",
       "      <td>0</td>\n",
       "      <td>0</td>\n",
       "      <td>0</td>\n",
       "      <td>8</td>\n",
       "      <td>0</td>\n",
       "      <td>0</td>\n",
       "      <td>0</td>\n",
       "      <td>0</td>\n",
       "      <td>...</td>\n",
       "      <td>0</td>\n",
       "      <td>0</td>\n",
       "      <td>0</td>\n",
       "      <td>0</td>\n",
       "      <td>0</td>\n",
       "      <td>0</td>\n",
       "      <td>0</td>\n",
       "      <td>0</td>\n",
       "      <td>0</td>\n",
       "      <td>0</td>\n",
       "    </tr>\n",
       "    <tr>\n",
       "      <th>19</th>\n",
       "      <td>0</td>\n",
       "      <td>0</td>\n",
       "      <td>0</td>\n",
       "      <td>0</td>\n",
       "      <td>0</td>\n",
       "      <td>0</td>\n",
       "      <td>0</td>\n",
       "      <td>0</td>\n",
       "      <td>0</td>\n",
       "      <td>0</td>\n",
       "      <td>...</td>\n",
       "      <td>0</td>\n",
       "      <td>0</td>\n",
       "      <td>0</td>\n",
       "      <td>0</td>\n",
       "      <td>0</td>\n",
       "      <td>0</td>\n",
       "      <td>0</td>\n",
       "      <td>0</td>\n",
       "      <td>55</td>\n",
       "      <td>0</td>\n",
       "    </tr>\n",
       "    <tr>\n",
       "      <th>20</th>\n",
       "      <td>0</td>\n",
       "      <td>12</td>\n",
       "      <td>0</td>\n",
       "      <td>0</td>\n",
       "      <td>0</td>\n",
       "      <td>0</td>\n",
       "      <td>0</td>\n",
       "      <td>0</td>\n",
       "      <td>0</td>\n",
       "      <td>0</td>\n",
       "      <td>...</td>\n",
       "      <td>0</td>\n",
       "      <td>0</td>\n",
       "      <td>0</td>\n",
       "      <td>0</td>\n",
       "      <td>0</td>\n",
       "      <td>0</td>\n",
       "      <td>0</td>\n",
       "      <td>0</td>\n",
       "      <td>0</td>\n",
       "      <td>0</td>\n",
       "    </tr>\n",
       "    <tr>\n",
       "      <th>21</th>\n",
       "      <td>0</td>\n",
       "      <td>0</td>\n",
       "      <td>0</td>\n",
       "      <td>0</td>\n",
       "      <td>0</td>\n",
       "      <td>0</td>\n",
       "      <td>0</td>\n",
       "      <td>0</td>\n",
       "      <td>0</td>\n",
       "      <td>0</td>\n",
       "      <td>...</td>\n",
       "      <td>0</td>\n",
       "      <td>0</td>\n",
       "      <td>0</td>\n",
       "      <td>0</td>\n",
       "      <td>0</td>\n",
       "      <td>0</td>\n",
       "      <td>0</td>\n",
       "      <td>0</td>\n",
       "      <td>0</td>\n",
       "      <td>0</td>\n",
       "    </tr>\n",
       "    <tr>\n",
       "      <th>22</th>\n",
       "      <td>0</td>\n",
       "      <td>0</td>\n",
       "      <td>0</td>\n",
       "      <td>0</td>\n",
       "      <td>0</td>\n",
       "      <td>0</td>\n",
       "      <td>0</td>\n",
       "      <td>8</td>\n",
       "      <td>0</td>\n",
       "      <td>0</td>\n",
       "      <td>...</td>\n",
       "      <td>0</td>\n",
       "      <td>0</td>\n",
       "      <td>0</td>\n",
       "      <td>0</td>\n",
       "      <td>0</td>\n",
       "      <td>0</td>\n",
       "      <td>0</td>\n",
       "      <td>0</td>\n",
       "      <td>0</td>\n",
       "      <td>0</td>\n",
       "    </tr>\n",
       "    <tr>\n",
       "      <th>23</th>\n",
       "      <td>0</td>\n",
       "      <td>0</td>\n",
       "      <td>0</td>\n",
       "      <td>0</td>\n",
       "      <td>0</td>\n",
       "      <td>0</td>\n",
       "      <td>0</td>\n",
       "      <td>0</td>\n",
       "      <td>0</td>\n",
       "      <td>0</td>\n",
       "      <td>...</td>\n",
       "      <td>0</td>\n",
       "      <td>0</td>\n",
       "      <td>0</td>\n",
       "      <td>0</td>\n",
       "      <td>0</td>\n",
       "      <td>0</td>\n",
       "      <td>0</td>\n",
       "      <td>0</td>\n",
       "      <td>0</td>\n",
       "      <td>0</td>\n",
       "    </tr>\n",
       "    <tr>\n",
       "      <th>24</th>\n",
       "      <td>0</td>\n",
       "      <td>0</td>\n",
       "      <td>0</td>\n",
       "      <td>110</td>\n",
       "      <td>0</td>\n",
       "      <td>0</td>\n",
       "      <td>0</td>\n",
       "      <td>0</td>\n",
       "      <td>0</td>\n",
       "      <td>0</td>\n",
       "      <td>...</td>\n",
       "      <td>0</td>\n",
       "      <td>0</td>\n",
       "      <td>0</td>\n",
       "      <td>0</td>\n",
       "      <td>0</td>\n",
       "      <td>0</td>\n",
       "      <td>0</td>\n",
       "      <td>0</td>\n",
       "      <td>0</td>\n",
       "      <td>0</td>\n",
       "    </tr>\n",
       "    <tr>\n",
       "      <th>25</th>\n",
       "      <td>0</td>\n",
       "      <td>0</td>\n",
       "      <td>0</td>\n",
       "      <td>0</td>\n",
       "      <td>0</td>\n",
       "      <td>0</td>\n",
       "      <td>0</td>\n",
       "      <td>0</td>\n",
       "      <td>0</td>\n",
       "      <td>0</td>\n",
       "      <td>...</td>\n",
       "      <td>367</td>\n",
       "      <td>0</td>\n",
       "      <td>0</td>\n",
       "      <td>0</td>\n",
       "      <td>0</td>\n",
       "      <td>0</td>\n",
       "      <td>0</td>\n",
       "      <td>0</td>\n",
       "      <td>0</td>\n",
       "      <td>0</td>\n",
       "    </tr>\n",
       "    <tr>\n",
       "      <th>26</th>\n",
       "      <td>0</td>\n",
       "      <td>0</td>\n",
       "      <td>0</td>\n",
       "      <td>0</td>\n",
       "      <td>0</td>\n",
       "      <td>0</td>\n",
       "      <td>0</td>\n",
       "      <td>0</td>\n",
       "      <td>0</td>\n",
       "      <td>0</td>\n",
       "      <td>...</td>\n",
       "      <td>0</td>\n",
       "      <td>490</td>\n",
       "      <td>0</td>\n",
       "      <td>0</td>\n",
       "      <td>0</td>\n",
       "      <td>0</td>\n",
       "      <td>0</td>\n",
       "      <td>0</td>\n",
       "      <td>7</td>\n",
       "      <td>0</td>\n",
       "    </tr>\n",
       "    <tr>\n",
       "      <th>27</th>\n",
       "      <td>0</td>\n",
       "      <td>0</td>\n",
       "      <td>0</td>\n",
       "      <td>0</td>\n",
       "      <td>0</td>\n",
       "      <td>0</td>\n",
       "      <td>0</td>\n",
       "      <td>0</td>\n",
       "      <td>0</td>\n",
       "      <td>0</td>\n",
       "      <td>...</td>\n",
       "      <td>0</td>\n",
       "      <td>0</td>\n",
       "      <td>490</td>\n",
       "      <td>0</td>\n",
       "      <td>0</td>\n",
       "      <td>0</td>\n",
       "      <td>0</td>\n",
       "      <td>0</td>\n",
       "      <td>0</td>\n",
       "      <td>0</td>\n",
       "    </tr>\n",
       "    <tr>\n",
       "      <th>28</th>\n",
       "      <td>0</td>\n",
       "      <td>0</td>\n",
       "      <td>0</td>\n",
       "      <td>0</td>\n",
       "      <td>1</td>\n",
       "      <td>0</td>\n",
       "      <td>0</td>\n",
       "      <td>0</td>\n",
       "      <td>0</td>\n",
       "      <td>0</td>\n",
       "      <td>...</td>\n",
       "      <td>0</td>\n",
       "      <td>0</td>\n",
       "      <td>0</td>\n",
       "      <td>492</td>\n",
       "      <td>0</td>\n",
       "      <td>0</td>\n",
       "      <td>0</td>\n",
       "      <td>0</td>\n",
       "      <td>0</td>\n",
       "      <td>0</td>\n",
       "    </tr>\n",
       "    <tr>\n",
       "      <th>29</th>\n",
       "      <td>0</td>\n",
       "      <td>0</td>\n",
       "      <td>0</td>\n",
       "      <td>0</td>\n",
       "      <td>0</td>\n",
       "      <td>0</td>\n",
       "      <td>0</td>\n",
       "      <td>0</td>\n",
       "      <td>0</td>\n",
       "      <td>31</td>\n",
       "      <td>...</td>\n",
       "      <td>0</td>\n",
       "      <td>0</td>\n",
       "      <td>0</td>\n",
       "      <td>0</td>\n",
       "      <td>456</td>\n",
       "      <td>0</td>\n",
       "      <td>0</td>\n",
       "      <td>0</td>\n",
       "      <td>0</td>\n",
       "      <td>0</td>\n",
       "    </tr>\n",
       "    <tr>\n",
       "      <th>30</th>\n",
       "      <td>0</td>\n",
       "      <td>0</td>\n",
       "      <td>0</td>\n",
       "      <td>0</td>\n",
       "      <td>0</td>\n",
       "      <td>0</td>\n",
       "      <td>0</td>\n",
       "      <td>0</td>\n",
       "      <td>0</td>\n",
       "      <td>0</td>\n",
       "      <td>...</td>\n",
       "      <td>0</td>\n",
       "      <td>0</td>\n",
       "      <td>0</td>\n",
       "      <td>0</td>\n",
       "      <td>0</td>\n",
       "      <td>490</td>\n",
       "      <td>0</td>\n",
       "      <td>0</td>\n",
       "      <td>52</td>\n",
       "      <td>0</td>\n",
       "    </tr>\n",
       "    <tr>\n",
       "      <th>31</th>\n",
       "      <td>0</td>\n",
       "      <td>0</td>\n",
       "      <td>0</td>\n",
       "      <td>0</td>\n",
       "      <td>0</td>\n",
       "      <td>0</td>\n",
       "      <td>0</td>\n",
       "      <td>0</td>\n",
       "      <td>0</td>\n",
       "      <td>0</td>\n",
       "      <td>...</td>\n",
       "      <td>0</td>\n",
       "      <td>0</td>\n",
       "      <td>0</td>\n",
       "      <td>0</td>\n",
       "      <td>0</td>\n",
       "      <td>0</td>\n",
       "      <td>492</td>\n",
       "      <td>0</td>\n",
       "      <td>0</td>\n",
       "      <td>0</td>\n",
       "    </tr>\n",
       "    <tr>\n",
       "      <th>32</th>\n",
       "      <td>0</td>\n",
       "      <td>0</td>\n",
       "      <td>0</td>\n",
       "      <td>0</td>\n",
       "      <td>0</td>\n",
       "      <td>0</td>\n",
       "      <td>0</td>\n",
       "      <td>0</td>\n",
       "      <td>0</td>\n",
       "      <td>0</td>\n",
       "      <td>...</td>\n",
       "      <td>0</td>\n",
       "      <td>0</td>\n",
       "      <td>0</td>\n",
       "      <td>0</td>\n",
       "      <td>0</td>\n",
       "      <td>0</td>\n",
       "      <td>0</td>\n",
       "      <td>459</td>\n",
       "      <td>0</td>\n",
       "      <td>0</td>\n",
       "    </tr>\n",
       "    <tr>\n",
       "      <th>33</th>\n",
       "      <td>0</td>\n",
       "      <td>0</td>\n",
       "      <td>0</td>\n",
       "      <td>0</td>\n",
       "      <td>0</td>\n",
       "      <td>0</td>\n",
       "      <td>0</td>\n",
       "      <td>0</td>\n",
       "      <td>0</td>\n",
       "      <td>0</td>\n",
       "      <td>...</td>\n",
       "      <td>0</td>\n",
       "      <td>0</td>\n",
       "      <td>0</td>\n",
       "      <td>0</td>\n",
       "      <td>0</td>\n",
       "      <td>0</td>\n",
       "      <td>0</td>\n",
       "      <td>0</td>\n",
       "      <td>376</td>\n",
       "      <td>0</td>\n",
       "    </tr>\n",
       "    <tr>\n",
       "      <th>34</th>\n",
       "      <td>0</td>\n",
       "      <td>0</td>\n",
       "      <td>0</td>\n",
       "      <td>0</td>\n",
       "      <td>0</td>\n",
       "      <td>0</td>\n",
       "      <td>0</td>\n",
       "      <td>0</td>\n",
       "      <td>0</td>\n",
       "      <td>0</td>\n",
       "      <td>...</td>\n",
       "      <td>0</td>\n",
       "      <td>0</td>\n",
       "      <td>0</td>\n",
       "      <td>0</td>\n",
       "      <td>0</td>\n",
       "      <td>0</td>\n",
       "      <td>0</td>\n",
       "      <td>0</td>\n",
       "      <td>0</td>\n",
       "      <td>490</td>\n",
       "    </tr>\n",
       "  </tbody>\n",
       "</table>\n",
       "<p>35 rows × 35 columns</p>\n",
       "</div>"
      ],
      "text/plain": [
       "col_0   0    1    2    3    4    5    6    7    8    9  ...    25   26   27  \\\n",
       "row_0                                                   ...                   \n",
       "0      227    0    0    0    0    0    0    0    0    0 ...     0    0    0   \n",
       "1        0  421    0    0    0    0    0    0    0    0 ...     0    0    0   \n",
       "2        0    0  427    0    0    0    0    0    0    0 ...     0    0    0   \n",
       "3        0    0    0  371    0   75   99    0    0    0 ...     0    0    0   \n",
       "4        0    0    0    0  490    6    0    0    0    0 ...     0    0    0   \n",
       "5        0    0    0    0    0  401    0    0    0    0 ...     0    0    0   \n",
       "6       97    0    0    0    0    0  363    0    2    0 ...     0    0    0   \n",
       "7       13    0    0    0    0    0    0  708    3    0 ...     0    0    0   \n",
       "8      131   56    0    0    0    0   30    0  469    0 ...     0    0    0   \n",
       "9        0    0    0    0    0    0    0    0    0  454 ...     0    0    0   \n",
       "10       0    0    0    0    1    0    0    0    0    0 ...     0    0    0   \n",
       "11       0    0    0    0    0    0    0    0    0    0 ...     0    0    0   \n",
       "12       0    0    0    0    0    0    0   22    0    5 ...     0    0    0   \n",
       "13       0    0    0    0    0    0    0    0    0    0 ...     0    0    0   \n",
       "14       0    0    0    0    0    0    0    0    0    0 ...     0    0    0   \n",
       "15       0    1    0    0    0    0    0    0    0    0 ...     0    0    0   \n",
       "16      24    0    0    0    0    0    0    0   18    0 ...     0    0    0   \n",
       "17       0    0    0    0    0    0    0    0    0    0 ...     0    0    0   \n",
       "18       0    0    0    0    0    8    0    0    0    0 ...     0    0    0   \n",
       "19       0    0    0    0    0    0    0    0    0    0 ...     0    0    0   \n",
       "20       0   12    0    0    0    0    0    0    0    0 ...     0    0    0   \n",
       "21       0    0    0    0    0    0    0    0    0    0 ...     0    0    0   \n",
       "22       0    0    0    0    0    0    0    8    0    0 ...     0    0    0   \n",
       "23       0    0    0    0    0    0    0    0    0    0 ...     0    0    0   \n",
       "24       0    0    0  110    0    0    0    0    0    0 ...     0    0    0   \n",
       "25       0    0    0    0    0    0    0    0    0    0 ...   367    0    0   \n",
       "26       0    0    0    0    0    0    0    0    0    0 ...     0  490    0   \n",
       "27       0    0    0    0    0    0    0    0    0    0 ...     0    0  490   \n",
       "28       0    0    0    0    1    0    0    0    0    0 ...     0    0    0   \n",
       "29       0    0    0    0    0    0    0    0    0   31 ...     0    0    0   \n",
       "30       0    0    0    0    0    0    0    0    0    0 ...     0    0    0   \n",
       "31       0    0    0    0    0    0    0    0    0    0 ...     0    0    0   \n",
       "32       0    0    0    0    0    0    0    0    0    0 ...     0    0    0   \n",
       "33       0    0    0    0    0    0    0    0    0    0 ...     0    0    0   \n",
       "34       0    0    0    0    0    0    0    0    0    0 ...     0    0    0   \n",
       "\n",
       "col_0   28   29   30   31   32   33   34  \n",
       "row_0                                     \n",
       "0        0    0    0    0    0    0    0  \n",
       "1        0    0    0    0    0    0    0  \n",
       "2        0    0    0    0    0    0    0  \n",
       "3        0    0    0    0    0    0    0  \n",
       "4        0    0    0    0    0    0    0  \n",
       "5        0    0    0    0   23    0    0  \n",
       "6        0    0    0    0    0    0    0  \n",
       "7        0   23    0    0    0    0    0  \n",
       "8        0    0    0    0    0    0    0  \n",
       "9        0    4    0    0    0    0    0  \n",
       "10       0    0    0    0    0    0    0  \n",
       "11       0    0    0    0    0    0    0  \n",
       "12       0    0    0    0    0    0    0  \n",
       "13       0    0    0    0    0    0    0  \n",
       "14       0    0    0    0   10    0    0  \n",
       "15       0    0    0    0    0    0    0  \n",
       "16       0    7    0    0    0    0    0  \n",
       "17       0    0    0    0    0    0    0  \n",
       "18       0    0    0    0    0    0    0  \n",
       "19       0    0    0    0    0   55    0  \n",
       "20       0    0    0    0    0    0    0  \n",
       "21       0    0    0    0    0    0    0  \n",
       "22       0    0    0    0    0    0    0  \n",
       "23       0    0    0    0    0    0    0  \n",
       "24       0    0    0    0    0    0    0  \n",
       "25       0    0    0    0    0    0    0  \n",
       "26       0    0    0    0    0    7    0  \n",
       "27       0    0    0    0    0    0    0  \n",
       "28     492    0    0    0    0    0    0  \n",
       "29       0  456    0    0    0    0    0  \n",
       "30       0    0  490    0    0   52    0  \n",
       "31       0    0    0  492    0    0    0  \n",
       "32       0    0    0    0  459    0    0  \n",
       "33       0    0    0    0    0  376    0  \n",
       "34       0    0    0    0    0    0  490  \n",
       "\n",
       "[35 rows x 35 columns]"
      ]
     },
     "execution_count": 6,
     "metadata": {},
     "output_type": "execute_result"
    }
   ],
   "source": [
    "y_pred = convolutional.predict(new_X_test, batch_size=None, verbose=0, steps=None).argmax(axis=-1)\n",
    "res_crosstab = pd.crosstab(y_pred, y_test)\n",
    "\n",
    "dict_idx_fruit = {idx: label for idx, label in enumerate(test_labels)}\n",
    "print(dict_idx_fruit)\n",
    "\n",
    "res_crosstab"
   ]
  },
  {
   "cell_type": "code",
   "execution_count": 7,
   "metadata": {
    "_uuid": "10148d9595411c26a2ba5b7de08a42890738c8e4"
   },
   "outputs": [
    {
     "name": "stdout",
     "output_type": "stream",
     "text": [
      "Nectarine\n",
      "    ***LOW*** accuracy – 46.14 %\n",
      "Kaki\n",
      "     accuracy – 85.92 %\n",
      "Avocado\n",
      "     accuracy – 100.0 %\n",
      "Apple Golden 3\n",
      "     accuracy – 77.13 %\n",
      "Lemon\n",
      "     accuracy – 99.59 %\n",
      "Pear Monster\n",
      "     accuracy – 81.84 %\n",
      "Apple Red Yellow\n",
      "    ***LOW*** accuracy – 73.78 %\n",
      "Cherry 2\n",
      "     accuracy – 95.93 %\n",
      "Apple Red 1\n",
      "     accuracy – 95.33 %\n",
      "Pear Abate\n",
      "     accuracy – 92.65 %\n",
      "Mandarine\n",
      "     accuracy – 100.0 %\n",
      "Strawberry\n",
      "    ***LOW*** accuracy – 73.58 %\n",
      "Cherry Rainier\n",
      "     accuracy – 80.76 %\n",
      "Cocos\n",
      "     accuracy – 100.0 %\n",
      "Cantaloupe 2\n",
      "     accuracy – 100.0 %\n",
      "Granadilla\n",
      "    ***LOW*** accuracy – 72.65 %\n",
      "Pomegranate\n",
      "     accuracy – 91.46 %\n",
      "Lychee\n",
      "     accuracy – 92.24 %\n",
      "Quince\n",
      "     accuracy – 100.0 %\n",
      "Raspberry\n",
      "     accuracy – 100.0 %\n",
      "Tangelo\n",
      "     accuracy – 100.0 %\n",
      "Mango\n",
      "     accuracy – 100.0 %\n",
      "Plum\n",
      "     accuracy – 100.0 %\n",
      "Tamarillo\n",
      "     accuracy – 77.14 %\n",
      "Apple Granny Smith\n",
      "     accuracy – 100.0 %\n",
      "Tomato Maroon\n",
      "     accuracy – 100.0 %\n",
      "Passion Fruit\n",
      "     accuracy – 100.0 %\n",
      "Lemon Meyer\n",
      "     accuracy – 100.0 %\n",
      "Grapefruit White\n",
      "     accuracy – 100.0 %\n",
      "Banana Red\n",
      "     accuracy – 93.06 %\n",
      "Huckleberry\n",
      "     accuracy – 100.0 %\n",
      "Cherry Wax Yellow\n",
      "     accuracy – 100.0 %\n",
      "Physalis with Husk\n",
      "     accuracy – 93.29 %\n",
      "Dates\n",
      "     accuracy – 76.73 %\n",
      "Clementine\n",
      "     accuracy – 100.0 %\n"
     ]
    }
   ],
   "source": [
    "for idx in range(num_categories):\n",
    "    accuracy = res_crosstab.loc[idx, idx] / res_crosstab.loc[:, idx].sum()\n",
    "    flag = '***LOW***' if accuracy < 0.75 else ''\n",
    "    print(dict_idx_fruit[idx])\n",
    "    print('   ', flag, 'accuracy –', round(accuracy * 100, 2), '%')"
   ]
  },
  {
   "cell_type": "markdown",
   "metadata": {
    "_uuid": "6d2e4882e77f31b0b2165206d6ca924f5d69b526"
   },
   "source": [
    "## Conclusion\n",
    "\n",
    "The final CNN model is performing ~10% better than the initial model, with a validation accuracy of 91% and training accuracy of 100%. There is slight overfitting (9%), but much less than in the original model.\n",
    "\n",
    "Looking at the crosstab by category, it is obvious that most fruits are being predicted accurately, with a handful (e.g. nectarines, granadillas) that are more difficult to distinguish and thus bringing the accuracy of the overall model down. In the future, we could add more images to train on pairs of fruits that are being mistaken for each other (i.e. nectarines vs. apple red 1s, apple golden 3s vs. apple granny smiths, etc.).\n",
    "\n",
    "Could also do TensorBoard visualizations to visualize model performance, but Kaggle GPU was limiting factor in this realm."
   ]
  },
  {
   "cell_type": "code",
   "execution_count": null,
   "metadata": {},
   "outputs": [],
   "source": []
  }
 ],
 "metadata": {
  "kernelspec": {
   "display_name": "Python 3",
   "language": "python",
   "name": "python3"
  },
  "language_info": {
   "codemirror_mode": {
    "name": "ipython",
    "version": 3
   },
   "file_extension": ".py",
   "mimetype": "text/x-python",
   "name": "python",
   "nbconvert_exporter": "python",
   "pygments_lexer": "ipython3",
   "version": "3.6.5"
  }
 },
 "nbformat": 4,
 "nbformat_minor": 2
}
